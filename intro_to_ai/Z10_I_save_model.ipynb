{
 "cells": [
  {
   "cell_type": "code",
   "execution_count": 11,
   "metadata": {},
   "outputs": [
    {
     "name": "stdout",
     "output_type": "stream",
     "text": [
      "2.11.0\n",
      "2.11.0\n"
     ]
    }
   ],
   "source": [
    "import tensorflow as tf\n",
    "from tensorflow import keras\n",
    "print(tf.__version__)\n",
    "\n",
    "print(keras.__version__)"
   ]
  },
  {
   "cell_type": "code",
   "execution_count": 12,
   "metadata": {},
   "outputs": [],
   "source": [
    "import numpy as np\n",
    "import pandas as pd\n",
    "import matplotlib.pyplot as plt\n",
    "import os"
   ]
  },
  {
   "cell_type": "code",
   "execution_count": 13,
   "metadata": {},
   "outputs": [
    {
     "name": "stderr",
     "output_type": "stream",
     "text": [
      "/var/folders/zy/jl2rn8kj7cx0g35_dvq0zksh0000gn/T/ipykernel_43726/1127659990.py:6: ParserWarning: Falling back to the 'python' engine because the 'c' engine does not support regex separators (separators > 1 char and different from '\\s+' are interpreted as regex); you can avoid this warning by specifying engine='python'.\n",
      "  train_set = pd.read_csv('adult.data', sep=\", \",header = None)\n",
      "/var/folders/zy/jl2rn8kj7cx0g35_dvq0zksh0000gn/T/ipykernel_43726/1127659990.py:7: ParserWarning: Falling back to the 'python' engine because the 'c' engine does not support regex separators (separators > 1 char and different from '\\s+' are interpreted as regex); you can avoid this warning by specifying engine='python'.\n",
      "  test_set = pd.read_csv('adult.test', sep=\", \",skiprows = 1, header = None) # Make sure to skip a row for the test set\n"
     ]
    },
    {
     "data": {
      "text/html": [
       "<div>\n",
       "<style scoped>\n",
       "    .dataframe tbody tr th:only-of-type {\n",
       "        vertical-align: middle;\n",
       "    }\n",
       "\n",
       "    .dataframe tbody tr th {\n",
       "        vertical-align: top;\n",
       "    }\n",
       "\n",
       "    .dataframe thead th {\n",
       "        text-align: right;\n",
       "    }\n",
       "</style>\n",
       "<table border=\"1\" class=\"dataframe\">\n",
       "  <thead>\n",
       "    <tr style=\"text-align: right;\">\n",
       "      <th></th>\n",
       "      <th>age</th>\n",
       "      <th>workclass</th>\n",
       "      <th>fnlwgt</th>\n",
       "      <th>education</th>\n",
       "      <th>education_num</th>\n",
       "      <th>marital_status</th>\n",
       "      <th>occupation</th>\n",
       "      <th>relationship</th>\n",
       "      <th>race</th>\n",
       "      <th>sex</th>\n",
       "      <th>capital_gain</th>\n",
       "      <th>capital_loss</th>\n",
       "      <th>hours_per_week</th>\n",
       "      <th>native_country</th>\n",
       "      <th>wage_class</th>\n",
       "    </tr>\n",
       "  </thead>\n",
       "  <tbody>\n",
       "    <tr>\n",
       "      <th>0</th>\n",
       "      <td>39</td>\n",
       "      <td>State-gov</td>\n",
       "      <td>77516</td>\n",
       "      <td>Bachelors</td>\n",
       "      <td>13</td>\n",
       "      <td>Never-married</td>\n",
       "      <td>Adm-clerical</td>\n",
       "      <td>Not-in-family</td>\n",
       "      <td>White</td>\n",
       "      <td>Male</td>\n",
       "      <td>2174</td>\n",
       "      <td>0</td>\n",
       "      <td>40</td>\n",
       "      <td>United-States</td>\n",
       "      <td>&lt;=50K</td>\n",
       "    </tr>\n",
       "    <tr>\n",
       "      <th>1</th>\n",
       "      <td>50</td>\n",
       "      <td>Self-emp-not-inc</td>\n",
       "      <td>83311</td>\n",
       "      <td>Bachelors</td>\n",
       "      <td>13</td>\n",
       "      <td>Married-civ-spouse</td>\n",
       "      <td>Exec-managerial</td>\n",
       "      <td>Husband</td>\n",
       "      <td>White</td>\n",
       "      <td>Male</td>\n",
       "      <td>0</td>\n",
       "      <td>0</td>\n",
       "      <td>13</td>\n",
       "      <td>United-States</td>\n",
       "      <td>&lt;=50K</td>\n",
       "    </tr>\n",
       "    <tr>\n",
       "      <th>2</th>\n",
       "      <td>38</td>\n",
       "      <td>Private</td>\n",
       "      <td>215646</td>\n",
       "      <td>HS-grad</td>\n",
       "      <td>9</td>\n",
       "      <td>Divorced</td>\n",
       "      <td>Handlers-cleaners</td>\n",
       "      <td>Not-in-family</td>\n",
       "      <td>White</td>\n",
       "      <td>Male</td>\n",
       "      <td>0</td>\n",
       "      <td>0</td>\n",
       "      <td>40</td>\n",
       "      <td>United-States</td>\n",
       "      <td>&lt;=50K</td>\n",
       "    </tr>\n",
       "    <tr>\n",
       "      <th>3</th>\n",
       "      <td>53</td>\n",
       "      <td>Private</td>\n",
       "      <td>234721</td>\n",
       "      <td>11th</td>\n",
       "      <td>7</td>\n",
       "      <td>Married-civ-spouse</td>\n",
       "      <td>Handlers-cleaners</td>\n",
       "      <td>Husband</td>\n",
       "      <td>Black</td>\n",
       "      <td>Male</td>\n",
       "      <td>0</td>\n",
       "      <td>0</td>\n",
       "      <td>40</td>\n",
       "      <td>United-States</td>\n",
       "      <td>&lt;=50K</td>\n",
       "    </tr>\n",
       "    <tr>\n",
       "      <th>4</th>\n",
       "      <td>28</td>\n",
       "      <td>Private</td>\n",
       "      <td>338409</td>\n",
       "      <td>Bachelors</td>\n",
       "      <td>13</td>\n",
       "      <td>Married-civ-spouse</td>\n",
       "      <td>Prof-specialty</td>\n",
       "      <td>Wife</td>\n",
       "      <td>Black</td>\n",
       "      <td>Female</td>\n",
       "      <td>0</td>\n",
       "      <td>0</td>\n",
       "      <td>40</td>\n",
       "      <td>Cuba</td>\n",
       "      <td>&lt;=50K</td>\n",
       "    </tr>\n",
       "  </tbody>\n",
       "</table>\n",
       "</div>"
      ],
      "text/plain": [
       "   age         workclass  fnlwgt  education  education_num  \\\n",
       "0   39         State-gov   77516  Bachelors             13   \n",
       "1   50  Self-emp-not-inc   83311  Bachelors             13   \n",
       "2   38           Private  215646    HS-grad              9   \n",
       "3   53           Private  234721       11th              7   \n",
       "4   28           Private  338409  Bachelors             13   \n",
       "\n",
       "       marital_status         occupation   relationship   race     sex  \\\n",
       "0       Never-married       Adm-clerical  Not-in-family  White    Male   \n",
       "1  Married-civ-spouse    Exec-managerial        Husband  White    Male   \n",
       "2            Divorced  Handlers-cleaners  Not-in-family  White    Male   \n",
       "3  Married-civ-spouse  Handlers-cleaners        Husband  Black    Male   \n",
       "4  Married-civ-spouse     Prof-specialty           Wife  Black  Female   \n",
       "\n",
       "   capital_gain  capital_loss  hours_per_week native_country wage_class  \n",
       "0          2174             0              40  United-States      <=50K  \n",
       "1             0             0              13  United-States      <=50K  \n",
       "2             0             0              40  United-States      <=50K  \n",
       "3             0             0              40  United-States      <=50K  \n",
       "4             0             0              40           Cuba      <=50K  "
      ]
     },
     "execution_count": 13,
     "metadata": {},
     "output_type": "execute_result"
    }
   ],
   "source": [
    "# Wczytaj dane treningowe i testowe\n",
    "import numpy as np\n",
    "import matplotlib.pyplot as plt\n",
    "import pandas as pd\n",
    "\n",
    "train_set = pd.read_csv('adult.data', sep=\", \",header = None)\n",
    "test_set = pd.read_csv('adult.test', sep=\", \",skiprows = 1, header = None) # Make sure to skip a row for the test set\n",
    "\n",
    "col_labels = ['age', 'workclass', 'fnlwgt', 'education', 'education_num', 'marital_status', 'occupation', \n",
    "              'relationship', 'race', 'sex', 'capital_gain', 'capital_loss', 'hours_per_week', 'native_country',\n",
    "             'wage_class']\n",
    "train_set.columns = col_labels\n",
    "test_set.columns = col_labels\n",
    "\n",
    "train = train_set.replace('?', np.nan).dropna()\n",
    "test = test_set.replace('?', np.nan).dropna()\n",
    "\n",
    "train_set.head()\n"
   ]
  },
  {
   "cell_type": "markdown",
   "metadata": {},
   "source": [
    "# Zad.\n",
    "Zróbmy szybki preprocesing"
   ]
  },
  {
   "cell_type": "code",
   "execution_count": 14,
   "metadata": {},
   "outputs": [],
   "source": [
    "dataset = pd.concat([train,test])\n",
    "\n",
    "dataset['wage_class'] = dataset.wage_class.replace({'<=50K.': 0,'<=50K':0, '>50K.':1, '>50K':1})\n",
    "\n",
    "dataset.drop([\"fnlwgt\"],axis=1,inplace=True)\n",
    "\n",
    "dataset.drop([\"education\"],axis=1,inplace=True)\n",
    "\n",
    "x = dataset.groupby('native_country')[\"wage_class\"].mean()\n",
    "\n",
    "d = dict(pd.cut(x[x.index!=\" United-States\"],5,labels=range(5)))\n",
    "\n",
    "dataset['native_country'] = dataset['native_country'].replace(d)\n",
    "\n",
    "dataset = pd.get_dummies(dataset,drop_first=True)\n",
    "\n",
    "train = dataset.iloc[:train.shape[0]]\n",
    "test = dataset.iloc[train.shape[0]:]\n",
    "\n",
    "X_train = train.drop(\"wage_class\",axis=1)\n",
    "y_train = train.wage_class\n",
    "\n",
    "X_test = test.drop(\"wage_class\",axis=1)\n",
    "y_test = test.wage_class\n",
    "\n",
    "X_test = np.asarray(X_test).astype('float32')\n",
    "y_test = np.asarray(y_test).astype('float32')\n",
    "X_train = np.asarray(X_train).astype('float32')\n",
    "y_train = np.asarray(y_train).astype('float32')"
   ]
  },
  {
   "cell_type": "code",
   "execution_count": 15,
   "metadata": {},
   "outputs": [],
   "source": [
    "from keras.callbacks import ModelCheckpoint"
   ]
  },
  {
   "cell_type": "code",
   "execution_count": null,
   "metadata": {},
   "outputs": [],
   "source": []
  },
  {
   "cell_type": "code",
   "execution_count": 16,
   "metadata": {},
   "outputs": [
    {
     "name": "stdout",
     "output_type": "stream",
     "text": [
      "Model: \"sequential_1\"\n",
      "_________________________________________________________________\n",
      " Layer (type)                Output Shape              Param #   \n",
      "=================================================================\n",
      " dense_4 (Dense)             (None, 100)               4200      \n",
      "                                                                 \n",
      " dense_5 (Dense)             (None, 50)                5050      \n",
      "                                                                 \n",
      " dense_6 (Dense)             (None, 10)                510       \n",
      "                                                                 \n",
      " dense_7 (Dense)             (None, 1)                 11        \n",
      "                                                                 \n",
      "=================================================================\n",
      "Total params: 9,771\n",
      "Trainable params: 9,771\n",
      "Non-trainable params: 0\n",
      "_________________________________________________________________\n"
     ]
    }
   ],
   "source": [
    "from keras.models import Sequential\n",
    "from keras.layers import Dense\n",
    "\n",
    "from keras.callbacks import History\n",
    "\n",
    "history = History()\n",
    "model = Sequential()\n",
    "model.add(Dense(100,activation=\"sigmoid\",input_shape=(X_train.shape[1],)))\n",
    "model.add(Dense(50,activation=\"sigmoid\"))\n",
    "model.add(Dense(10,activation=\"sigmoid\"))\n",
    "model.add(Dense(1,activation=\"sigmoid\"))\n",
    "model.summary()"
   ]
  },
  {
   "cell_type": "code",
   "execution_count": 17,
   "metadata": {},
   "outputs": [],
   "source": [
    "save_best_model = ModelCheckpoint(\"wagi_best.h5py\",save_best_only=True)\n",
    "model.compile(loss=\"binary_crossentropy\",optimizer=\"Adam\", metrics=[\"accuracy\"])"
   ]
  },
  {
   "cell_type": "code",
   "execution_count": 18,
   "metadata": {},
   "outputs": [
    {
     "name": "stdout",
     "output_type": "stream",
     "text": [
      "Epoch 1/100\n",
      "883/943 [===========================>..] - ETA: 0s - loss: 0.4278 - accuracy: 0.7925"
     ]
    },
    {
     "name": "stderr",
     "output_type": "stream",
     "text": [
      "WARNING:absl:Found untraced functions such as _update_step_xla while saving (showing 1 of 1). These functions will not be directly callable after loading.\n"
     ]
    },
    {
     "name": "stdout",
     "output_type": "stream",
     "text": [
      "INFO:tensorflow:Assets written to: wagi_best.h5py/assets\n"
     ]
    },
    {
     "name": "stderr",
     "output_type": "stream",
     "text": [
      "INFO:tensorflow:Assets written to: wagi_best.h5py/assets\n"
     ]
    },
    {
     "name": "stdout",
     "output_type": "stream",
     "text": [
      "943/943 [==============================] - 2s 1ms/step - loss: 0.4248 - accuracy: 0.7932 - val_loss: 0.3751 - val_accuracy: 0.8131\n",
      "Epoch 2/100\n",
      "943/943 [==============================] - 1s 927us/step - loss: 0.3762 - accuracy: 0.8112 - val_loss: 0.3806 - val_accuracy: 0.8045\n",
      "Epoch 3/100\n",
      "905/943 [===========================>..] - ETA: 0s - loss: 0.3743 - accuracy: 0.8126"
     ]
    },
    {
     "name": "stderr",
     "output_type": "stream",
     "text": [
      "WARNING:absl:Found untraced functions such as _update_step_xla while saving (showing 1 of 1). These functions will not be directly callable after loading.\n"
     ]
    },
    {
     "name": "stdout",
     "output_type": "stream",
     "text": [
      "INFO:tensorflow:Assets written to: wagi_best.h5py/assets\n"
     ]
    },
    {
     "name": "stderr",
     "output_type": "stream",
     "text": [
      "INFO:tensorflow:Assets written to: wagi_best.h5py/assets\n"
     ]
    },
    {
     "name": "stdout",
     "output_type": "stream",
     "text": [
      "943/943 [==============================] - 1s 1ms/step - loss: 0.3740 - accuracy: 0.8128 - val_loss: 0.3662 - val_accuracy: 0.8175\n",
      "Epoch 4/100\n",
      "943/943 [==============================] - 1s 923us/step - loss: 0.3713 - accuracy: 0.8137 - val_loss: 0.3704 - val_accuracy: 0.8113\n",
      "Epoch 5/100\n",
      "943/943 [==============================] - 1s 936us/step - loss: 0.3727 - accuracy: 0.8120 - val_loss: 0.3673 - val_accuracy: 0.8149\n",
      "Epoch 6/100\n",
      "892/943 [===========================>..] - ETA: 0s - loss: 0.3650 - accuracy: 0.8221"
     ]
    },
    {
     "name": "stderr",
     "output_type": "stream",
     "text": [
      "WARNING:absl:Found untraced functions such as _update_step_xla while saving (showing 1 of 1). These functions will not be directly callable after loading.\n"
     ]
    },
    {
     "name": "stdout",
     "output_type": "stream",
     "text": [
      "INFO:tensorflow:Assets written to: wagi_best.h5py/assets\n"
     ]
    },
    {
     "name": "stderr",
     "output_type": "stream",
     "text": [
      "INFO:tensorflow:Assets written to: wagi_best.h5py/assets\n"
     ]
    },
    {
     "name": "stdout",
     "output_type": "stream",
     "text": [
      "943/943 [==============================] - 1s 1ms/step - loss: 0.3642 - accuracy: 0.8223 - val_loss: 0.3511 - val_accuracy: 0.8319\n",
      "Epoch 7/100\n",
      "943/943 [==============================] - 1s 924us/step - loss: 0.3548 - accuracy: 0.8283 - val_loss: 0.3569 - val_accuracy: 0.8252\n",
      "Epoch 8/100\n",
      "943/943 [==============================] - 1s 919us/step - loss: 0.3550 - accuracy: 0.8287 - val_loss: 0.3580 - val_accuracy: 0.8240\n",
      "Epoch 9/100\n",
      "943/943 [==============================] - 1s 939us/step - loss: 0.3665 - accuracy: 0.8176 - val_loss: 0.3812 - val_accuracy: 0.8009\n",
      "Epoch 10/100\n",
      "943/943 [==============================] - 1s 978us/step - loss: 0.3728 - accuracy: 0.8115 - val_loss: 0.3735 - val_accuracy: 0.7972\n",
      "Epoch 11/100\n",
      "943/943 [==============================] - 1s 930us/step - loss: 0.3732 - accuracy: 0.8115 - val_loss: 0.3763 - val_accuracy: 0.8037\n",
      "Epoch 12/100\n",
      "943/943 [==============================] - 1s 915us/step - loss: 0.3717 - accuracy: 0.8128 - val_loss: 0.3654 - val_accuracy: 0.8153\n",
      "Epoch 13/100\n",
      "943/943 [==============================] - 1s 914us/step - loss: 0.3706 - accuracy: 0.8111 - val_loss: 0.3678 - val_accuracy: 0.8101\n",
      "Epoch 14/100\n",
      "943/943 [==============================] - 1s 914us/step - loss: 0.3682 - accuracy: 0.8149 - val_loss: 0.3648 - val_accuracy: 0.8165\n",
      "Epoch 15/100\n",
      "943/943 [==============================] - 1s 917us/step - loss: 0.3680 - accuracy: 0.8164 - val_loss: 0.3797 - val_accuracy: 0.8021\n",
      "Epoch 16/100\n",
      "943/943 [==============================] - 1s 914us/step - loss: 0.3667 - accuracy: 0.8147 - val_loss: 0.3668 - val_accuracy: 0.8134\n",
      "Epoch 17/100\n",
      "943/943 [==============================] - 1s 917us/step - loss: 0.3680 - accuracy: 0.8136 - val_loss: 0.3687 - val_accuracy: 0.8098\n",
      "Epoch 18/100\n",
      "943/943 [==============================] - 1s 919us/step - loss: 0.3663 - accuracy: 0.8146 - val_loss: 0.3680 - val_accuracy: 0.8163\n",
      "Epoch 19/100\n",
      "943/943 [==============================] - 1s 913us/step - loss: 0.3677 - accuracy: 0.8155 - val_loss: 0.3724 - val_accuracy: 0.8153\n",
      "Epoch 20/100\n",
      "943/943 [==============================] - 1s 914us/step - loss: 0.3669 - accuracy: 0.8147 - val_loss: 0.3632 - val_accuracy: 0.8161\n",
      "Epoch 21/100\n",
      "943/943 [==============================] - 1s 922us/step - loss: 0.3665 - accuracy: 0.8162 - val_loss: 0.3640 - val_accuracy: 0.8177\n",
      "Epoch 22/100\n",
      "943/943 [==============================] - 1s 918us/step - loss: 0.3654 - accuracy: 0.8148 - val_loss: 0.3697 - val_accuracy: 0.8088\n",
      "Epoch 23/100\n",
      "943/943 [==============================] - 1s 911us/step - loss: 0.3649 - accuracy: 0.8167 - val_loss: 0.3626 - val_accuracy: 0.8171\n",
      "Epoch 24/100\n",
      "943/943 [==============================] - 1s 916us/step - loss: 0.3644 - accuracy: 0.8150 - val_loss: 0.3645 - val_accuracy: 0.8169\n",
      "Epoch 25/100\n",
      "943/943 [==============================] - 1s 912us/step - loss: 0.3663 - accuracy: 0.8151 - val_loss: 0.3839 - val_accuracy: 0.7989\n",
      "Epoch 26/100\n",
      "943/943 [==============================] - 1s 912us/step - loss: 0.3650 - accuracy: 0.8138 - val_loss: 0.3653 - val_accuracy: 0.8133\n",
      "Epoch 27/100\n",
      "943/943 [==============================] - 1s 911us/step - loss: 0.3643 - accuracy: 0.8160 - val_loss: 0.3622 - val_accuracy: 0.8158\n",
      "Epoch 28/100\n",
      "943/943 [==============================] - 1s 922us/step - loss: 0.3643 - accuracy: 0.8157 - val_loss: 0.3622 - val_accuracy: 0.8161\n",
      "Epoch 29/100\n",
      "943/943 [==============================] - 1s 918us/step - loss: 0.3624 - accuracy: 0.8178 - val_loss: 0.3619 - val_accuracy: 0.8177\n",
      "Epoch 30/100\n",
      "943/943 [==============================] - 1s 917us/step - loss: 0.3627 - accuracy: 0.8169 - val_loss: 0.3627 - val_accuracy: 0.8198\n",
      "Epoch 31/100\n",
      "943/943 [==============================] - 1s 917us/step - loss: 0.3614 - accuracy: 0.8162 - val_loss: 0.3633 - val_accuracy: 0.8159\n",
      "Epoch 32/100\n",
      "943/943 [==============================] - 1s 944us/step - loss: 0.3629 - accuracy: 0.8162 - val_loss: 0.3737 - val_accuracy: 0.8078\n",
      "Epoch 33/100\n",
      "943/943 [==============================] - 1s 996us/step - loss: 0.3634 - accuracy: 0.8160 - val_loss: 0.3663 - val_accuracy: 0.7989\n",
      "Epoch 34/100\n",
      "943/943 [==============================] - 1s 963us/step - loss: 0.3644 - accuracy: 0.8170 - val_loss: 0.3803 - val_accuracy: 0.8037\n",
      "Epoch 35/100\n",
      "943/943 [==============================] - 1s 925us/step - loss: 0.3696 - accuracy: 0.8155 - val_loss: 0.3824 - val_accuracy: 0.8052\n",
      "Epoch 36/100\n",
      "943/943 [==============================] - 1s 930us/step - loss: 0.3670 - accuracy: 0.8135 - val_loss: 0.3672 - val_accuracy: 0.7961\n",
      "Epoch 37/100\n",
      "943/943 [==============================] - 1s 929us/step - loss: 0.3654 - accuracy: 0.8157 - val_loss: 0.3727 - val_accuracy: 0.8115\n",
      "Epoch 38/100\n",
      "943/943 [==============================] - 1s 945us/step - loss: 0.3664 - accuracy: 0.8149 - val_loss: 0.3731 - val_accuracy: 0.8153\n",
      "Epoch 39/100\n",
      "943/943 [==============================] - 1s 933us/step - loss: 0.3644 - accuracy: 0.8156 - val_loss: 0.3644 - val_accuracy: 0.8160\n",
      "Epoch 40/100\n",
      "943/943 [==============================] - 1s 926us/step - loss: 0.3627 - accuracy: 0.8175 - val_loss: 0.3791 - val_accuracy: 0.8038\n",
      "Epoch 41/100\n",
      "943/943 [==============================] - 1s 930us/step - loss: 0.3620 - accuracy: 0.8169 - val_loss: 0.3638 - val_accuracy: 0.8165\n",
      "Epoch 42/100\n",
      "943/943 [==============================] - 1s 921us/step - loss: 0.3694 - accuracy: 0.8142 - val_loss: 0.3848 - val_accuracy: 0.8048\n",
      "Epoch 43/100\n",
      "943/943 [==============================] - 1s 928us/step - loss: 0.3690 - accuracy: 0.8141 - val_loss: 0.3676 - val_accuracy: 0.8168\n",
      "Epoch 44/100\n",
      "943/943 [==============================] - 1s 931us/step - loss: 0.3663 - accuracy: 0.8162 - val_loss: 0.3649 - val_accuracy: 0.8181\n",
      "Epoch 45/100\n",
      "943/943 [==============================] - 1s 936us/step - loss: 0.3643 - accuracy: 0.8169 - val_loss: 0.3649 - val_accuracy: 0.8169\n",
      "Epoch 46/100\n",
      "943/943 [==============================] - 1s 930us/step - loss: 0.3621 - accuracy: 0.8183 - val_loss: 0.3676 - val_accuracy: 0.8169\n",
      "Epoch 47/100\n",
      "943/943 [==============================] - 1s 928us/step - loss: 0.3620 - accuracy: 0.8174 - val_loss: 0.3652 - val_accuracy: 0.8187\n",
      "Epoch 48/100\n",
      "943/943 [==============================] - 1s 931us/step - loss: 0.3619 - accuracy: 0.8182 - val_loss: 0.3641 - val_accuracy: 0.8180\n",
      "Epoch 49/100\n",
      "943/943 [==============================] - 1s 934us/step - loss: 0.3722 - accuracy: 0.8132 - val_loss: 0.3664 - val_accuracy: 0.8199\n",
      "Epoch 50/100\n",
      "943/943 [==============================] - 1s 923us/step - loss: 0.3671 - accuracy: 0.8158 - val_loss: 0.3761 - val_accuracy: 0.8102\n",
      "Epoch 51/100\n",
      "943/943 [==============================] - 1s 936us/step - loss: 0.3662 - accuracy: 0.8139 - val_loss: 0.3663 - val_accuracy: 0.8155\n",
      "Epoch 52/100\n",
      "943/943 [==============================] - 1s 922us/step - loss: 0.3932 - accuracy: 0.8021 - val_loss: 0.3658 - val_accuracy: 0.8184\n",
      "Epoch 53/100\n",
      "943/943 [==============================] - 1s 922us/step - loss: 0.3660 - accuracy: 0.8155 - val_loss: 0.3657 - val_accuracy: 0.8178\n",
      "Epoch 54/100\n",
      "943/943 [==============================] - 1s 936us/step - loss: 0.3631 - accuracy: 0.8163 - val_loss: 0.3710 - val_accuracy: 0.8106\n",
      "Epoch 55/100\n",
      "943/943 [==============================] - 1s 921us/step - loss: 0.3672 - accuracy: 0.8154 - val_loss: 0.3846 - val_accuracy: 0.8088\n",
      "Epoch 56/100\n",
      "943/943 [==============================] - 1s 929us/step - loss: 0.3662 - accuracy: 0.8146 - val_loss: 0.3659 - val_accuracy: 0.8138\n",
      "Epoch 57/100\n",
      "943/943 [==============================] - 1s 931us/step - loss: 0.3655 - accuracy: 0.8166 - val_loss: 0.3634 - val_accuracy: 0.8166\n",
      "Epoch 58/100\n",
      "943/943 [==============================] - 1s 933us/step - loss: 0.3623 - accuracy: 0.8178 - val_loss: 0.3716 - val_accuracy: 0.8094\n",
      "Epoch 59/100\n",
      "943/943 [==============================] - 1s 925us/step - loss: 0.3696 - accuracy: 0.8140 - val_loss: 0.3717 - val_accuracy: 0.8163\n",
      "Epoch 60/100\n",
      "943/943 [==============================] - 1s 927us/step - loss: 0.3674 - accuracy: 0.8165 - val_loss: 0.3641 - val_accuracy: 0.8158\n",
      "Epoch 61/100\n",
      "943/943 [==============================] - 1s 922us/step - loss: 0.3640 - accuracy: 0.8161 - val_loss: 0.3710 - val_accuracy: 0.8187\n",
      "Epoch 62/100\n",
      "943/943 [==============================] - 1s 911us/step - loss: 0.3644 - accuracy: 0.8171 - val_loss: 0.3687 - val_accuracy: 0.8128\n",
      "Epoch 63/100\n",
      "943/943 [==============================] - 1s 905us/step - loss: 0.3626 - accuracy: 0.8166 - val_loss: 0.3718 - val_accuracy: 0.8119\n",
      "Epoch 64/100\n",
      "943/943 [==============================] - 1s 910us/step - loss: 0.3627 - accuracy: 0.8169 - val_loss: 0.3710 - val_accuracy: 0.8073\n",
      "Epoch 65/100\n",
      "943/943 [==============================] - 1s 907us/step - loss: 0.3618 - accuracy: 0.8156 - val_loss: 0.3638 - val_accuracy: 0.8155\n",
      "Epoch 66/100\n",
      "943/943 [==============================] - 1s 907us/step - loss: 0.3610 - accuracy: 0.8176 - val_loss: 0.3613 - val_accuracy: 0.8183\n",
      "Epoch 67/100\n",
      "943/943 [==============================] - 1s 909us/step - loss: 0.3607 - accuracy: 0.8201 - val_loss: 0.3585 - val_accuracy: 0.8176\n",
      "Epoch 68/100\n",
      "943/943 [==============================] - 1s 910us/step - loss: 0.3576 - accuracy: 0.8209 - val_loss: 0.3587 - val_accuracy: 0.8224\n",
      "Epoch 69/100\n",
      "943/943 [==============================] - 1s 911us/step - loss: 0.3577 - accuracy: 0.8200 - val_loss: 0.3632 - val_accuracy: 0.8174\n",
      "Epoch 70/100\n",
      "943/943 [==============================] - 1s 906us/step - loss: 0.3574 - accuracy: 0.8231 - val_loss: 0.3623 - val_accuracy: 0.8341\n",
      "Epoch 71/100\n",
      "943/943 [==============================] - 1s 914us/step - loss: 0.3534 - accuracy: 0.8259 - val_loss: 0.3619 - val_accuracy: 0.8170\n",
      "Epoch 72/100\n",
      "943/943 [==============================] - 1s 949us/step - loss: 0.3622 - accuracy: 0.8258 - val_loss: 0.3577 - val_accuracy: 0.8244\n",
      "Epoch 73/100\n",
      "943/943 [==============================] - 1s 937us/step - loss: 0.3541 - accuracy: 0.8294 - val_loss: 0.3552 - val_accuracy: 0.8281\n",
      "Epoch 74/100\n",
      "943/943 [==============================] - 1s 952us/step - loss: 0.3526 - accuracy: 0.8275 - val_loss: 0.3677 - val_accuracy: 0.8223\n",
      "Epoch 75/100\n",
      "943/943 [==============================] - 1s 936us/step - loss: 0.3648 - accuracy: 0.8203 - val_loss: 0.3719 - val_accuracy: 0.8107\n",
      "Epoch 76/100\n",
      "943/943 [==============================] - 1s 976us/step - loss: 0.3714 - accuracy: 0.8141 - val_loss: 0.3880 - val_accuracy: 0.7917\n",
      "Epoch 77/100\n",
      "943/943 [==============================] - 1s 927us/step - loss: 0.3710 - accuracy: 0.8105 - val_loss: 0.3712 - val_accuracy: 0.8117\n",
      "Epoch 78/100\n",
      "943/943 [==============================] - 1s 917us/step - loss: 0.3805 - accuracy: 0.8124 - val_loss: 0.3997 - val_accuracy: 0.7922\n",
      "Epoch 79/100\n",
      "943/943 [==============================] - 1s 912us/step - loss: 0.3753 - accuracy: 0.8086 - val_loss: 0.3754 - val_accuracy: 0.8165\n",
      "Epoch 80/100\n",
      "943/943 [==============================] - 1s 912us/step - loss: 0.3666 - accuracy: 0.8172 - val_loss: 0.3687 - val_accuracy: 0.8180\n",
      "Epoch 81/100\n",
      "943/943 [==============================] - 1s 913us/step - loss: 0.3635 - accuracy: 0.8167 - val_loss: 0.3677 - val_accuracy: 0.8185\n",
      "Epoch 82/100\n",
      "943/943 [==============================] - 1s 912us/step - loss: 0.3621 - accuracy: 0.8167 - val_loss: 0.3675 - val_accuracy: 0.8158\n",
      "Epoch 83/100\n",
      "943/943 [==============================] - 1s 892us/step - loss: 0.3622 - accuracy: 0.8178 - val_loss: 0.3741 - val_accuracy: 0.8149\n",
      "Epoch 84/100\n",
      "943/943 [==============================] - 1s 930us/step - loss: 0.3623 - accuracy: 0.8178 - val_loss: 0.3658 - val_accuracy: 0.8142\n",
      "Epoch 85/100\n",
      "943/943 [==============================] - 1s 917us/step - loss: 0.3684 - accuracy: 0.8138 - val_loss: 0.3720 - val_accuracy: 0.7947\n",
      "Epoch 86/100\n",
      "943/943 [==============================] - 1s 912us/step - loss: 0.3709 - accuracy: 0.8113 - val_loss: 0.3700 - val_accuracy: 0.8145\n",
      "Epoch 87/100\n",
      "943/943 [==============================] - 1s 915us/step - loss: 0.3708 - accuracy: 0.8115 - val_loss: 0.3750 - val_accuracy: 0.8072\n",
      "Epoch 88/100\n",
      "943/943 [==============================] - 1s 917us/step - loss: 0.3685 - accuracy: 0.8155 - val_loss: 0.3720 - val_accuracy: 0.8100\n",
      "Epoch 89/100\n",
      "943/943 [==============================] - 1s 913us/step - loss: 0.4043 - accuracy: 0.8017 - val_loss: 0.3827 - val_accuracy: 0.8062\n",
      "Epoch 90/100\n",
      "943/943 [==============================] - 1s 920us/step - loss: 0.3735 - accuracy: 0.8119 - val_loss: 0.3715 - val_accuracy: 0.8153\n",
      "Epoch 91/100\n",
      "943/943 [==============================] - 1s 918us/step - loss: 0.3920 - accuracy: 0.8051 - val_loss: 0.3789 - val_accuracy: 0.8129\n",
      "Epoch 92/100\n",
      "943/943 [==============================] - 1s 924us/step - loss: 0.3730 - accuracy: 0.8128 - val_loss: 0.3742 - val_accuracy: 0.8118\n",
      "Epoch 93/100\n",
      "943/943 [==============================] - 1s 917us/step - loss: 0.3672 - accuracy: 0.8160 - val_loss: 0.3810 - val_accuracy: 0.8035\n",
      "Epoch 94/100\n",
      "943/943 [==============================] - 1s 920us/step - loss: 0.3656 - accuracy: 0.8166 - val_loss: 0.3729 - val_accuracy: 0.8074\n",
      "Epoch 95/100\n",
      "943/943 [==============================] - 1s 919us/step - loss: 0.3645 - accuracy: 0.8157 - val_loss: 0.3690 - val_accuracy: 0.8112\n",
      "Epoch 96/100\n",
      "943/943 [==============================] - 1s 916us/step - loss: 0.3647 - accuracy: 0.8158 - val_loss: 0.3666 - val_accuracy: 0.8151\n",
      "Epoch 97/100\n",
      "943/943 [==============================] - 1s 919us/step - loss: 0.3630 - accuracy: 0.8161 - val_loss: 0.3668 - val_accuracy: 0.8144\n",
      "Epoch 98/100\n",
      "943/943 [==============================] - 1s 919us/step - loss: 0.3614 - accuracy: 0.8188 - val_loss: 0.3637 - val_accuracy: 0.8171\n",
      "Epoch 99/100\n",
      "943/943 [==============================] - 1s 946us/step - loss: 0.3613 - accuracy: 0.8197 - val_loss: 0.3562 - val_accuracy: 0.8262\n",
      "Epoch 100/100\n",
      "943/943 [==============================] - 1s 948us/step - loss: 0.3583 - accuracy: 0.8239 - val_loss: 0.3738 - val_accuracy: 0.8315\n"
     ]
    }
   ],
   "source": [
    "save_best_model = ModelCheckpoint(\"wagi_best.h5py\",save_best_only=True)\n",
    "history = model.fit(X_train, y_train, validation_data= (X_test, y_test), batch_size=32,epochs=100, callbacks=[save_best_model])"
   ]
  },
  {
   "cell_type": "code",
   "execution_count": 30,
   "metadata": {},
   "outputs": [
    {
     "name": "stdout",
     "output_type": "stream",
     "text": [
      "WARNING:tensorflow:Detecting that an object or model or tf.train.Checkpoint is being deleted with unrestored values. See the following logs for the specific values in question. To silence these warnings, use `status.expect_partial()`. See https://www.tensorflow.org/api_docs/python/tf/train/Checkpoint#restorefor details about the status object returned by the restore function.\n"
     ]
    },
    {
     "name": "stderr",
     "output_type": "stream",
     "text": [
      "WARNING:tensorflow:Detecting that an object or model or tf.train.Checkpoint is being deleted with unrestored values. See the following logs for the specific values in question. To silence these warnings, use `status.expect_partial()`. See https://www.tensorflow.org/api_docs/python/tf/train/Checkpoint#restorefor details about the status object returned by the restore function.\n"
     ]
    },
    {
     "name": "stdout",
     "output_type": "stream",
     "text": [
      "WARNING:tensorflow:Value in checkpoint could not be found in the restored object: (root).keras_api.metrics.0.total\n"
     ]
    },
    {
     "name": "stderr",
     "output_type": "stream",
     "text": [
      "WARNING:tensorflow:Value in checkpoint could not be found in the restored object: (root).keras_api.metrics.0.total\n"
     ]
    },
    {
     "name": "stdout",
     "output_type": "stream",
     "text": [
      "WARNING:tensorflow:Value in checkpoint could not be found in the restored object: (root).keras_api.metrics.0.count\n"
     ]
    },
    {
     "name": "stderr",
     "output_type": "stream",
     "text": [
      "WARNING:tensorflow:Value in checkpoint could not be found in the restored object: (root).keras_api.metrics.0.count\n"
     ]
    },
    {
     "name": "stdout",
     "output_type": "stream",
     "text": [
      "WARNING:tensorflow:Value in checkpoint could not be found in the restored object: (root).keras_api.metrics.1.total\n"
     ]
    },
    {
     "name": "stderr",
     "output_type": "stream",
     "text": [
      "WARNING:tensorflow:Value in checkpoint could not be found in the restored object: (root).keras_api.metrics.1.total\n"
     ]
    },
    {
     "name": "stdout",
     "output_type": "stream",
     "text": [
      "WARNING:tensorflow:Value in checkpoint could not be found in the restored object: (root).keras_api.metrics.1.count\n"
     ]
    },
    {
     "name": "stderr",
     "output_type": "stream",
     "text": [
      "WARNING:tensorflow:Value in checkpoint could not be found in the restored object: (root).keras_api.metrics.1.count\n"
     ]
    },
    {
     "data": {
      "image/png": "[encoded data removed]",
      "text/plain": [
       "<Figure size 800x500 with 1 Axes>"
      ]
     },
     "metadata": {},
     "output_type": "display_data"
    }
   ],
   "source": [
    "import pandas as pd\n",
    "\n",
    "pd.DataFrame(history.history).plot(figsize=(8, 5))\n",
    "plt.grid(True)\n",
    "plt.gca().set_ylim(0, 1)\n",
    "plt.show()"
   ]
  },
  {
   "cell_type": "code",
   "execution_count": 31,
   "metadata": {},
   "outputs": [
    {
     "name": "stdout",
     "output_type": "stream",
     "text": [
      "313/313 [==============================] - 0s 778us/step - loss: 0.0299 - accuracy: 0.9811\n"
     ]
    },
    {
     "data": {
      "text/plain": [
       "[0.029853597283363342, 0.9811000227928162]"
      ]
     },
     "execution_count": 31,
     "metadata": {},
     "output_type": "execute_result"
    }
   ],
   "source": [
    "model.evaluate(X_test,y_test)"
   ]
  },
  {
   "cell_type": "code",
   "execution_count": 32,
   "metadata": {},
   "outputs": [
    {
     "name": "stdout",
     "output_type": "stream",
     "text": [
      "313/313 [==============================] - 0s 684us/step\n"
     ]
    },
    {
     "ename": "ValueError",
     "evalue": "Classification metrics can't handle a mix of multilabel-indicator and multiclass targets",
     "output_type": "error",
     "traceback": [
      "\u001b[0;31m---------------------------------------------------------------------------\u001b[0m",
      "\u001b[0;31mValueError\u001b[0m                                Traceback (most recent call last)",
      "Cell \u001b[0;32mIn[32], line 2\u001b[0m\n\u001b[1;32m      1\u001b[0m \u001b[38;5;28;01mfrom\u001b[39;00m \u001b[38;5;21;01msklearn\u001b[39;00m \u001b[38;5;28;01mimport\u001b[39;00m  metrics\n\u001b[0;32m----> 2\u001b[0m \u001b[43mmetrics\u001b[49m\u001b[38;5;241;43m.\u001b[39;49m\u001b[43maccuracy_score\u001b[49m\u001b[43m(\u001b[49m\u001b[43my_true\u001b[49m\u001b[38;5;241;43m=\u001b[39;49m\u001b[43m \u001b[49m\u001b[43my_test\u001b[49m\u001b[43m,\u001b[49m\u001b[43m \u001b[49m\u001b[43my_pred\u001b[49m\u001b[43m \u001b[49m\u001b[38;5;241;43m=\u001b[39;49m\u001b[43m \u001b[49m\u001b[43mnp\u001b[49m\u001b[38;5;241;43m.\u001b[39;49m\u001b[43margmax\u001b[49m\u001b[43m(\u001b[49m\u001b[43mmodel\u001b[49m\u001b[38;5;241;43m.\u001b[39;49m\u001b[43mpredict\u001b[49m\u001b[43m(\u001b[49m\u001b[43mX_test\u001b[49m\u001b[43m)\u001b[49m\u001b[43m,\u001b[49m\u001b[43maxis\u001b[49m\u001b[38;5;241;43m=\u001b[39;49m\u001b[38;5;241;43m1\u001b[39;49m\u001b[43m)\u001b[49m\u001b[43m \u001b[49m\u001b[43m)\u001b[49m\n",
      "File \u001b[0;32m~/opt/anaconda3/envs/tf/lib/python3.10/site-packages/sklearn/utils/_param_validation.py:192\u001b[0m, in \u001b[0;36mvalidate_params.<locals>.decorator.<locals>.wrapper\u001b[0;34m(*args, **kwargs)\u001b[0m\n\u001b[1;32m    187\u001b[0m validate_parameter_constraints(\n\u001b[1;32m    188\u001b[0m     parameter_constraints, params, caller_name\u001b[38;5;241m=\u001b[39mfunc\u001b[38;5;241m.\u001b[39m\u001b[38;5;18m__qualname__\u001b[39m\n\u001b[1;32m    189\u001b[0m )\n\u001b[1;32m    191\u001b[0m \u001b[38;5;28;01mtry\u001b[39;00m:\n\u001b[0;32m--> 192\u001b[0m     \u001b[38;5;28;01mreturn\u001b[39;00m \u001b[43mfunc\u001b[49m\u001b[43m(\u001b[49m\u001b[38;5;241;43m*\u001b[39;49m\u001b[43margs\u001b[49m\u001b[43m,\u001b[49m\u001b[43m \u001b[49m\u001b[38;5;241;43m*\u001b[39;49m\u001b[38;5;241;43m*\u001b[39;49m\u001b[43mkwargs\u001b[49m\u001b[43m)\u001b[49m\n\u001b[1;32m    193\u001b[0m \u001b[38;5;28;01mexcept\u001b[39;00m InvalidParameterError \u001b[38;5;28;01mas\u001b[39;00m e:\n\u001b[1;32m    194\u001b[0m     \u001b[38;5;66;03m# When the function is just a wrapper around an estimator, we allow\u001b[39;00m\n\u001b[1;32m    195\u001b[0m     \u001b[38;5;66;03m# the function to delegate validation to the estimator, but we replace\u001b[39;00m\n\u001b[1;32m    196\u001b[0m     \u001b[38;5;66;03m# the name of the estimator by the name of the function in the error\u001b[39;00m\n\u001b[1;32m    197\u001b[0m     \u001b[38;5;66;03m# message to avoid confusion.\u001b[39;00m\n\u001b[1;32m    198\u001b[0m     msg \u001b[38;5;241m=\u001b[39m re\u001b[38;5;241m.\u001b[39msub(\n\u001b[1;32m    199\u001b[0m         \u001b[38;5;124mr\u001b[39m\u001b[38;5;124m\"\u001b[39m\u001b[38;5;124mparameter of \u001b[39m\u001b[38;5;124m\\\u001b[39m\u001b[38;5;124mw+ must be\u001b[39m\u001b[38;5;124m\"\u001b[39m,\n\u001b[1;32m    200\u001b[0m         \u001b[38;5;124mf\u001b[39m\u001b[38;5;124m\"\u001b[39m\u001b[38;5;124mparameter of \u001b[39m\u001b[38;5;132;01m{\u001b[39;00mfunc\u001b[38;5;241m.\u001b[39m\u001b[38;5;18m__qualname__\u001b[39m\u001b[38;5;132;01m}\u001b[39;00m\u001b[38;5;124m must be\u001b[39m\u001b[38;5;124m\"\u001b[39m,\n\u001b[1;32m    201\u001b[0m         \u001b[38;5;28mstr\u001b[39m(e),\n\u001b[1;32m    202\u001b[0m     )\n",
      "File \u001b[0;32m~/opt/anaconda3/envs/tf/lib/python3.10/site-packages/sklearn/metrics/_classification.py:221\u001b[0m, in \u001b[0;36maccuracy_score\u001b[0;34m(y_true, y_pred, normalize, sample_weight)\u001b[0m\n\u001b[1;32m    155\u001b[0m \u001b[38;5;250m\u001b[39m\u001b[38;5;124;03m\"\"\"Accuracy classification score.\u001b[39;00m\n\u001b[1;32m    156\u001b[0m \n\u001b[1;32m    157\u001b[0m \u001b[38;5;124;03mIn multilabel classification, this function computes subset accuracy:\u001b[39;00m\n\u001b[0;32m   (...)\u001b[0m\n\u001b[1;32m    217\u001b[0m \u001b[38;5;124;03m0.5\u001b[39;00m\n\u001b[1;32m    218\u001b[0m \u001b[38;5;124;03m\"\"\"\u001b[39;00m\n\u001b[1;32m    220\u001b[0m \u001b[38;5;66;03m# Compute accuracy for each possible representation\u001b[39;00m\n\u001b[0;32m--> 221\u001b[0m y_type, y_true, y_pred \u001b[38;5;241m=\u001b[39m \u001b[43m_check_targets\u001b[49m\u001b[43m(\u001b[49m\u001b[43my_true\u001b[49m\u001b[43m,\u001b[49m\u001b[43m \u001b[49m\u001b[43my_pred\u001b[49m\u001b[43m)\u001b[49m\n\u001b[1;32m    222\u001b[0m check_consistent_length(y_true, y_pred, sample_weight)\n\u001b[1;32m    223\u001b[0m \u001b[38;5;28;01mif\u001b[39;00m y_type\u001b[38;5;241m.\u001b[39mstartswith(\u001b[38;5;124m\"\u001b[39m\u001b[38;5;124mmultilabel\u001b[39m\u001b[38;5;124m\"\u001b[39m):\n",
      "File \u001b[0;32m~/opt/anaconda3/envs/tf/lib/python3.10/site-packages/sklearn/metrics/_classification.py:95\u001b[0m, in \u001b[0;36m_check_targets\u001b[0;34m(y_true, y_pred)\u001b[0m\n\u001b[1;32m     92\u001b[0m     y_type \u001b[38;5;241m=\u001b[39m {\u001b[38;5;124m\"\u001b[39m\u001b[38;5;124mmulticlass\u001b[39m\u001b[38;5;124m\"\u001b[39m}\n\u001b[1;32m     94\u001b[0m \u001b[38;5;28;01mif\u001b[39;00m \u001b[38;5;28mlen\u001b[39m(y_type) \u001b[38;5;241m>\u001b[39m \u001b[38;5;241m1\u001b[39m:\n\u001b[0;32m---> 95\u001b[0m     \u001b[38;5;28;01mraise\u001b[39;00m \u001b[38;5;167;01mValueError\u001b[39;00m(\n\u001b[1;32m     96\u001b[0m         \u001b[38;5;124m\"\u001b[39m\u001b[38;5;124mClassification metrics can\u001b[39m\u001b[38;5;124m'\u001b[39m\u001b[38;5;124mt handle a mix of \u001b[39m\u001b[38;5;132;01m{0}\u001b[39;00m\u001b[38;5;124m and \u001b[39m\u001b[38;5;132;01m{1}\u001b[39;00m\u001b[38;5;124m targets\u001b[39m\u001b[38;5;124m\"\u001b[39m\u001b[38;5;241m.\u001b[39mformat(\n\u001b[1;32m     97\u001b[0m             type_true, type_pred\n\u001b[1;32m     98\u001b[0m         )\n\u001b[1;32m     99\u001b[0m     )\n\u001b[1;32m    101\u001b[0m \u001b[38;5;66;03m# We can't have more than one value on y_type => The set is no more needed\u001b[39;00m\n\u001b[1;32m    102\u001b[0m y_type \u001b[38;5;241m=\u001b[39m y_type\u001b[38;5;241m.\u001b[39mpop()\n",
      "\u001b[0;31mValueError\u001b[0m: Classification metrics can't handle a mix of multilabel-indicator and multiclass targets"
     ]
    }
   ],
   "source": [
    "from sklearn import  metrics\n",
    "metrics.accuracy_score(y_true= y_test, y_pred = np.argmax(model.predict(X_test),axis=1) )"
   ]
  },
  {
   "cell_type": "markdown",
   "metadata": {},
   "source": [
    "# Zad\n",
    "\n",
    "Wczytaj nauczony model"
   ]
  },
  {
   "cell_type": "code",
   "execution_count": 23,
   "metadata": {},
   "outputs": [
    {
     "name": "stdout",
     "output_type": "stream",
     "text": [
      "197/471 [===========>..................] - ETA: 0s - loss: 0.3521 - accuracy: 0.8325"
     ]
    },
    {
     "name": "stderr",
     "output_type": "stream",
     "text": [
      "2023-06-10 10:11:54.250917: W tensorflow/core/util/tensor_slice_reader.cc:96] Could not open wagi_best.h5py: FAILED_PRECONDITION: wagi_best.h5py; Is a directory: perhaps your file is in a different file format and you need to use a different restore operator?\n"
     ]
    },
    {
     "name": "stdout",
     "output_type": "stream",
     "text": [
      "471/471 [==============================] - 0s 515us/step - loss: 0.3511 - accuracy: 0.8319\n"
     ]
    },
    {
     "data": {
      "text/plain": [
       "[0.3511364161968231, 0.8318725228309631]"
      ]
     },
     "execution_count": 23,
     "metadata": {},
     "output_type": "execute_result"
    }
   ],
   "source": [
    "model.load_weights(\"wagi_best.h5py\")\n",
    "model.evaluate(X_test,y_test)"
   ]
  },
  {
   "cell_type": "markdown",
   "metadata": {},
   "source": [
    "# Zad\n",
    "\n",
    "* Naucz dowolny model na zbiorze MNIST.\n",
    "* Zapisz optymalne parametry uczenia do pliku\n",
    "* Wczytaj dane z pliku"
   ]
  },
  {
   "cell_type": "code",
   "execution_count": 25,
   "metadata": {},
   "outputs": [],
   "source": [
    "(X_train_full, y_train_full), (X_test, y_test) = keras.datasets.mnist.load_data()\n",
    "X_valid, X_train = X_train_full[:5000] / 255., X_train_full[5000:] / 255.\n",
    "y_valid, y_train = y_train_full[:5000], y_train_full[5000:]\n",
    "X_test = X_test / 255.\n",
    "\n",
    "from keras.utils import np_utils\n",
    "# one hot encode outputs\n",
    "y_train = np_utils.to_categorical(y_train)\n",
    "y_test = np_utils.to_categorical(y_test)\n",
    "\n",
    "y_valid = np_utils.to_categorical(y_valid)\n"
   ]
  },
  {
   "cell_type": "code",
   "execution_count": 29,
   "metadata": {},
   "outputs": [
    {
     "name": "stdout",
     "output_type": "stream",
     "text": [
      "Model: \"sequential\"\n",
      "_________________________________________________________________\n",
      " Layer (type)                Output Shape              Param #   \n",
      "=================================================================\n",
      " flatten (Flatten)           (None, 784)               0         \n",
      "                                                                 \n",
      " dense (Dense)               (None, 300)               235500    \n",
      "                                                                 \n",
      " dense_1 (Dense)             (None, 100)               30100     \n",
      "                                                                 \n",
      " dense_2 (Dense)             (None, 10)                1010      \n",
      "                                                                 \n",
      "=================================================================\n",
      "Total params: 266,610\n",
      "Trainable params: 266,610\n",
      "Non-trainable params: 0\n",
      "_________________________________________________________________\n",
      "Epoch 1/30\n",
      "1719/1719 [==============================] - 4s 2ms/step - loss: 0.0435 - accuracy: 0.9325 - val_loss: 0.0215 - val_accuracy: 0.9676\n",
      "Epoch 2/30\n",
      "1719/1719 [==============================] - 3s 2ms/step - loss: 0.0164 - accuracy: 0.9752 - val_loss: 0.0155 - val_accuracy: 0.9760\n",
      "Epoch 3/30\n",
      "1719/1719 [==============================] - 3s 2ms/step - loss: 0.0111 - accuracy: 0.9831 - val_loss: 0.0134 - val_accuracy: 0.9782\n",
      "Epoch 4/30\n",
      "1719/1719 [==============================] - 3s 2ms/step - loss: 0.0079 - accuracy: 0.9878 - val_loss: 0.0137 - val_accuracy: 0.9800\n",
      "Epoch 5/30\n",
      "1719/1719 [==============================] - 3s 2ms/step - loss: 0.0057 - accuracy: 0.9917 - val_loss: 0.0133 - val_accuracy: 0.9804\n",
      "Epoch 6/30\n",
      "1719/1719 [==============================] - 3s 2ms/step - loss: 0.0047 - accuracy: 0.9934 - val_loss: 0.0128 - val_accuracy: 0.9808\n",
      "Epoch 7/30\n",
      "1719/1719 [==============================] - 3s 2ms/step - loss: 0.0038 - accuracy: 0.9945 - val_loss: 0.0147 - val_accuracy: 0.9796\n",
      "Epoch 8/30\n",
      "1719/1719 [==============================] - 3s 2ms/step - loss: 0.0029 - accuracy: 0.9960 - val_loss: 0.0129 - val_accuracy: 0.9840\n",
      "Epoch 9/30\n",
      "1719/1719 [==============================] - 3s 2ms/step - loss: 0.0025 - accuracy: 0.9964 - val_loss: 0.0168 - val_accuracy: 0.9814\n",
      "Epoch 10/30\n",
      "1719/1719 [==============================] - 3s 2ms/step - loss: 0.0026 - accuracy: 0.9961 - val_loss: 0.0140 - val_accuracy: 0.9848\n",
      "Epoch 11/30\n",
      "1719/1719 [==============================] - 3s 2ms/step - loss: 0.0018 - accuracy: 0.9977 - val_loss: 0.0159 - val_accuracy: 0.9850\n",
      "Epoch 12/30\n",
      "1719/1719 [==============================] - 3s 2ms/step - loss: 0.0022 - accuracy: 0.9970 - val_loss: 0.0162 - val_accuracy: 0.9840\n",
      "Epoch 13/30\n",
      "1719/1719 [==============================] - 3s 2ms/step - loss: 0.0016 - accuracy: 0.9978 - val_loss: 0.0176 - val_accuracy: 0.9812\n",
      "Epoch 14/30\n",
      "1719/1719 [==============================] - 3s 2ms/step - loss: 0.0018 - accuracy: 0.9978 - val_loss: 0.0199 - val_accuracy: 0.9822\n",
      "Epoch 15/30\n",
      "1719/1719 [==============================] - 3s 2ms/step - loss: 0.0019 - accuracy: 0.9976 - val_loss: 0.0202 - val_accuracy: 0.9812\n",
      "Epoch 16/30\n",
      "1719/1719 [==============================] - 3s 2ms/step - loss: 0.0012 - accuracy: 0.9985 - val_loss: 0.0200 - val_accuracy: 0.9818\n",
      "Epoch 17/30\n",
      "1719/1719 [==============================] - 3s 2ms/step - loss: 0.0014 - accuracy: 0.9982 - val_loss: 0.0211 - val_accuracy: 0.9822\n",
      "Epoch 18/30\n",
      "1719/1719 [==============================] - 4s 2ms/step - loss: 0.0011 - accuracy: 0.9987 - val_loss: 0.0197 - val_accuracy: 0.9836\n",
      "Epoch 19/30\n",
      "1719/1719 [==============================] - 5s 3ms/step - loss: 0.0011 - accuracy: 0.9987 - val_loss: 0.0208 - val_accuracy: 0.9836\n",
      "Epoch 20/30\n",
      "1719/1719 [==============================] - 5s 3ms/step - loss: 0.0014 - accuracy: 0.9983 - val_loss: 0.0213 - val_accuracy: 0.9822\n",
      "Epoch 21/30\n",
      "1719/1719 [==============================] - 5s 3ms/step - loss: 0.0011 - accuracy: 0.9988 - val_loss: 0.0204 - val_accuracy: 0.9840\n",
      "Epoch 22/30\n",
      "1719/1719 [==============================] - 4s 3ms/step - loss: 0.0011 - accuracy: 0.9987 - val_loss: 0.0241 - val_accuracy: 0.9838\n",
      "Epoch 23/30\n",
      "1719/1719 [==============================] - 4s 3ms/step - loss: 9.5644e-04 - accuracy: 0.9990 - val_loss: 0.0246 - val_accuracy: 0.9832\n",
      "Epoch 24/30\n",
      "1719/1719 [==============================] - 5s 3ms/step - loss: 0.0013 - accuracy: 0.9984 - val_loss: 0.0242 - val_accuracy: 0.9820\n",
      "Epoch 25/30\n",
      "1719/1719 [==============================] - 5s 3ms/step - loss: 0.0011 - accuracy: 0.9988 - val_loss: 0.0211 - val_accuracy: 0.9856\n",
      "Epoch 26/30\n",
      "1719/1719 [==============================] - 5s 3ms/step - loss: 0.0011 - accuracy: 0.9988 - val_loss: 0.0210 - val_accuracy: 0.9846\n",
      "Epoch 27/30\n",
      "1719/1719 [==============================] - 5s 3ms/step - loss: 7.6530e-04 - accuracy: 0.9991 - val_loss: 0.0266 - val_accuracy: 0.9830\n",
      "Epoch 28/30\n",
      "1719/1719 [==============================] - 5s 3ms/step - loss: 0.0010 - accuracy: 0.9988 - val_loss: 0.0209 - val_accuracy: 0.9838\n",
      "Epoch 29/30\n",
      "1719/1719 [==============================] - 5s 3ms/step - loss: 8.1568e-04 - accuracy: 0.9990 - val_loss: 0.0247 - val_accuracy: 0.9838\n",
      "Epoch 30/30\n",
      "1719/1719 [==============================] - 5s 3ms/step - loss: 8.5179e-04 - accuracy: 0.9989 - val_loss: 0.0273 - val_accuracy: 0.9828\n"
     ]
    }
   ],
   "source": [
    "keras.backend.clear_session()\n",
    "np.random.seed(42)\n",
    "tf.random.set_seed(42)\n",
    "\n",
    "model = keras.models.Sequential([\n",
    "    keras.layers.Flatten(input_shape=[28, 28]),\n",
    "    keras.layers.Dense(300, activation=\"relu\"),\n",
    "    keras.layers.Dense(100, activation=\"relu\"),\n",
    "    keras.layers.Dense(10, activation=\"softmax\")\n",
    "])\n",
    "\n",
    "model.summary()\n",
    "\n",
    "\n",
    "save_best_model = ModelCheckpoint(\"wagi_best_mnist.h5py\",save_best_only=True)\n",
    "model.compile(loss=\"binary_crossentropy\",optimizer=\"Adam\", metrics=[\"accuracy\"])\n",
    "save_best_model = ModelCheckpoint(\"wagi_best_mnist.h5py\",save_best_only=True)\n",
    "\n",
    "history = model.fit(X_train, y_train, epochs=30, validation_data=(X_valid, y_valid))"
   ]
  },
  {
   "cell_type": "code",
   "execution_count": 34,
   "metadata": {},
   "outputs": [
    {
     "name": "stdout",
     "output_type": "stream",
     "text": [
      "313/313 [==============================] - 0s 784us/step - loss: 0.0299 - accuracy: 0.9811\n"
     ]
    },
    {
     "data": {
      "text/plain": [
       "[0.029853597283363342, 0.9811000227928162]"
      ]
     },
     "execution_count": 34,
     "metadata": {},
     "output_type": "execute_result"
    }
   ],
   "source": [
    "model.evaluate(X_test,y_test)"
   ]
  },
  {
   "cell_type": "code",
   "execution_count": 35,
   "metadata": {},
   "outputs": [
    {
     "ename": "NotFoundError",
     "evalue": "Unsuccessful TensorSliceReader constructor: Failed to find any matching files for wagi_best_mnist.h5py",
     "output_type": "error",
     "traceback": [
      "\u001b[0;31m---------------------------------------------------------------------------\u001b[0m",
      "\u001b[0;31mNotFoundError\u001b[0m                             Traceback (most recent call last)",
      "Cell \u001b[0;32mIn[35], line 1\u001b[0m\n\u001b[0;32m----> 1\u001b[0m \u001b[43mmodel\u001b[49m\u001b[38;5;241;43m.\u001b[39;49m\u001b[43mload_weights\u001b[49m\u001b[43m(\u001b[49m\u001b[38;5;124;43m\"\u001b[39;49m\u001b[38;5;124;43mwagi_best_mnist.h5py\u001b[39;49m\u001b[38;5;124;43m\"\u001b[39;49m\u001b[43m)\u001b[49m\n\u001b[1;32m      2\u001b[0m model\u001b[38;5;241m.\u001b[39mevaluate(X_test,y_test)\n",
      "File \u001b[0;32m~/opt/anaconda3/envs/tf/lib/python3.10/site-packages/keras/utils/traceback_utils.py:70\u001b[0m, in \u001b[0;36mfilter_traceback.<locals>.error_handler\u001b[0;34m(*args, **kwargs)\u001b[0m\n\u001b[1;32m     67\u001b[0m     filtered_tb \u001b[38;5;241m=\u001b[39m _process_traceback_frames(e\u001b[38;5;241m.\u001b[39m__traceback__)\n\u001b[1;32m     68\u001b[0m     \u001b[38;5;66;03m# To get the full stack trace, call:\u001b[39;00m\n\u001b[1;32m     69\u001b[0m     \u001b[38;5;66;03m# `tf.debugging.disable_traceback_filtering()`\u001b[39;00m\n\u001b[0;32m---> 70\u001b[0m     \u001b[38;5;28;01mraise\u001b[39;00m e\u001b[38;5;241m.\u001b[39mwith_traceback(filtered_tb) \u001b[38;5;28;01mfrom\u001b[39;00m \u001b[38;5;28;01mNone\u001b[39;00m\n\u001b[1;32m     71\u001b[0m \u001b[38;5;28;01mfinally\u001b[39;00m:\n\u001b[1;32m     72\u001b[0m     \u001b[38;5;28;01mdel\u001b[39;00m filtered_tb\n",
      "File \u001b[0;32m~/opt/anaconda3/envs/tf/lib/python3.10/site-packages/tensorflow/python/training/py_checkpoint_reader.py:31\u001b[0m, in \u001b[0;36merror_translator\u001b[0;34m(e)\u001b[0m\n\u001b[1;32m     27\u001b[0m error_message \u001b[38;5;241m=\u001b[39m \u001b[38;5;28mstr\u001b[39m(e)\n\u001b[1;32m     28\u001b[0m \u001b[38;5;28;01mif\u001b[39;00m \u001b[38;5;124m'\u001b[39m\u001b[38;5;124mnot found in checkpoint\u001b[39m\u001b[38;5;124m'\u001b[39m \u001b[38;5;129;01min\u001b[39;00m error_message \u001b[38;5;129;01mor\u001b[39;00m (\n\u001b[1;32m     29\u001b[0m     \u001b[38;5;124m'\u001b[39m\u001b[38;5;124mFailed to find any \u001b[39m\u001b[38;5;124m'\u001b[39m\n\u001b[1;32m     30\u001b[0m     \u001b[38;5;124m'\u001b[39m\u001b[38;5;124mmatching files for\u001b[39m\u001b[38;5;124m'\u001b[39m) \u001b[38;5;129;01min\u001b[39;00m error_message:\n\u001b[0;32m---> 31\u001b[0m   \u001b[38;5;28;01mraise\u001b[39;00m errors_impl\u001b[38;5;241m.\u001b[39mNotFoundError(\u001b[38;5;28;01mNone\u001b[39;00m, \u001b[38;5;28;01mNone\u001b[39;00m, error_message)\n\u001b[1;32m     32\u001b[0m \u001b[38;5;28;01melif\u001b[39;00m \u001b[38;5;124m'\u001b[39m\u001b[38;5;124mSliced checkpoints are not supported\u001b[39m\u001b[38;5;124m'\u001b[39m \u001b[38;5;129;01min\u001b[39;00m error_message \u001b[38;5;129;01mor\u001b[39;00m (\n\u001b[1;32m     33\u001b[0m     \u001b[38;5;124m'\u001b[39m\u001b[38;5;124mData type \u001b[39m\u001b[38;5;124m'\u001b[39m\n\u001b[1;32m     34\u001b[0m     \u001b[38;5;124m'\u001b[39m\u001b[38;5;124mnot \u001b[39m\u001b[38;5;124m'\u001b[39m\n\u001b[1;32m     35\u001b[0m     \u001b[38;5;124m'\u001b[39m\u001b[38;5;124msupported\u001b[39m\u001b[38;5;124m'\u001b[39m) \u001b[38;5;129;01min\u001b[39;00m error_message:\n\u001b[1;32m     36\u001b[0m   \u001b[38;5;28;01mraise\u001b[39;00m errors_impl\u001b[38;5;241m.\u001b[39mUnimplementedError(\u001b[38;5;28;01mNone\u001b[39;00m, \u001b[38;5;28;01mNone\u001b[39;00m, error_message)\n",
      "\u001b[0;31mNotFoundError\u001b[0m: Unsuccessful TensorSliceReader constructor: Failed to find any matching files for wagi_best_mnist.h5py"
     ]
    }
   ],
   "source": [
    "model.load_weights(\"wagi_best_mnist.h5py\")\n",
    "model.evaluate(X_test,y_test)"
   ]
  },
  {
   "cell_type": "code",
   "execution_count": null,
   "metadata": {},
   "outputs": [],
   "source": []
  }
 ],
 "metadata": {
  "kernelspec": {
   "display_name": "Python 3 (ipykernel)",
   "language": "python",
   "name": "python3"
  },
  "language_info": {
   "codemirror_mode": {
    "name": "ipython",
    "version": 3
   },
   "file_extension": ".py",
   "mimetype": "text/x-python",
   "name": "python",
   "nbconvert_exporter": "python",
   "pygments_lexer": "ipython3",
   "version": "3.10.11"
  }
 },
 "nbformat": 4,
 "nbformat_minor": 4
}
