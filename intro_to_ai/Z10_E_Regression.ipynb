{
 "cells": [
  {
   "cell_type": "code",
   "execution_count": 1,
   "metadata": {},
   "outputs": [
    {
     "name": "stderr",
     "output_type": "stream",
     "text": [
      "2024-01-10 14:31:40.571930: I tensorflow/core/platform/cpu_feature_guard.cc:193] This TensorFlow binary is optimized with oneAPI Deep Neural Network Library (oneDNN) to use the following CPU instructions in performance-critical operations:  SSE4.1 SSE4.2\n",
      "To enable them in other operations, rebuild TensorFlow with the appropriate compiler flags.\n"
     ]
    },
    {
     "name": "stdout",
     "output_type": "stream",
     "text": [
      "2.10.0\n",
      "2.10.0\n"
     ]
    }
   ],
   "source": [
    "import tensorflow as tf\n",
    "from tensorflow import keras\n",
    "print(tf.__version__)\n",
    "\n",
    "print(keras.__version__)"
   ]
  },
  {
   "cell_type": "code",
   "execution_count": 2,
   "metadata": {},
   "outputs": [],
   "source": [
    "import numpy as np\n",
    "import pandas as pd\n",
    "import matplotlib.pyplot as plt\n",
    "import os"
   ]
  },
  {
   "cell_type": "code",
   "execution_count": 3,
   "metadata": {},
   "outputs": [],
   "source": [
    "from sklearn.datasets import fetch_california_housing\n",
    "from sklearn.model_selection import train_test_split\n",
    "from sklearn.preprocessing import StandardScaler\n",
    "\n",
    "housing = fetch_california_housing()\n",
    "\n",
    "X_train_full, X_test, y_train_full, y_test = train_test_split(housing.data, housing.target, random_state=42)\n",
    "X_train, X_valid, y_train, y_valid = train_test_split(X_train_full, y_train_full, random_state=42)\n"
   ]
  },
  {
   "cell_type": "code",
   "execution_count": 4,
   "metadata": {},
   "outputs": [],
   "source": [
    "np.random.seed(42)\n",
    "tf.random.set_seed(42)"
   ]
  },
  {
   "cell_type": "code",
   "execution_count": 5,
   "metadata": {},
   "outputs": [
    {
     "name": "stdout",
     "output_type": "stream",
     "text": [
      "Model: \"sequential\"\n",
      "_________________________________________________________________\n",
      " Layer (type)                Output Shape              Param #   \n",
      "=================================================================\n",
      " dense (Dense)               (None, 30)                270       \n",
      "                                                                 \n",
      " dense_1 (Dense)             (None, 1)                 31        \n",
      "                                                                 \n",
      "=================================================================\n",
      "Total params: 301\n",
      "Trainable params: 301\n",
      "Non-trainable params: 0\n",
      "_________________________________________________________________\n",
      "Epoch 1/20\n",
      "363/363 [==============================] - 1s 869us/step - loss: 515725104374611968.0000 - val_loss: 216111832367104.0000\n",
      "Epoch 2/20\n",
      "363/363 [==============================] - 0s 635us/step - loss: 114191620898816.0000 - val_loss: 50518479077376.0000\n",
      "Epoch 3/20\n",
      "363/363 [==============================] - 0s 642us/step - loss: 26693574066176.0000 - val_loss: 11809268432896.0000\n",
      "Epoch 4/20\n",
      "363/363 [==============================] - 0s 711us/step - loss: 6239914295296.0000 - val_loss: 2760545927168.0000\n",
      "Epoch 5/20\n",
      "363/363 [==============================] - 0s 647us/step - loss: 1458651660288.0000 - val_loss: 645309464576.0000\n",
      "Epoch 6/20\n",
      "363/363 [==============================] - 0s 637us/step - loss: 340975976448.0000 - val_loss: 150848159744.0000\n",
      "Epoch 7/20\n",
      "363/363 [==============================] - 0s 636us/step - loss: 79707078656.0000 - val_loss: 35262525440.0000\n",
      "Epoch 8/20\n",
      "363/363 [==============================] - 0s 631us/step - loss: 18632452096.0000 - val_loss: 8243028480.0000\n",
      "Epoch 9/20\n",
      "363/363 [==============================] - 0s 624us/step - loss: 4355555328.0000 - val_loss: 1926899200.0000\n",
      "Epoch 10/20\n",
      "363/363 [==============================] - 0s 631us/step - loss: 1018160896.0000 - val_loss: 450434112.0000\n",
      "Epoch 11/20\n",
      "363/363 [==============================] - 0s 630us/step - loss: 238007296.0000 - val_loss: 105293784.0000\n",
      "Epoch 12/20\n",
      "363/363 [==============================] - 0s 628us/step - loss: 55636904.0000 - val_loss: 24613382.0000\n",
      "Epoch 13/20\n",
      "363/363 [==============================] - 0s 622us/step - loss: 13005773.0000 - val_loss: 5753548.5000\n",
      "Epoch 14/20\n",
      "363/363 [==============================] - 0s 634us/step - loss: 3040247.2500 - val_loss: 1344899.1250\n",
      "Epoch 15/20\n",
      "363/363 [==============================] - 0s 632us/step - loss: 710692.6250 - val_loss: 314359.1250\n",
      "Epoch 16/20\n",
      "363/363 [==============================] - 0s 630us/step - loss: 166133.5156 - val_loss: 73473.1328\n",
      "Epoch 17/20\n",
      "363/363 [==============================] - 0s 615us/step - loss: 38836.8438 - val_loss: 17169.7246\n",
      "Epoch 18/20\n",
      "363/363 [==============================] - 0s 616us/step - loss: 9079.6475 - val_loss: 4011.7534\n",
      "Epoch 19/20\n",
      "363/363 [==============================] - 0s 631us/step - loss: 2123.5181 - val_loss: 937.2222\n",
      "Epoch 20/20\n",
      "363/363 [==============================] - 0s 632us/step - loss: 497.3768 - val_loss: 219.3589\n",
      "162/162 [==============================] - 0s 465us/step - loss: 220.1999\n",
      "220.19985961914062\n",
      "1/1 [==============================] - 0s 54ms/step\n",
      "[[-12.731293]\n",
      " [-12.731293]\n",
      " [-12.731293]]\n"
     ]
    }
   ],
   "source": [
    "from keras.callbacks import History\n",
    "\n",
    "\n",
    "model = keras.models.Sequential([\n",
    "    keras.layers.Dense(30, activation=\"relu\", input_shape=X_train.shape[1:]),\n",
    "    keras.layers.Dense(1)\n",
    "])\n",
    "model.summary()\n",
    "history = History()\n",
    "\n",
    "model.compile(loss=\"mean_squared_error\", optimizer=keras.optimizers.SGD(learning_rate=1e-3))\n",
    "history = model.fit(X_train, y_train, epochs=20, validation_data=(X_valid, y_valid))\n",
    "mse_test = model.evaluate(X_test, y_test)\n",
    "print(mse_test)\n",
    "X_new = X_test[:3]\n",
    "y_pred = model.predict(X_new)\n",
    "print(y_pred)"
   ]
  },
  {
   "cell_type": "code",
   "execution_count": 17,
   "metadata": {},
   "outputs": [
    {
     "data": {
      "image/png": "[encoded data removed]",
      "text/plain": [
       "<Figure size 640x480 with 1 Axes>"
      ]
     },
     "metadata": {},
     "output_type": "display_data"
    }
   ],
   "source": [
    "plt.plot(pd.DataFrame(history.history))\n",
    "plt.grid(True)\n",
    "plt.show()\n"
   ]
  },
  {
   "cell_type": "markdown",
   "metadata": {},
   "source": [
    "# Zad\n",
    "\n",
    "Porównaj powyższy wynik z nauką na danych znormalizowanych."
   ]
  },
  {
   "cell_type": "code",
   "execution_count": 18,
   "metadata": {},
   "outputs": [
    {
     "name": "stderr",
     "output_type": "stream",
     "text": [
      "WARNING:absl:`lr` is deprecated, please use `learning_rate` instead, or use the legacy optimizer, e.g.,tf.keras.optimizers.legacy.SGD.\n"
     ]
    },
    {
     "name": "stdout",
     "output_type": "stream",
     "text": [
      "Epoch 1/20\n",
      "363/363 [==============================] - 0s 806us/step - loss: 2346487384514084860619390976.0000 - val_loss: 104428025600211419136.0000\n",
      "Epoch 2/20\n",
      "363/363 [==============================] - 0s 625us/step - loss: 7268411775366725632.0000 - val_loss: 44560302473216.0000\n",
      "Epoch 3/20\n",
      "363/363 [==============================] - 0s 628us/step - loss: 3101492772864.0000 - val_loss: 19014616.0000\n",
      "Epoch 4/20\n",
      "363/363 [==============================] - 0s 632us/step - loss: 1323429.1250 - val_loss: 9.7149\n",
      "Epoch 5/20\n",
      "363/363 [==============================] - 0s 629us/step - loss: 1.8970 - val_loss: 1.3160\n",
      "Epoch 6/20\n",
      "363/363 [==============================] - 0s 631us/step - loss: 1.3409 - val_loss: 1.3184\n",
      "Epoch 7/20\n",
      "363/363 [==============================] - 0s 631us/step - loss: 1.3408 - val_loss: 1.3165\n",
      "Epoch 8/20\n",
      "363/363 [==============================] - 0s 628us/step - loss: 1.3409 - val_loss: 1.3166\n",
      "Epoch 9/20\n",
      "363/363 [==============================] - 0s 625us/step - loss: 1.3410 - val_loss: 1.3179\n",
      "Epoch 10/20\n",
      "363/363 [==============================] - 0s 626us/step - loss: 1.3406 - val_loss: 1.3149\n",
      "Epoch 11/20\n",
      "363/363 [==============================] - 0s 628us/step - loss: 1.3412 - val_loss: 1.3160\n",
      "Epoch 12/20\n",
      "363/363 [==============================] - 0s 633us/step - loss: 1.3409 - val_loss: 1.3158\n",
      "Epoch 13/20\n",
      "363/363 [==============================] - 0s 636us/step - loss: 1.3406 - val_loss: 1.3195\n",
      "Epoch 14/20\n",
      "363/363 [==============================] - 0s 631us/step - loss: 1.3408 - val_loss: 1.3188\n",
      "Epoch 15/20\n",
      "363/363 [==============================] - 0s 635us/step - loss: 1.3408 - val_loss: 1.3165\n",
      "Epoch 16/20\n",
      "363/363 [==============================] - 0s 635us/step - loss: 1.3407 - val_loss: 1.3165\n",
      "Epoch 17/20\n",
      "363/363 [==============================] - 0s 626us/step - loss: 1.3409 - val_loss: 1.3189\n",
      "Epoch 18/20\n",
      "363/363 [==============================] - 0s 634us/step - loss: 1.3407 - val_loss: 1.3152\n",
      "Epoch 19/20\n",
      "363/363 [==============================] - 0s 627us/step - loss: 1.3405 - val_loss: 1.3187\n",
      "Epoch 20/20\n",
      "363/363 [==============================] - 0s 634us/step - loss: 1.3410 - val_loss: 1.3172\n",
      "162/162 [==============================] - 0s 429us/step - loss: 1.3236\n",
      "WARNING:tensorflow:6 out of the last 6 calls to <function Model.make_predict_function.<locals>.predict_function at 0x7f9981010160> triggered tf.function retracing. Tracing is expensive and the excessive number of tracings could be due to (1) creating @tf.function repeatedly in a loop, (2) passing tensors with different shapes, (3) passing Python objects instead of tensors. For (1), please define your @tf.function outside of the loop. For (2), @tf.function has reduce_retracing=True option that can avoid unnecessary retracing. For (3), please refer to https://www.tensorflow.org/guide/function#controlling_retracing and https://www.tensorflow.org/api_docs/python/tf/function for  more details.\n"
     ]
    },
    {
     "name": "stderr",
     "output_type": "stream",
     "text": [
      "WARNING:tensorflow:6 out of the last 6 calls to <function Model.make_predict_function.<locals>.predict_function at 0x7f9981010160> triggered tf.function retracing. Tracing is expensive and the excessive number of tracings could be due to (1) creating @tf.function repeatedly in a loop, (2) passing tensors with different shapes, (3) passing Python objects instead of tensors. For (1), please define your @tf.function outside of the loop. For (2), @tf.function has reduce_retracing=True option that can avoid unnecessary retracing. For (3), please refer to https://www.tensorflow.org/guide/function#controlling_retracing and https://www.tensorflow.org/api_docs/python/tf/function for  more details.\n"
     ]
    },
    {
     "name": "stdout",
     "output_type": "stream",
     "text": [
      "1/1 [==============================] - 0s 32ms/step\n"
     ]
    }
   ],
   "source": [
    "from sklearn.preprocessing import StandardScaler\n",
    "\n",
    "scaler = StandardScaler()\n",
    "scaler.fit(X_train_full)\n",
    "scaler.transform(X_train_full)\n",
    "\n",
    "X_train, X_valid, y_train, y_valid = train_test_split(X_train_full, y_train_full, random_state=42)\n",
    "\n",
    "\n",
    "model = keras.models.Sequential([\n",
    "    keras.layers.Dense(30, activation=\"relu\", input_shape=X_train.shape[1:]),\n",
    "    keras.layers.Dense(1)\n",
    "])\n",
    "\n",
    "history1 = History()\n",
    "\n",
    "model.compile(loss=\"mean_squared_error\", optimizer=keras.optimizers.SGD(lr=1e-3))\n",
    "history1 = model.fit(X_train, y_train, epochs=20, validation_data=(X_valid, y_valid))\n",
    "mse_test1 = model.evaluate(X_test, y_test)\n",
    "X_new1 = X_test[:3]\n",
    "y_pred1 = model.predict(X_new)"
   ]
  },
  {
   "cell_type": "code",
   "execution_count": 19,
   "metadata": {},
   "outputs": [
    {
     "data": {
      "text/plain": [
       "1.3236311674118042"
      ]
     },
     "execution_count": 19,
     "metadata": {},
     "output_type": "execute_result"
    }
   ],
   "source": [
    "score = model.evaluate(X_test, y_test, verbose=0)\n",
    "score\n",
    "# print('Test loss:', score[0])\n",
    "# print('Test accuracy:', score[1])\n"
   ]
  },
  {
   "cell_type": "code",
   "execution_count": 20,
   "metadata": {},
   "outputs": [
    {
     "data": {
      "image/png": "[encoded data removed]",
      "text/plain": [
       "<Figure size 640x480 with 1 Axes>"
      ]
     },
     "metadata": {},
     "output_type": "display_data"
    }
   ],
   "source": [
    "plt.plot(pd.DataFrame(history1.history))\n",
    "plt.grid(True)\n",
    "plt.show()\n"
   ]
  },
  {
   "cell_type": "markdown",
   "metadata": {},
   "source": [
    "# Dane zawsze muszą być przeskalowane"
   ]
  },
  {
   "cell_type": "code",
   "execution_count": null,
   "metadata": {},
   "outputs": [],
   "source": []
  }
 ],
 "metadata": {
  "kernelspec": {
   "display_name": "Python 3 (ipykernel)",
   "language": "python",
   "name": "python3"
  },
  "language_info": {
   "codemirror_mode": {
    "name": "ipython",
    "version": 3
   },
   "file_extension": ".py",
   "mimetype": "text/x-python",
   "name": "python",
   "nbconvert_exporter": "python",
   "pygments_lexer": "ipython3",
   "version": "3.9.13"
  }
 },
 "nbformat": 4,
 "nbformat_minor": 4
}
