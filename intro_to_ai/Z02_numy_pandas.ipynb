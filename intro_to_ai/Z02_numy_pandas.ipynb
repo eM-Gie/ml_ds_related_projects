{
 "cells": [
  {
   "cell_type": "markdown",
   "metadata": {},
   "source": [
    "# NumPy - operacje arytmetyczne w Pythonie\n",
    "\n",
    "Standardowe typy danych i procedury Pythona nie nadają się do poważnych zastosowań numerycznych. Konieczne było opracowanie zoptymalizowanych pod względem typowych operacji numerycznych typów danych i procedur. Stworzony został Numerical Python, zwany w skrócie NumPy. Podczas rozwoju tego pakietu kierowano się podejściem zastosowanym w takich językach jak Basis, MATLAB, rodzina języków APL, FORTRAN i innych. Tak więc NumPy jest biblioteką Pythona służącą do obliczeń naukowych. Dostarcza ona listę matematycznych funkcji użytecznych w takich zagadnieniach jak:\n",
    "  \n",
    "  * algebra liniowa,\n",
    "  * transformacje Fouriera,\n",
    "  * generowanie liczb losowych,\n",
    "  * oraz wszystkie operacje na tablicach i macierzach, które są podstawowymi obiektami w Numpy.\n",
    "  \n",
    "Żeby można korzystać z dobrodziejstwa tej biblioteki należy ją zaimportować:"
   ]
  },
  {
   "cell_type": "code",
   "execution_count": 2,
   "metadata": {},
   "outputs": [],
   "source": [
    "import numpy\n",
    "# lub\n",
    "import numpy as np \n"
   ]
  },
  {
   "cell_type": "markdown",
   "metadata": {},
   "source": [
    "## Tworzenie macierzy\n",
    "Do stworzenia tablicy jedno-, dwu- i wielowymiarowej używamy funkcji **array**:"
   ]
  },
  {
   "cell_type": "code",
   "execution_count": 3,
   "metadata": {},
   "outputs": [
    {
     "name": "stdout",
     "output_type": "stream",
     "text": [
      "[1 2 3]\n",
      "\n",
      " \n",
      "\n",
      "[[1 2 3]\n",
      " [4 5 6]]\n",
      "\n",
      " \n",
      "\n",
      "[[[1 1 1]\n",
      "  [1 1 1]]\n",
      "\n",
      " [[2 2 2]\n",
      "  [2 2 2]]]\n"
     ]
    }
   ],
   "source": [
    "x = np.array([1,2,3]) # tablica jednowymiarowa\n",
    "A = np.array([[1,2,3] , [4,5,6]]) # tablica dwuwymiarowa\n",
    "B = np.array( [[[1,1,1],[1,1,1]], [[2,2,2],[2,2,2]]]) # wielowymiarowa\n",
    "\n",
    "print(x)\n",
    "print(\"\\n \\n\")\n",
    "print(A)\n",
    "print(\"\\n \\n\")\n",
    "print(B)"
   ]
  },
  {
   "cell_type": "markdown",
   "metadata": {},
   "source": [
    "Przy tworzeniu tablicy istnieje możliwość zadeklarowania jej typu:"
   ]
  },
  {
   "cell_type": "code",
   "execution_count": 3,
   "metadata": {},
   "outputs": [
    {
     "name": "stdout",
     "output_type": "stream",
     "text": [
      "[[1.+0.j 0.+0.j]\n",
      " [0.+0.j 1.+0.j]]\n"
     ]
    }
   ],
   "source": [
    "z = np.array( [[1,0], [0,1]], dtype=complex) # tablica liczb zespolonych\n",
    "print(z) "
   ]
  },
  {
   "cell_type": "markdown",
   "metadata": {},
   "source": [
    "Do tworzenia tablicy jednowymiarowej (wektora) składającego się z elementów z danego zakresu używamy polecenia **arange(start, stop, krok)**:"
   ]
  },
  {
   "cell_type": "code",
   "execution_count": 4,
   "metadata": {},
   "outputs": [
    {
     "name": "stdout",
     "output_type": "stream",
     "text": [
      "[0 1 2 3 4 5 6 7 8 9]\n",
      " \n",
      "[0 2 4 6 8]\n",
      " \n",
      "[0.  0.5 1.  1.5 2.  2.5 3.  3.5 4.  4.5 5.  5.5 6.  6.5 7.  7.5 8.  8.5\n",
      " 9.  9.5]\n"
     ]
    }
   ],
   "source": [
    "print(np.arange(10), end='\\n \\n')\n",
    "print(np.arange(0, 10, 2), end='\\n \\n')\n",
    "print(np.arange(0., 10, 0.5))"
   ]
  },
  {
   "cell_type": "markdown",
   "metadata": {},
   "source": [
    "Jeśli chcemy wygenerować tablicę o określonej liczbie z danego przedziału, używamy funkcji **linspace**:"
   ]
  },
  {
   "cell_type": "code",
   "execution_count": 5,
   "metadata": {},
   "outputs": [
    {
     "name": "stdout",
     "output_type": "stream",
     "text": [
      "[ 0.  5. 10.]\n",
      " \n",
      "[0.   0.25 0.5  0.75 1.  ]\n"
     ]
    }
   ],
   "source": [
    "print(np.linspace(0., 10., 3), end='\\n \\n')\n",
    "print(np.linspace(0., 1, 5) )"
   ]
  },
  {
   "cell_type": "markdown",
   "metadata": {},
   "source": [
    "Biblioteka Numpy oferuje wiele możliwości budowania typowych tablic:"
   ]
  },
  {
   "cell_type": "code",
   "execution_count": 6,
   "metadata": {},
   "outputs": [
    {
     "name": "stdout",
     "output_type": "stream",
     "text": [
      "[[1. 1. 1.]\n",
      " [1. 1. 1.]\n",
      " [1. 1. 1.]] \n",
      "\n",
      "[[0. 0.]\n",
      " [0. 0.]\n",
      " [0. 0.]] \n",
      "\n",
      "[[1. 0. 0. 0.]\n",
      " [0. 1. 0. 0.]\n",
      " [0. 0. 1. 0.]\n",
      " [0. 0. 0. 1.]]\n"
     ]
    }
   ],
   "source": [
    "print(np.ones((3,3)), '\\n') # dwuwymiarowa tablica (3x3) wypełniona jedynkami\n",
    "print(np.zeros((3,2)), '\\n') # dwuwymiarowa tablica (3x2) wypełniona zerami\n",
    "print(np.eye(4)) # macierz jednostkowa 4x4"
   ]
  },
  {
   "cell_type": "markdown",
   "metadata": {},
   "source": [
    "Korzystając z powyższych funkcji możemy w łatwy sposób tworzyć dowolne macierze, zmieniając ich rozmiary."
   ]
  },
  {
   "cell_type": "code",
   "execution_count": 7,
   "metadata": {},
   "outputs": [
    {
     "name": "stdout",
     "output_type": "stream",
     "text": [
      "[[ 0  1  2]\n",
      " [ 3  4  5]\n",
      " [ 6  7  8]\n",
      " [ 9 10 11]\n",
      " [12 13 14]] \n",
      "\n",
      "[[0.         0.07142857 0.14285714]\n",
      " [0.21428571 0.28571429 0.35714286]\n",
      " [0.42857143 0.5        0.57142857]\n",
      " [0.64285714 0.71428571 0.78571429]\n",
      " [0.85714286 0.92857143 1.        ]]\n"
     ]
    }
   ],
   "source": [
    "print(np.arange(15).reshape(5,3), '\\n')\n",
    "print(np.linspace(0., 1, 15).reshape(5,3))"
   ]
  },
  {
   "cell_type": "markdown",
   "metadata": {},
   "source": [
    "# Operacje na indeksach tablicy\n",
    "Żeby odwołać się do konkretnej wartości tablicy należy użyć **[]** z odpowiednim indeksem (pamiętamy, że w Pythonie zaczynamy indeksować od 0)."
   ]
  },
  {
   "cell_type": "code",
   "execution_count": 8,
   "metadata": {},
   "outputs": [
    {
     "name": "stdout",
     "output_type": "stream",
     "text": [
      "[ 0  1  2  3  4  5  6  7  8  9 10 11 12 13 14] \n",
      "\n",
      "3 \n",
      "\n",
      "[[ 0  1  2  3]\n",
      " [ 4  5  6  7]\n",
      " [ 8  9 10 11]\n",
      " [12 13 14 15]\n",
      " [16 17 18 19]] \n",
      "\n",
      "11\n",
      "11 \n",
      "\n",
      "[ 8  9 10 11] \n",
      "\n",
      "[ 2  6 10 14 18]\n"
     ]
    }
   ],
   "source": [
    "x = np.arange(15)\n",
    "print(x, '\\n')\n",
    "print(x[3], '\\n')\n",
    "\n",
    "A = np.arange(20).reshape(5,4)\n",
    "print(A, '\\n')\n",
    "print(A[2, 3])\n",
    "print(A[2][3], '\\n') # równoważnie\n",
    "print(A[2], '\\n') # trzeci wiersz\n",
    "print(A[:, 2]) # trzecia kolumna"
   ]
  },
  {
   "cell_type": "markdown",
   "metadata": {},
   "source": [
    "Aby wyświetlić fragment tablicy od  $n-1$  do  $m-1$  elementów używamy składni: **tablica[n:m]**, analogicznie aby wyświetlić elementy tablicy pomiędzy  $n-1$ , a  $m-1$  przesuwając się o wartość  $k$  używamy składni **tablica[n:m:k]**. \n"
   ]
  },
  {
   "cell_type": "code",
   "execution_count": 9,
   "metadata": {},
   "outputs": [
    {
     "name": "stdout",
     "output_type": "stream",
     "text": [
      "[ 0  1  2  3  4  5  6  7  8  9 10 11 12 13 14] \n",
      "\n",
      "[ 3  4  5  6  7  8  9 10]\n",
      "[3 5 7 9] \n",
      "\n",
      "[[ 8  9 10 11]\n",
      " [12 13 14 15]] \n",
      "\n",
      "[[ 2  3]\n",
      " [ 6  7]\n",
      " [10 11]\n",
      " [14 15]\n",
      " [18 19]] \n",
      "\n",
      "[[ 2  3]\n",
      " [ 6  7]\n",
      " [10 11]\n",
      " [14 15]\n",
      " [18 19]]\n"
     ]
    }
   ],
   "source": [
    "x = np.arange(15)\n",
    "print(x, '\\n')\n",
    "print(x[3:11])\n",
    "print(x[3:11:2], '\\n')\n",
    "\n",
    "A = np.arange(20).reshape(5,4)\n",
    "print(A[2:4], '\\n') # wiersze od trzeciego do czwartego\n",
    "print(A[:,2:4], '\\n') # trzecia i czwarta kolumnę\n",
    "print(A[:,[2,3]]) # równoważnie"
   ]
  },
  {
   "cell_type": "markdown",
   "metadata": {},
   "source": [
    "Jak widać z powyższych przykładów, przecinek w nawiasach **[]** rozdziela poszczególne wymiary tablic."
   ]
  },
  {
   "cell_type": "code",
   "execution_count": 10,
   "metadata": {},
   "outputs": [
    {
     "name": "stdout",
     "output_type": "stream",
     "text": [
      "[5 6 7] \n",
      "\n",
      "[[4 5]\n",
      " [8 9]] \n",
      "\n",
      "[4 6]\n"
     ]
    }
   ],
   "source": [
    "print(A[1,1:5], '\\n') # elementy z drugiego wiersza i od drugiej do piątej kolumny \n",
    "print(A[1:3, :2], '\\n') # elementy od drugiego do trzeciego wiersza, \n",
    "                 # znajdujące się w kolumnach od pierwszej do drugiej\n",
    "print(A[1,0:5:2]) # elementy drugiego wiersza i kolumny od pierwszej do piątej co dwie"
   ]
  },
  {
   "cell_type": "markdown",
   "metadata": {},
   "source": [
    "Tablice można też budować w oparciu o już istniejące:"
   ]
  },
  {
   "cell_type": "code",
   "execution_count": 11,
   "metadata": {},
   "outputs": [
    {
     "name": "stdout",
     "output_type": "stream",
     "text": [
      "[[ 0  1  2  3]\n",
      " [ 4  5  6  7]\n",
      " [ 8  9 10 11]\n",
      " [12 13 14 15]\n",
      " [16 17 18 19]] \n",
      "\n",
      "[[10 11]\n",
      " [14 15]]\n"
     ]
    }
   ],
   "source": [
    "A = np.arange(20).reshape(5,4)\n",
    "print(A, '\\n')\n",
    "\n",
    "B = A[2:4, 2:]\n",
    "print(B)"
   ]
  },
  {
   "cell_type": "markdown",
   "metadata": {},
   "source": [
    "# Zmiana rozmiaru, kształtu tablicy\n",
    "Do zmiany rozmiaru tablicy już utworzonej służy funkcja: reshape. Operacja ta nie zmieni zawartości oryginalnej tablicy, pokaże jedynie jej elementy w zadanej postaci."
   ]
  },
  {
   "cell_type": "code",
   "execution_count": 12,
   "metadata": {},
   "outputs": [
    {
     "name": "stdout",
     "output_type": "stream",
     "text": [
      "[0 1 2 3 4 5 6 7] \n",
      "\n",
      "[[0 1 2 3]\n",
      " [4 5 6 7]] \n",
      "\n",
      "[0 1 2 3 4 5 6 7]\n"
     ]
    }
   ],
   "source": [
    "A = np.arange(8)\n",
    "print(A,'\\n')\n",
    "print(A.reshape((2, 4)), '\\n')\n",
    "print(A)"
   ]
  },
  {
   "cell_type": "markdown",
   "metadata": {},
   "source": [
    "Aby zmienić kształt tablicy za pomocą funkcji reshape możemy zrobić tak:"
   ]
  },
  {
   "cell_type": "code",
   "execution_count": 13,
   "metadata": {},
   "outputs": [
    {
     "name": "stdout",
     "output_type": "stream",
     "text": [
      "[0 1 2 3 4 5 6 7] \n",
      "\n",
      "[[0 1 2 3]\n",
      " [4 5 6 7]]\n"
     ]
    }
   ],
   "source": [
    "A = np.arange(8)\n",
    "print(A,'\\n')\n",
    "A = A.reshape((2, 4))\n",
    "print(A)"
   ]
  },
  {
   "cell_type": "markdown",
   "metadata": {},
   "source": [
    "lub użyć funkcję **resize**:"
   ]
  },
  {
   "cell_type": "code",
   "execution_count": 14,
   "metadata": {},
   "outputs": [
    {
     "name": "stdout",
     "output_type": "stream",
     "text": [
      "[0 1 2 3 4 5 6 7] \n",
      "\n",
      "[[0 1 2 3]\n",
      " [4 5 6 7]]\n"
     ]
    }
   ],
   "source": [
    "A = np.arange(8)\n",
    "print(A,'\\n')\n",
    "A.resize(2, 4)\n",
    "# print A.resize(2, 4), '\\n'\n",
    "print(A)"
   ]
  },
  {
   "cell_type": "markdown",
   "metadata": {},
   "source": [
    "Do sprawdzenia wymiaru tablicy służy funkcja **shape**:"
   ]
  },
  {
   "cell_type": "code",
   "execution_count": 15,
   "metadata": {},
   "outputs": [
    {
     "name": "stdout",
     "output_type": "stream",
     "text": [
      "(5, 4) \n",
      "\n",
      "5 \n",
      "\n",
      "4 \n",
      "\n",
      "20\n"
     ]
    }
   ],
   "source": [
    "A = np.arange(20).reshape(5,4)\n",
    "print(A.shape, '\\n') # wymiar tablicy\n",
    "print(A.shape[0], '\\n') # pierwszy wymiar\n",
    "print(A.shape[1], '\\n') # drugi wymiar\n",
    "print(A.size) # liczba wszystkich elementów w tablicy "
   ]
  },
  {
   "cell_type": "markdown",
   "metadata": {},
   "source": [
    "Transpozycja macierzy:"
   ]
  },
  {
   "cell_type": "code",
   "execution_count": 16,
   "metadata": {},
   "outputs": [
    {
     "name": "stdout",
     "output_type": "stream",
     "text": [
      "[[0 1 2 3]\n",
      " [4 5 6 7]] \n",
      "\n",
      "[[0 4]\n",
      " [1 5]\n",
      " [2 6]\n",
      " [3 7]] \n",
      "\n",
      "[[0 4]\n",
      " [1 5]\n",
      " [2 6]\n",
      " [3 7]]\n"
     ]
    }
   ],
   "source": [
    "A = np.arange(8).reshape(2,4)\n",
    "print(A, '\\n')\n",
    "print(A.T, '\\n')\n",
    "print(np.transpose(A))"
   ]
  },
  {
   "cell_type": "markdown",
   "metadata": {},
   "source": [
    "Podobnie jak przy funkcji reshape aby zachować wynik transpozycji macierzy musimy go przypisać do nowej zmiennej."
   ]
  },
  {
   "cell_type": "code",
   "execution_count": 17,
   "metadata": {},
   "outputs": [
    {
     "name": "stdout",
     "output_type": "stream",
     "text": [
      "[[0 1 2 3]\n",
      " [4 5 6 7]] \n",
      "\n",
      "[[0 4]\n",
      " [1 5]\n",
      " [2 6]\n",
      " [3 7]]\n"
     ]
    }
   ],
   "source": [
    "print(A, '\\n')\n",
    "A = A.T\n",
    "print(A)"
   ]
  },
  {
   "cell_type": "markdown",
   "metadata": {},
   "source": [
    "Podobnie jest z poleceniem **swapaxes(tablica, oś1, oś2)**, które wyświetli zmienione wiersze z kolumnami dla tablicy dwuwymiarowej. Dla wielowymiarowych tablic zmieni ono elementy dla zadanych osi."
   ]
  },
  {
   "cell_type": "code",
   "execution_count": 18,
   "metadata": {},
   "outputs": [
    {
     "name": "stdout",
     "output_type": "stream",
     "text": [
      "[[1 2 3]] \n",
      "\n",
      "[[1]\n",
      " [2]\n",
      " [3]] \n",
      "\n",
      "[[[0 1]\n",
      "  [2 3]]\n",
      "\n",
      " [[4 5]\n",
      "  [6 7]]] \n",
      "\n",
      "[[[0 4]\n",
      "  [2 6]]\n",
      "\n",
      " [[1 5]\n",
      "  [3 7]]]\n"
     ]
    }
   ],
   "source": [
    "x = np.array([[1,2,3]])\n",
    "print(x, '\\n')\n",
    "print(np.swapaxes(x,0,1), '\\n')\n",
    "\n",
    "x = np.array([[[0,1],[2,3]],[[4,5],[6,7]]])\n",
    "print(x, '\\n')\n",
    "print(np.swapaxes(x, 0, 2))"
   ]
  },
  {
   "cell_type": "markdown",
   "metadata": {},
   "source": [
    "Aby zmienić tablicę na jednowymiarową, możemy użyć polecenia:"
   ]
  },
  {
   "cell_type": "code",
   "execution_count": 19,
   "metadata": {},
   "outputs": [
    {
     "name": "stdout",
     "output_type": "stream",
     "text": [
      "[[0 1 2 3]\n",
      " [4 5 6 7]] \n",
      "\n",
      "[0 1 2 3 4 5 6 7] \n",
      "\n",
      "[0 1 2 3 4 5 6 7]\n"
     ]
    }
   ],
   "source": [
    "A = np.arange(8).reshape(2,4)\n",
    "print(A, '\\n')\n",
    "print(np.ravel(A), '\\n')\n",
    "print(A.reshape(-1,))"
   ]
  },
  {
   "cell_type": "markdown",
   "metadata": {},
   "source": [
    "# Podstawowe operacje na tablicach\n",
    "\n",
    "  * dodawanie:"
   ]
  },
  {
   "cell_type": "code",
   "execution_count": 32,
   "metadata": {},
   "outputs": [
    {
     "name": "stdout",
     "output_type": "stream",
     "text": [
      "[1 5 8 5 9]\n",
      "[1 5 8 5 9] \n",
      "\n",
      "[2 5 7 3 6] \n",
      "\n",
      "[[15 17 19]\n",
      " [21 23 25]\n",
      " [27 29 31]\n",
      " [33 35 37]\n",
      " [39 41 43]]\n",
      "[[15 17 19]\n",
      " [21 23 25]\n",
      " [27 29 31]\n",
      " [33 35 37]\n",
      " [39 41 43]] \n",
      "\n",
      "[[20 21 22]\n",
      " [23 24 25]\n",
      " [26 27 28]\n",
      " [29 30 31]\n",
      " [32 33 34]] \n",
      "\n",
      "[[15 16 17]\n",
      " [18 19 20]\n",
      " [21 22 23]\n",
      " [24 25 26]\n",
      " [27 28 29]] \n",
      "\n",
      "[1 2 3] \n",
      "\n",
      "[[16 18 20]\n",
      " [19 21 23]\n",
      " [22 24 26]\n",
      " [25 27 29]\n",
      " [28 30 32]]\n"
     ]
    }
   ],
   "source": [
    "x = np.array([1,4,6,2,5])\n",
    "v = np.arange(5)\n",
    "print(x+v)\n",
    "print(np.add(x, v), '\\n') # równoważnie\n",
    "print(x+1, '\\n')\n",
    "\n",
    "A = np.arange(15, 30).reshape((5, 3))\n",
    "B = np.arange(15).reshape((5, 3))\n",
    "print(A+B)\n",
    "print(np.add(A, B), '\\n')\n",
    "print(A+5, '\\n')\n",
    "\n",
    "x = np.array([1,2,3])\n",
    "print(A, '\\n')\n",
    "print(x, '\\n')\n",
    "print(np.add(A, x)) # dodawanie do każdego wiersza wektora x"
   ]
  },
  {
   "cell_type": "markdown",
   "metadata": {},
   "source": [
    "* odejmowanie:"
   ]
  },
  {
   "cell_type": "code",
   "execution_count": 33,
   "metadata": {},
   "outputs": [
    {
     "name": "stdout",
     "output_type": "stream",
     "text": [
      "[ 1  3  4 -1  1]\n",
      "[ 1  3  4 -1  1] \n",
      "\n",
      "[0 3 5 1 4]\n",
      "[[15 15 15]\n",
      " [15 15 15]\n",
      " [15 15 15]\n",
      " [15 15 15]\n",
      " [15 15 15]]\n",
      "[[15 15 15]\n",
      " [15 15 15]\n",
      " [15 15 15]\n",
      " [15 15 15]\n",
      " [15 15 15]] \n",
      "\n",
      "[[14 15 16]\n",
      " [17 18 19]\n",
      " [20 21 22]\n",
      " [23 24 25]\n",
      " [26 27 28]] \n",
      "\n",
      "[[14 14 14]\n",
      " [17 17 17]\n",
      " [20 20 20]\n",
      " [23 23 23]\n",
      " [26 26 26]]\n"
     ]
    }
   ],
   "source": [
    "x = np.array([1,4,6,2,5])\n",
    "v = np.arange(5)\n",
    "print(x-v)\n",
    "print(np.subtract(x, v), '\\n') # równoważnie\n",
    "print(x-1)\n",
    "\n",
    "A = np.arange(15, 30).reshape((5, 3))\n",
    "B = np.arange(15).reshape((5, 3))\n",
    "print(A-B)\n",
    "print(np.subtract(A, B), '\\n')\n",
    "print(A-1, '\\n')\n",
    "\n",
    "x = np.array([1,2,3])\n",
    "print(np.subtract(A, x)) # odjęcie od każdego wiersza wektora x"
   ]
  },
  {
   "cell_type": "markdown",
   "metadata": {},
   "source": [
    "* mnożenie:"
   ]
  },
  {
   "cell_type": "code",
   "execution_count": 34,
   "metadata": {},
   "outputs": [
    {
     "name": "stdout",
     "output_type": "stream",
     "text": [
      "[ 5 20 30 10 25] \n",
      "\n",
      "42 \n",
      "\n",
      "[ 0  4 12  6 20] \n",
      "\n",
      "[[ 5 15]\n",
      " [ 0 30]] \n",
      "\n",
      "[[ 22   0]\n",
      " [ 48 -12]] \n",
      "\n",
      "[[ -2  18]\n",
      " [  0 -12]]\n"
     ]
    }
   ],
   "source": [
    "x = np.array([1,4,6,2,5])\n",
    "v = np.arange(5)\n",
    "print(x*5, '\\n')\n",
    "print(np.dot(x,v), '\\n') # iloczyn skalarny\n",
    "print(x*v, '\\n' )# to nie, mnożony jest element przez element! \n",
    "\n",
    "A = np.array([[1, 3], [0, 6]])\n",
    "print(A*5, '\\n')\n",
    "\n",
    "B = np.array([[-2, 6], [8, -2]])\n",
    "print(np.dot(A, B), '\\n')\n",
    "print(A*B) # to nie, mnożony jest element przez element! "
   ]
  },
  {
   "cell_type": "markdown",
   "metadata": {},
   "source": [
    "NumPy ma możliwość deklarowania macierzy, różnią się one w tym środowisku od tablic tym, że operacja mnożenia nie dotyczy mnożenia elementów, tylko klasycznego mnożenia macierzy:"
   ]
  },
  {
   "cell_type": "code",
   "execution_count": 35,
   "metadata": {},
   "outputs": [
    {
     "name": "stdout",
     "output_type": "stream",
     "text": [
      "[[17  1]\n",
      " [28  1]] \n",
      "\n",
      "[[17  1]\n",
      " [28  1]]\n"
     ]
    }
   ],
   "source": [
    "A = np.matrix( ((2,3), (3, 5)) )\n",
    "B = np.matrix( ((1,2), (5, -1)) )\n",
    "\n",
    "print(A * B, '\\n')\n",
    "print(np.dot(A, B))"
   ]
  },
  {
   "cell_type": "markdown",
   "metadata": {},
   "source": [
    "  * potęgowanie:"
   ]
  },
  {
   "cell_type": "code",
   "execution_count": 36,
   "metadata": {},
   "outputs": [
    {
     "name": "stdout",
     "output_type": "stream",
     "text": [
      "[1 4 6 2 5] \n",
      "\n",
      "[ 1 16 36  4 25]\n",
      "[ 1 16 36  4 25] \n",
      "\n",
      "[[0 1 2]\n",
      " [3 4 5]\n",
      " [6 7 8]] \n",
      "\n",
      "[[ 0  1  4]\n",
      " [ 9 16 25]\n",
      " [36 49 64]] \n",
      "\n",
      "[[ 0  1  4]\n",
      " [ 9 16 25]\n",
      " [36 49 64]]\n"
     ]
    }
   ],
   "source": [
    "x = np.array([1,4,6,2,5])\n",
    "print(x, '\\n')\n",
    "\n",
    "print(x**2)\n",
    "print(np.power(x, 2), '\\n') # równoważnie\n",
    "\n",
    "A = np.arange(9).reshape((3, 3))\n",
    "print(A, '\\n')\n",
    "print(A**2, '\\n') # kwadrat elementów tablicy\n",
    "print(np.power(A, 2)) # równoważnie"
   ]
  },
  {
   "cell_type": "markdown",
   "metadata": {},
   "source": [
    "Więcej funkcji można znaleźć tutaj: [https://docs.scipy.org/doc/numpy/reference/routines.math.html]."
   ]
  },
  {
   "cell_type": "markdown",
   "metadata": {},
   "source": [
    "## Porównania elementów tablic"
   ]
  },
  {
   "cell_type": "code",
   "execution_count": 37,
   "metadata": {},
   "outputs": [
    {
     "name": "stdout",
     "output_type": "stream",
     "text": [
      "[[False False False]\n",
      " [False False False]\n",
      " [False False False]\n",
      " [False False False]\n",
      " [False False False]] \n",
      "\n",
      "[[ True  True  True]\n",
      " [ True  True  True]\n",
      " [ True  True  True]\n",
      " [ True  True  True]\n",
      " [ True  True  True]] \n",
      "\n",
      "[[False False False]\n",
      " [False False False]\n",
      " [False False False]\n",
      " [False False False]\n",
      " [ True False False]] \n",
      "\n",
      "True \n",
      "\n",
      "False\n"
     ]
    }
   ],
   "source": [
    "A = np.arange(5, 20).reshape((5, 3))\n",
    "B = np.arange(15).reshape((5, 3))\n",
    "\n",
    "print(A < B, '\\n')\n",
    "print(A == A, '\\n')\n",
    "print(A == 17, '\\n')\n",
    "print(np.any( A > 17 ), '\\n') # prawdziwe, jeśli każdy element z osobna spełnia warunek \n",
    "print(np.all( A > 17 )) # prawdziwe jeśli wszystkie elementy spełniają warunek"
   ]
  },
  {
   "cell_type": "markdown",
   "metadata": {},
   "source": [
    "## Łączenie i dzielenie tablic\n",
    "Biblioteka <i>NumPy</i> daje nam narzędzia dzięki, którym możemy łączyć i dzielić tablice. Zaczniemy od omówienia problemu łączenia tablic:"
   ]
  },
  {
   "cell_type": "code",
   "execution_count": 38,
   "metadata": {},
   "outputs": [
    {
     "name": "stdout",
     "output_type": "stream",
     "text": [
      "[[1 2]\n",
      " [3 4]] \n",
      "\n",
      "[[5 6]] \n",
      "\n",
      "[[1 2]\n",
      " [3 4]\n",
      " [5 6]] \n",
      "\n",
      "[[1 2]\n",
      " [3 4]\n",
      " [5 6]] \n",
      "\n",
      "[[1 2 5]\n",
      " [3 4 6]] \n",
      "\n",
      "[[1 2 5]\n",
      " [3 4 6]]\n"
     ]
    }
   ],
   "source": [
    "x = np.array([[1, 2], [3, 4]])\n",
    "y = np.array([[5, 6]])\n",
    "\n",
    "print(x, '\\n')\n",
    "print(y, '\\n')\n",
    "\n",
    "# łączenie wierszowe\n",
    "print(np.concatenate((x, y), axis=0), '\\n')\n",
    "print(np.vstack((x,y)), '\\n')\n",
    "\n",
    "# łączenie kolumnowe\n",
    "print(np.concatenate((x,y.T), axis=1), '\\n')\n",
    "print(np.hstack((x,y.T)))"
   ]
  },
  {
   "cell_type": "markdown",
   "metadata": {},
   "source": [
    "## Wybrane metody z algebry linowej\n",
    "Do części funkcji typowych dla algebry liniowej możemy się odwołać po zaimportowaniu biblioteki **linalg** będącej integralną częścią biblioteki NumPy."
   ]
  },
  {
   "cell_type": "code",
   "execution_count": 39,
   "metadata": {},
   "outputs": [],
   "source": [
    "import numpy.linalg as alg "
   ]
  },
  {
   "cell_type": "markdown",
   "metadata": {},
   "source": [
    "Można tam znaleźć funkcję obliczającą:\n",
    "\n",
    "* macierz odwrotną:"
   ]
  },
  {
   "cell_type": "code",
   "execution_count": 40,
   "metadata": {},
   "outputs": [
    {
     "name": "stdout",
     "output_type": "stream",
     "text": [
      "[[-2.   1. ]\n",
      " [ 1.5 -0.5]] \n",
      "\n",
      "[[1.00000000e+00 1.11022302e-16]\n",
      " [0.00000000e+00 1.00000000e+00]]\n"
     ]
    }
   ],
   "source": [
    "A = np.array([[1., 2.], [3., 4.]])\n",
    "invA = alg.inv(A)\n",
    "print(invA, '\\n')\n",
    "print(np.dot(A, invA))"
   ]
  },
  {
   "cell_type": "markdown",
   "metadata": {},
   "source": [
    "  * wyznacznik:"
   ]
  },
  {
   "cell_type": "code",
   "execution_count": 41,
   "metadata": {},
   "outputs": [
    {
     "name": "stdout",
     "output_type": "stream",
     "text": [
      "[[1. 2.]\n",
      " [3. 4.]] \n",
      "\n",
      "-2.0000000000000004\n"
     ]
    }
   ],
   "source": [
    "print(A, '\\n')\n",
    "print(alg.det(A))"
   ]
  },
  {
   "cell_type": "markdown",
   "metadata": {},
   "source": [
    "  * ślad:"
   ]
  },
  {
   "cell_type": "code",
   "execution_count": 42,
   "metadata": {},
   "outputs": [
    {
     "name": "stdout",
     "output_type": "stream",
     "text": [
      "[[1. 2.]\n",
      " [3. 4.]] \n",
      "\n",
      "5.0\n"
     ]
    }
   ],
   "source": [
    "print(A, '\\n')\n",
    "print(np.trace(A))"
   ]
  },
  {
   "cell_type": "markdown",
   "metadata": {},
   "source": [
    "  * normę dla macierz lub wektora:"
   ]
  },
  {
   "cell_type": "code",
   "execution_count": 43,
   "metadata": {},
   "outputs": [
    {
     "name": "stdout",
     "output_type": "stream",
     "text": [
      "5.477225575051661 \n",
      "\n",
      "5.477225575051661 \n",
      "\n",
      "7.0 \n",
      "\n",
      "[3.16227766 4.47213595] \n",
      "\n",
      "[2.23606798 5.        ] \n",
      "\n"
     ]
    }
   ],
   "source": [
    "print(alg.norm(A), '\\n') # Euklidesowa\n",
    "print(alg.norm(A, 'fro'), '\\n') # Frobeniusa\n",
    "print(alg.norm(A, np.inf), '\\n') # maksimum\n",
    "\n",
    "print(alg.norm(A, axis=0), '\\n') # wierszy\n",
    "print(alg.norm(A, axis=1), '\\n') # kolumn"
   ]
  },
  {
   "cell_type": "markdown",
   "metadata": {},
   "source": [
    "  * rozwiązywanie układów równań:"
   ]
  },
  {
   "cell_type": "code",
   "execution_count": 44,
   "metadata": {},
   "outputs": [
    {
     "name": "stdout",
     "output_type": "stream",
     "text": [
      "[2.33333333 0.66666667]\n"
     ]
    }
   ],
   "source": [
    "# 4*x_1 + x_2 = 10\n",
    "# 3*x_1 = 7\n",
    "A = np.array([[4,1], [3,0]])\n",
    "b = np.array([10,7])\n",
    "print(np.linalg.solve(A, b))"
   ]
  },
  {
   "cell_type": "markdown",
   "metadata": {},
   "source": [
    "## Statystyka\n",
    "<i>NumPy</i> oferuje dużo możliwości generacji liczb losowych. Poniżej podaję niektóre z nich, więcej można znaleźć tutaj:\n",
    "[https://docs.scipy.org/doc/numpy/reference/routines.random.html]"
   ]
  },
  {
   "cell_type": "code",
   "execution_count": 45,
   "metadata": {},
   "outputs": [
    {
     "name": "stdout",
     "output_type": "stream",
     "text": [
      "[[0.86880463 0.03797821]\n",
      " [0.57624381 0.27400409]\n",
      " [0.4049097  0.88930697]] \n",
      "\n",
      "[[ 2.42519937  1.34921792 -0.78832884]\n",
      " [-1.25289928 -1.51255731 -1.26181902]] \n",
      "\n",
      "[[0 1 0]\n",
      " [4 0 1]\n",
      " [4 4 4]] \n",
      "\n",
      "[2 4 3] \n",
      "\n",
      "[[0.24348826 0.23196412 0.68823898]\n",
      " [1.12911633 0.48146323 0.90816093]] \n",
      "\n",
      "[[9 1 1 3]\n",
      " [3 1 3 1]] \n",
      "\n",
      "[ 0.24314282 -0.58516017 -0.06963496  0.28576965 -1.71044697 -0.46424088\n",
      " -2.02086434] \n",
      "\n",
      "[4 2 5 7 7 3 4 2 7 6] \n",
      "\n",
      "[[-0.29833588 -1.4507015 ]\n",
      " [ 8.05313395 -4.5533062 ]\n",
      " [ 2.18881208 -3.73203339]\n",
      " [ 7.45746819 -5.46719781]\n",
      " [ 1.65242506 -5.36504148]\n",
      " [ 7.3368385  -6.10153681]\n",
      " [ 0.41196601 -2.39546637]] \n",
      "\n"
     ]
    }
   ],
   "source": [
    "# macierz losowa 3x2 (liczby z przedziału [0, 1)) \n",
    "print(np.random.rand(3,2), '\\n')\n",
    "\n",
    "# macierz losowa 2x3 o elementach z rozkładu N(mu, sigma^2) = N(1, 4)\n",
    "print(2 * np.random.randn(2, 3) + 1, '\\n')\n",
    "\n",
    "# macierz losowa 3x3 o elementach całkowitych z przedziału [0, 5)\n",
    "print(np.random.randint(5, size=(3, 3)), '\\n')\n",
    "\n",
    "# losowe wybranie 3 liczb z [0, 1, 2, 3, 4]\n",
    "print(np.random.choice(5, 3, replace=False), '\\n')\n",
    "\n",
    "# rozkład wykładniczy (scale = 1/lambda)\n",
    "print(numpy.random.exponential(scale=1.0, size=(2, 3)), '\\n')\n",
    "\n",
    "# rozkład geometryczny\n",
    "print(np.random.geometric(p=0.35, size=(2,4)), '\\n')\n",
    "\n",
    "# rozkład normalny N(mu, sigma)\n",
    "print(np.random.normal(0.0, 1, size=7), '\\n')\n",
    "\n",
    "# rozkład Poissona\n",
    "print(np.random.poisson(5, 10), '\\n')\n",
    "\n",
    "# rozkład wielowymiarowy rozkład normalny\n",
    "mean = [5, -5]\n",
    "cov = [[10, -6], [-6, 5]]\n",
    "print(np.random.multivariate_normal(mean, cov, 7), '\\n')"
   ]
  },
  {
   "cell_type": "markdown",
   "metadata": {},
   "source": [
    "Proste statystyki:"
   ]
  },
  {
   "cell_type": "code",
   "execution_count": 46,
   "metadata": {},
   "outputs": [
    {
     "name": "stdout",
     "output_type": "stream",
     "text": [
      "6.448190382445139 \n",
      "\n",
      "-0.19494417687480325 \n",
      "\n",
      "23.564747084935302 \n",
      "\n",
      "-46.452071696900084 \n",
      "\n",
      "3.366392440705043\n",
      "3.366392440705043 \n",
      "\n",
      "3.677618978835153 \n",
      "\n",
      "2.5032162841399876\n",
      "2.5032162841399876 \n",
      "\n",
      "6.266091765183608\n",
      "6.266091765183608\n"
     ]
    }
   ],
   "source": [
    "x = np.random.normal(2.0, 2.5, size=7)\n",
    "\n",
    "print(x.max(),'\\n') #maksymalna wartość\n",
    "\n",
    "print(x.min(),'\\n') # minimalna wartość \n",
    "\n",
    "print(x.sum(),'\\n') # suma wszystkich elementów \n",
    "\n",
    "print(x.prod(),'\\n') # iloczyn wszystkich elementów \n",
    "\n",
    "print(x.mean()) # średnia z wszystkich elementów\n",
    "print(np.mean(x),'\\n')\n",
    "\n",
    "print(np.median(x),'\\n') # mediana\n",
    "\n",
    "print(x.std()) # odchylenie standardowe \n",
    "print(np.std(x),'\\n')\n",
    "\n",
    "print(x.var()) # wariancja\n",
    "print(np.var(x))"
   ]
  },
  {
   "cell_type": "markdown",
   "metadata": {},
   "source": [
    "# Zadanie 1\n",
    "Wygeneruj losową tablice 100 x 10, która będzie reprezentować 100 punktów w 10 wymiarowej przestrzeni. Napisz funkcję, która policzy odległość euklidesową pomiędzy każdą parą punktów, czy potrafisz zrobić to w jednej linijce, bez użycia żadnych pętli/wytworników pętli? Przypomnienie, dla dwóch wektorów  xx  i  yy  odległość euklidesową liczymy ze wzoru: \n",
    "\n",
    "$$\n",
    "d(x,y)=\\|x-y\\|_2^2=\\sum_{i=1}^n |x_i-y_i|^2.\n",
    "$$"
   ]
  },
  {
   "cell_type": "code",
   "execution_count": 6,
   "metadata": {},
   "outputs": [
    {
     "name": "stdout",
     "output_type": "stream",
     "text": [
      "[[5 7 1 1 7 0 1 4 6 5]\n",
      " [5 5 2 0 6 3 5 7 4 7]\n",
      " [2 6 9 6 5 1 5 5 1 6]\n",
      " [6 1 2 7 1 7 8 2 7 3]\n",
      " [5 2 0 6 8 5 9 9 0 9]\n",
      " [4 6 9 8 0 9 1 3 2 6]\n",
      " [8 7 2 2 6 0 6 5 6 6]\n",
      " [1 6 9 9 0 4 8 7 0 2]\n",
      " [5 5 3 3 7 3 9 9 1 2]\n",
      " [0 9 7 2 1 8 0 9 5 7]\n",
      " [8 8 0 7 6 7 9 9 8 4]\n",
      " [1 8 7 3 9 9 5 2 5 8]\n",
      " [1 5 5 1 5 5 7 0 5 9]\n",
      " [9 9 1 9 0 2 1 7 0 2]\n",
      " [9 1 4 0 5 0 1 3 2 0]\n",
      " [9 2 2 1 6 5 7 6 8 6]\n",
      " [6 4 2 5 0 7 2 3 4 3]\n",
      " [6 3 0 4 5 9 8 3 9 0]\n",
      " [3 7 3 8 0 8 8 8 5 4]\n",
      " [6 1 3 3 5 8 2 1 7 0]\n",
      " [6 1 0 9 1 9 5 8 9 1]\n",
      " [7 6 3 6 6 2 0 6 9 2]\n",
      " [2 1 8 7 8 1 5 2 1 0]\n",
      " [5 1 3 3 9 5 7 9 2 8]\n",
      " [9 2 1 1 1 4 1 3 6 7]\n",
      " [5 1 0 5 4 6 3 7 7 9]\n",
      " [3 4 9 7 4 0 3 3 5 4]\n",
      " [5 8 0 2 5 2 1 5 8 6]\n",
      " [1 2 5 9 4 4 9 3 8 8]\n",
      " [3 2 3 4 6 0 7 8 3 2]\n",
      " [3 6 4 5 5 8 0 7 9 5]\n",
      " [8 6 6 5 1 1 1 4 7 3]\n",
      " [8 3 2 6 7 1 9 8 2 0]\n",
      " [8 3 0 0 6 3 2 3 9 9]\n",
      " [4 6 6 7 0 8 8 8 2 9]\n",
      " [3 5 4 8 6 6 5 0 9 7]\n",
      " [8 6 5 4 4 0 0 7 2 2]\n",
      " [9 2 1 8 3 6 1 4 3 4]\n",
      " [6 9 8 9 1 1 0 3 3 6]\n",
      " [0 9 6 0 3 6 0 9 6 6]\n",
      " [9 6 8 5 4 4 1 3 4 9]\n",
      " [9 6 7 4 6 7 8 0 2 8]\n",
      " [9 4 1 0 8 8 6 2 5 9]\n",
      " [9 2 7 7 1 0 8 4 7 2]\n",
      " [9 4 8 9 6 5 5 6 8 3]\n",
      " [7 7 8 7 9 1 9 9 0 9]\n",
      " [6 1 8 2 2 1 4 3 9 5]\n",
      " [4 0 2 4 8 2 7 4 7 9]\n",
      " [7 0 4 9 7 5 1 9 5 1]\n",
      " [8 0 2 8 2 0 4 5 1 2]\n",
      " [4 8 7 5 8 9 3 0 4 6]\n",
      " [7 1 0 5 7 7 5 8 9 6]\n",
      " [7 7 4 6 5 2 6 9 1 2]\n",
      " [5 4 5 8 0 6 8 2 0 1]\n",
      " [6 3 3 8 6 9 2 2 4 6]\n",
      " [0 0 6 1 5 7 9 4 6 7]\n",
      " [4 2 1 5 8 6 7 1 6 2]\n",
      " [4 1 7 6 7 6 3 9 9 9]\n",
      " [3 5 4 5 9 0 0 6 2 9]\n",
      " [6 0 7 9 9 9 7 9 0 5]\n",
      " [1 9 7 4 5 3 4 6 5 2]\n",
      " [5 2 5 6 6 4 2 3 6 5]\n",
      " [0 6 1 3 3 4 4 7 5 4]\n",
      " [0 6 1 4 3 5 0 3 2 3]\n",
      " [3 4 5 8 1 2 2 7 4 1]\n",
      " [2 7 8 6 9 7 0 6 6 2]\n",
      " [7 9 8 5 7 6 4 3 5 1]\n",
      " [9 6 5 4 4 1 6 6 6 3]\n",
      " [0 0 4 7 2 5 6 4 7 5]\n",
      " [3 3 0 4 0 3 3 5 4 2]\n",
      " [6 3 0 7 2 1 3 3 3 0]\n",
      " [2 3 7 6 0 7 7 9 2 4]\n",
      " [7 3 1 7 5 4 7 2 4 7]\n",
      " [6 7 8 9 8 3 7 3 9 6]\n",
      " [0 8 2 9 6 8 0 3 6 4]\n",
      " [1 3 7 0 3 7 9 9 1 8]\n",
      " [9 4 3 2 8 4 0 9 0 7]\n",
      " [4 0 2 3 6 1 3 7 6 4]\n",
      " [5 3 8 6 1 1 7 4 7 9]\n",
      " [6 5 8 4 6 7 8 7 7 6]\n",
      " [6 1 4 9 6 7 4 7 0 6]\n",
      " [2 4 5 7 1 2 6 8 2 8]\n",
      " [4 7 1 3 7 0 8 8 1 6]\n",
      " [5 2 5 9 9 9 4 0 6 2]\n",
      " [3 1 7 0 1 6 3 0 2 3]\n",
      " [0 8 8 6 4 8 0 6 9 6]\n",
      " [4 9 2 1 0 4 7 3 9 6]\n",
      " [5 1 5 0 7 4 8 8 5 0]\n",
      " [6 9 7 9 0 2 3 9 9 2]\n",
      " [6 1 1 1 7 4 5 6 6 9]\n",
      " [2 3 6 7 4 3 6 4 6 2]\n",
      " [4 7 5 0 7 0 5 4 2 2]\n",
      " [6 5 2 0 6 5 6 5 4 2]\n",
      " [9 0 9 0 9 9 5 1 6 4]\n",
      " [3 8 2 5 9 6 3 2 1 3]\n",
      " [9 9 5 4 9 3 2 5 0 3]\n",
      " [0 0 5 9 9 1 2 8 5 6]\n",
      " [4 0 8 0 3 3 0 2 0 7]\n",
      " [8 9 4 6 5 4 9 1 3 2]\n",
      " [1 7 9 6 6 2 6 8 0 1]]\n",
      "[[ 0.          7.         12.12435565 ... 13.03840481 12.56980509\n",
      "  14.24780685]\n",
      " [ 7.          0.         10.67707825 ... 11.70469991 12.04159458\n",
      "  12.64911064]\n",
      " [12.12435565 10.67707825  0.         ... 11.         11.44552314\n",
      "   6.32455532]\n",
      " ...\n",
      " [13.03840481 11.70469991 11.         ...  0.         16.43167673\n",
      "  14.59451952]\n",
      " [12.56980509 12.04159458 11.44552314 ... 16.43167673  0.\n",
      "  12.28820573]\n",
      " [14.24780685 12.64911064  6.32455532 ... 14.59451952 12.28820573\n",
      "   0.        ]]\n"
     ]
    }
   ],
   "source": [
    "from numpy import random\n",
    "import numpy.linalg as alg\n",
    "\n",
    "x = random.randint(10, size=(100,10))\n",
    "print(x)\n",
    "dist = numpy.array([alg.norm(r1-r2) for r1 in x for r2 in x]).reshape(100,100)    \n",
    "print(dist)"
   ]
  },
  {
   "cell_type": "markdown",
   "metadata": {},
   "source": [
    "# Zadanie 2\n",
    "\n",
    "Wygeneruj losową tablicę z wielowymiarowego rozkładu normalnego (procedura random.multivariate_normal), która będzie reprezentować 100 punktów w 5 wymiarowej przestrzeni. Napisz funkcję do normalizacji zbioru punktów (zrób to w jednej linijce, bez użycia pętli):\n",
    "\n",
    "$$\n",
    "x_{ij} = \\frac{x_{ij}-\\mu_j}{\\sigma_j},\n",
    "$$\n",
    "\n",
    "gdzie  $μ_j$  to średnia, a  $σ_j$  to odchylenie standardowe po  $j$-tej kolumnie, zaś  $x_{ij}$  to  $j$-ta współrzędna  $i$ -tego wektora.\n",
    "\n",
    "Policz średnią i macierz kowariancji tak przekształconych danych. Co zaobserwowałeś?"
   ]
  },
  {
   "cell_type": "code",
   "execution_count": 7,
   "metadata": {},
   "outputs": [
    {
     "name": "stdout",
     "output_type": "stream",
     "text": [
      "[-1.60982339e-17 -9.99200722e-18 -5.96744876e-17 -2.44249065e-17\n",
      " -1.85268467e-17]\n",
      "[1. 1. 1. 1. 1.]\n"
     ]
    }
   ],
   "source": [
    "    mean = [0,0,0,0,0]\n",
    "    cov = numpy.eye(5)\n",
    "    X = numpy.random.multivariate_normal(mean, cov, 100)\n",
    "\n",
    "    X_new = (X - numpy.mean(X,axis = 0))/numpy.std(X,axis=0)\n",
    "    # print(X_new)\n",
    "    print(numpy.mean(X_new,axis =0))\n",
    "    print(numpy.std(X_new,axis =0))"
   ]
  },
  {
   "cell_type": "markdown",
   "metadata": {},
   "source": [
    "# Zadanie 3\n",
    "\n",
    "Wypełni 100-elementową tablicę liczbami losowymi naturalnymi z zakresu  $[5,15]$  i policz liczbę wystąpień tych liczb. Która z tych liczb najczęściej występuje w tak wygenerowanej tablicy?\n",
    "Wskazówka: zobacz funkcje: bincount, argmax."
   ]
  },
  {
   "cell_type": "code",
   "execution_count": 10,
   "metadata": {},
   "outputs": [
    {
     "name": "stdout",
     "output_type": "stream",
     "text": [
      "[ 7  5  9 13  6  6 10  9  9 14]\n",
      "[1, 2, 1, 0, 3, 1, 0, 0, 1, 1, 0]\n",
      "9\n"
     ]
    }
   ],
   "source": [
    "tab = np.arange(10)\n",
    "for i in tab:\n",
    "    tab[i] = random.randint(5,16)\n",
    "print(tab)\n",
    "\n",
    "results = [len([x for x in tab if x==i]) for i in range(5,16)]\n",
    "print(results)\n",
    "print(np.argmax(results)+5)\n"
   ]
  },
  {
   "cell_type": "markdown",
   "metadata": {},
   "source": [
    "# Zadanie 4\n",
    "\n",
    "Korzystając z poniższego kodu zaimportuj dane **breast cancer**, który składa się z 2 elementów: macierzy  $X$  o wymiarach 569 x 30 oraz wektora  $y$ o długości 569. Macierz  $X$  opisuje badania 683 pacjentów, a wektor  $y$  ich diagnozy."
   ]
  },
  {
   "cell_type": "code",
   "execution_count": 35,
   "metadata": {},
   "outputs": [
    {
     "name": "stdout",
     "output_type": "stream",
     "text": [
      "[[1.799e+01 1.038e+01 1.228e+02 ... 2.654e-01 4.601e-01 1.189e-01]\n",
      " [2.057e+01 1.777e+01 1.329e+02 ... 1.860e-01 2.750e-01 8.902e-02]\n",
      " [1.969e+01 2.125e+01 1.300e+02 ... 2.430e-01 3.613e-01 8.758e-02]\n",
      " ...\n",
      " [1.660e+01 2.808e+01 1.083e+02 ... 1.418e-01 2.218e-01 7.820e-02]\n",
      " [2.060e+01 2.933e+01 1.401e+02 ... 2.650e-01 4.087e-01 1.240e-01]\n",
      " [7.760e+00 2.454e+01 4.792e+01 ... 0.000e+00 2.871e-01 7.039e-02]]\n",
      "[0 0 0 0 0 0 0 0 0 0 0 0 0 0 0 0 0 0 0 1 1 1 0 0 0 0 0 0 0 0 0 0 0 0 0 0 0\n",
      " 1 0 0 0 0 0 0 0 0 1 0 1 1 1 1 1 0 0 1 0 0 1 1 1 1 0 1 0 0 1 1 1 1 0 1 0 0\n",
      " 1 0 1 0 0 1 1 1 0 0 1 0 0 0 1 1 1 0 1 1 0 0 1 1 1 0 0 1 1 1 1 0 1 1 0 1 1\n",
      " 1 1 1 1 1 1 0 0 0 1 0 0 1 1 1 0 0 1 0 1 0 0 1 0 0 1 1 0 1 1 0 1 1 1 1 0 1\n",
      " 1 1 1 1 1 1 1 1 0 1 1 1 1 0 0 1 0 1 1 0 0 1 1 0 0 1 1 1 1 0 1 1 0 0 0 1 0\n",
      " 1 0 1 1 1 0 1 1 0 0 1 0 0 0 0 1 0 0 0 1 0 1 0 1 1 0 1 0 0 0 0 1 1 0 0 1 1\n",
      " 1 0 1 1 1 1 1 0 0 1 1 0 1 1 0 0 1 0 1 1 1 1 0 1 1 1 1 1 0 1 0 0 0 0 0 0 0\n",
      " 0 0 0 0 0 0 0 1 1 1 1 1 1 0 1 0 1 1 0 1 1 0 1 0 0 1 1 1 1 1 1 1 1 1 1 1 1\n",
      " 1 0 1 1 0 1 0 1 1 1 1 1 1 1 1 1 1 1 1 1 1 0 1 1 1 0 1 0 1 1 1 1 0 0 0 1 1\n",
      " 1 1 0 1 0 1 0 1 1 1 0 1 1 1 1 1 1 1 0 0 0 1 1 1 1 1 1 1 1 1 1 1 0 0 1 0 0\n",
      " 0 1 0 0 1 1 1 1 1 0 1 1 1 1 1 0 1 1 1 0 1 1 0 0 1 1 1 1 1 1 0 1 1 1 1 1 1\n",
      " 1 0 1 1 1 1 1 0 1 1 0 1 1 1 1 1 1 1 1 1 1 1 1 0 1 0 0 1 0 1 1 1 1 1 0 1 1\n",
      " 0 1 0 1 1 0 1 0 1 1 1 1 1 1 1 1 0 0 1 1 1 1 1 1 0 1 1 1 1 1 1 1 1 1 1 0 1\n",
      " 1 1 1 1 1 1 0 1 0 1 1 0 1 1 1 1 1 0 0 1 0 1 0 1 1 1 1 1 0 1 1 0 1 0 1 0 0\n",
      " 1 1 1 0 1 1 1 1 1 1 1 1 1 1 1 0 1 0 0 1 1 1 1 1 1 1 1 1 1 1 1 1 1 1 1 1 1\n",
      " 1 1 1 1 1 1 1 0 0 0 0 0 0 1]\n"
     ]
    }
   ],
   "source": [
    "from sklearn.datasets import load_breast_cancer\n",
    "X, y  = load_breast_cancer(return_X_y=True)\n",
    "print(X)\n",
    "print(y)"
   ]
  },
  {
   "cell_type": "markdown",
   "metadata": {},
   "source": [
    "Za pomocą biblioteki **numpy** przenumeruj wektor  $y$ , tzn zamień wartości $0$ i $1$ na $-1$ i $+1$. Przeskaluj macierz  $X$ , tak żeby wartości w każdej kolumnie mieściły się w zakresie  $[0,1]$ , innymi słowy przeskaluj niezależnie każdą kolumnę  $X_i$  według poniższej procedury: \n",
    "\n",
    "$$\n",
    "X_i=\\frac{X_i-min(X_i)}{max(X_i)-min(X_i)}.\n",
    "$$"
   ]
  },
  {
   "cell_type": "code",
   "execution_count": 36,
   "metadata": {},
   "outputs": [
    {
     "name": "stdout",
     "output_type": "stream",
     "text": [
      "[[0.52103744 0.0226581  0.54598853 ... 0.91202749 0.59846245 0.41886396]\n",
      " [0.64314449 0.27257355 0.61578329 ... 0.63917526 0.23358959 0.22287813]\n",
      " [0.60149557 0.3902604  0.59574321 ... 0.83505155 0.40370589 0.21343303]\n",
      " ...\n",
      " [0.45525108 0.62123774 0.44578813 ... 0.48728522 0.12872068 0.1519087 ]\n",
      " [0.64456434 0.66351031 0.66553797 ... 0.91065292 0.49714173 0.45231536]\n",
      " [0.03686876 0.50152181 0.02853984 ... 0.         0.25744136 0.10068215]]\n"
     ]
    }
   ],
   "source": [
    "y[y == 0] = -1\n",
    "X = (X- np.min(X, axis = 0))/(np.max(X, axis=0)- np.min(X, axis=0))\n",
    "print(X)"
   ]
  },
  {
   "cell_type": "markdown",
   "metadata": {},
   "source": [
    "# Biblioteka Pandas\n",
    "\n",
    "**Pandas** jest darmową biblioteką języka Python, która służy do analizy danych. Zawiera łatwe w użyciu struktury i narzędzia do analizy danych spotykane w języku R.\n",
    "\n",
    "Biblioteka ta pozwala między innymi na:\n",
    "  \n",
    "  * tworzenie własnych danych w odpowiednich strukturach,\n",
    "  * importowanie i eksportowanie danych do różnych plików,\n",
    "  * przygotowanie danych do analizy (pozbycie się anomalii w danych, np. brakujących wartości),\n",
    "  * analizę danych,\n",
    "  * prezentację danych.\n",
    "\n",
    "Do instalacji tej biblioteki można użyć procedury **pip** albo **conda** [http://pandas.pydata.org/pandas-docs/stable/install.html]"
   ]
  },
  {
   "cell_type": "markdown",
   "metadata": {},
   "source": [
    "Aby skorzystać z biblioteki pandas należy ją wcześniej zaimportować, np.:"
   ]
  },
  {
   "cell_type": "code",
   "execution_count": 37,
   "metadata": {},
   "outputs": [
    {
     "name": "stdout",
     "output_type": "stream",
     "text": [
      "1.4.4\n"
     ]
    }
   ],
   "source": [
    "# import pandas\n",
    "import pandas as pd\n",
    "\n",
    "print(pd.__version__) # wersja biblioteki\n",
    "%matplotlib inline"
   ]
  },
  {
   "cell_type": "markdown",
   "metadata": {},
   "source": [
    "## Struktury danych\n",
    "\n",
    "Biblioteka pandas wprowadza dwie nowe struktury danych do Pythona: **Series** i **DataFrame**.\n",
    "\n",
    "1. **Serie**\n",
    "\n",
    "Seria to jednowymiarowy obiekt podobny do tablicy, listy, który może zawierać różnego rodzaju dane (liczby całkowite, zmiennoprzecinkowe, ciągi, obiekty Pythona, itd.). Każdy element serii ma przypisany indeks/etykietę (domyślnie od 0 do N, gdzie N jest długość serii minus 1)."
   ]
  },
  {
   "cell_type": "code",
   "execution_count": 38,
   "metadata": {},
   "outputs": [
    {
     "name": "stdout",
     "output_type": "stream",
     "text": [
      "0                7\n",
      "1       Heisenberg\n",
      "2             3.14\n",
      "3      -1789710578\n",
      "4    Happy Eating!\n",
      "dtype: object\n"
     ]
    }
   ],
   "source": [
    "from pandas import Series, DataFrame\n",
    "import pandas as pd\n",
    "s = pd.Series([7, 'Heisenberg', 3.14, -1789710578, 'Happy Eating!'])\n",
    "print(s)"
   ]
  },
  {
   "cell_type": "markdown",
   "metadata": {},
   "source": [
    "Alternatywnie, można zdefiniować indeksy elementów serii w trakcje jej definicji:"
   ]
  },
  {
   "cell_type": "code",
   "execution_count": 39,
   "metadata": {},
   "outputs": [
    {
     "name": "stdout",
     "output_type": "stream",
     "text": [
      "a    0.610640\n",
      "b    1.371325\n",
      "c   -1.736388\n",
      "i    1.322754\n",
      "e   -0.514355\n",
      "dtype: float64\n"
     ]
    }
   ],
   "source": [
    "import numpy as np\n",
    "\n",
    "# Series(dane, index=indeks)\n",
    "s = Series(np.random.randn(5), index=['a', 'b', 'c', 'i', 'e'])\n",
    "print(s)"
   ]
  },
  {
   "cell_type": "markdown",
   "metadata": {},
   "source": [
    "Konstruktor **Series** może przetwarzać słowniki Pythona:"
   ]
  },
  {
   "cell_type": "code",
   "execution_count": 40,
   "metadata": {},
   "outputs": [
    {
     "name": "stdout",
     "output_type": "stream",
     "text": [
      "a    0.0\n",
      "b    1.0\n",
      "c    2.0\n",
      "dtype: float64\n"
     ]
    }
   ],
   "source": [
    "d = {'a' : 0., 'b' : 1., 'c' : 2.}\n",
    "print(Series(d))"
   ]
  },
  {
   "cell_type": "code",
   "execution_count": 41,
   "metadata": {},
   "outputs": [
    {
     "name": "stdout",
     "output_type": "stream",
     "text": [
      "b    1.0\n",
      "c    2.0\n",
      "d    NaN\n",
      "a    0.0\n",
      "dtype: float64\n"
     ]
    }
   ],
   "source": [
    "print(Series(d, index=['b', 'c', 'd', 'a']))"
   ]
  },
  {
   "cell_type": "code",
   "execution_count": 42,
   "metadata": {},
   "outputs": [
    {
     "name": "stdout",
     "output_type": "stream",
     "text": [
      "a    1\n",
      "b    1\n",
      "c    1\n",
      "d    1\n",
      "e    1\n",
      "dtype: int64 \n",
      "\n",
      "a    1.0\n",
      "b    1.0\n",
      "c    1.0\n",
      "d    1.0\n",
      "e    1.0\n",
      "dtype: float64\n"
     ]
    }
   ],
   "source": [
    "print(Series(1, index=['a', 'b', 'c', 'd', 'e']), '\\n')\n",
    "print(Series(1., index=['a', 'b', 'c', 'd', 'e']))"
   ]
  },
  {
   "cell_type": "markdown",
   "metadata": {},
   "source": [
    "## 1.1 Odwoływanie się do elementów serii\n",
    "\n",
    "Struktura Series działa jak tablica. Można odwołać się do poszczególnego elementu serii za pomocą indeksu, używać logicznego indeksowania, itd.:"
   ]
  },
  {
   "cell_type": "code",
   "execution_count": 43,
   "metadata": {},
   "outputs": [
    {
     "name": "stdout",
     "output_type": "stream",
     "text": [
      "a    0.526428\n",
      "b   -0.954117\n",
      "c    0.186700\n",
      "i    0.525452\n",
      "e   -0.533321\n",
      "dtype: float64 \n",
      "\n",
      "0.5264276333782543 0.5254518083799931\n"
     ]
    }
   ],
   "source": [
    "s = Series(np.random.randn(5), index=['a', 'b', 'c', 'i', 'e'])\n",
    "print(s, '\\n')\n",
    "\n",
    "print(s[0], s[3])"
   ]
  },
  {
   "cell_type": "code",
   "execution_count": 44,
   "metadata": {},
   "outputs": [
    {
     "name": "stdout",
     "output_type": "stream",
     "text": [
      "a    0.526428\n",
      "i    0.525452\n",
      "dtype: float64 \n",
      "\n",
      "a    0.526428\n",
      "c    0.186700\n",
      "i    0.525452\n",
      "dtype: float64\n"
     ]
    }
   ],
   "source": [
    "print(s[s > 0.5], '\\n')\n",
    "print(s[s > s.mean()])"
   ]
  },
  {
   "cell_type": "markdown",
   "metadata": {},
   "source": [
    "## 1.2 Zmiana wartości wybranych elementów"
   ]
  },
  {
   "cell_type": "code",
   "execution_count": 45,
   "metadata": {},
   "outputs": [
    {
     "name": "stdout",
     "output_type": "stream",
     "text": [
      "a    0.115636\n",
      "b   -0.731089\n",
      "c    0.902527\n",
      "i   -0.966976\n",
      "e    0.313069\n",
      "dtype: float64 \n",
      "\n",
      "stara wartosc: 0.11563589294165347\n",
      "nowa wartosc: 10.0 \n",
      "\n",
      "stara wartosc: -0.7310889565728339\n",
      "nowa wartosc: 15.0\n"
     ]
    }
   ],
   "source": [
    "s = Series(np.random.randn(5), index=['a', 'b', 'c', 'i', 'e'])\n",
    "print(s, '\\n')\n",
    "print(\"stara wartosc:\",  s[0])\n",
    "s[0] = 10. \n",
    "print(\"nowa wartosc:\",  s[0], '\\n')\n",
    "\n",
    "print(\"stara wartosc:\",  s['b'])\n",
    "s['b'] = 15. \n",
    "print(\"nowa wartosc:\",  s['b'])"
   ]
  },
  {
   "cell_type": "code",
   "execution_count": 46,
   "metadata": {},
   "outputs": [
    {
     "name": "stdout",
     "output_type": "stream",
     "text": [
      "stare:\n",
      " a   -0.272974\n",
      "b   -0.122663\n",
      "c   -0.927841\n",
      "i    0.600444\n",
      "e   -1.057175\n",
      "dtype: float64 \n",
      "\n",
      "nowe:\n",
      " a   -0.272974\n",
      "b   -0.122663\n",
      "c    1.000000\n",
      "i    0.600444\n",
      "e    1.000000\n",
      "dtype: float64\n"
     ]
    }
   ],
   "source": [
    "s = Series(np.random.randn(5), index=['a', 'b', 'c', 'i', 'e'])\n",
    "print(\"stare:\\n\",  s, '\\n')\n",
    "s[s < s.mean()] = 1\n",
    "print(\"nowe:\\n\",  s)"
   ]
  },
  {
   "cell_type": "markdown",
   "metadata": {},
   "source": [
    "## 1.5 Niezdefiniowane wartości, obiekty"
   ]
  },
  {
   "cell_type": "code",
   "execution_count": 47,
   "metadata": {},
   "outputs": [
    {
     "name": "stdout",
     "output_type": "stream",
     "text": [
      "Chicago          1000.0\n",
      "New York         1300.0\n",
      "Portland          900.0\n",
      "San Francisco    1100.0\n",
      "Austin            450.0\n",
      "Boston              NaN\n",
      "dtype: float64 \n",
      "\n",
      "False\n",
      "True\n"
     ]
    }
   ],
   "source": [
    "cities = Series({'Chicago': 1000, 'New York': 1300, 'Portland': 900,\n",
    "                 'San Francisco': 1100, 'Austin': 450, 'Boston': None})\n",
    "print(cities, '\\n')\n",
    "\n",
    "print('Seattle' in cities)\n",
    "print('San Francisco' in cities)"
   ]
  },
  {
   "cell_type": "code",
   "execution_count": 48,
   "metadata": {},
   "outputs": [
    {
     "name": "stdout",
     "output_type": "stream",
     "text": [
      "Chicago          1000.0\n",
      "New York         1300.0\n",
      "Portland          900.0\n",
      "San Francisco    1100.0\n",
      "Austin            450.0\n",
      "Boston              NaN\n",
      "dtype: float64 \n",
      "\n",
      "Chicago           True\n",
      "New York          True\n",
      "Portland          True\n",
      "San Francisco     True\n",
      "Austin            True\n",
      "Boston           False\n",
      "dtype: bool\n"
     ]
    }
   ],
   "source": [
    "print(cities, '\\n')\n",
    "print(cities.notnull()) # które są zdefiniowane"
   ]
  },
  {
   "cell_type": "code",
   "execution_count": 49,
   "metadata": {},
   "outputs": [
    {
     "name": "stdout",
     "output_type": "stream",
     "text": [
      "Chicago          False\n",
      "New York         False\n",
      "Portland         False\n",
      "San Francisco    False\n",
      "Austin           False\n",
      "Boston            True\n",
      "dtype: bool\n"
     ]
    }
   ],
   "source": [
    "print(cities.isnull()) # które nie są zdefiniowane"
   ]
  },
  {
   "cell_type": "code",
   "execution_count": 50,
   "metadata": {},
   "outputs": [
    {
     "name": "stdout",
     "output_type": "stream",
     "text": [
      "Boston   NaN\n",
      "dtype: float64\n",
      "\n",
      "Chicago          False\n",
      "New York         False\n",
      "Portland         False\n",
      "San Francisco    False\n",
      "Austin           False\n",
      "Boston           False\n",
      "dtype: bool\n",
      "\n",
      "Chicago          1000.0\n",
      "New York         1300.0\n",
      "Portland          900.0\n",
      "San Francisco    1100.0\n",
      "Austin            450.0\n",
      "Boston              1.0\n",
      "dtype: float64\n"
     ]
    }
   ],
   "source": [
    "print(cities[cities.isnull()]) # tylko te które nie są zdefiniowane \n",
    "cities[cities.isnull()] = 1\n",
    "print() \n",
    "print(cities.isnull())\n",
    "print()\n",
    "print(cities)"
   ]
  },
  {
   "cell_type": "markdown",
   "metadata": {},
   "source": [
    "# 2. DataFrame\n",
    "\n",
    "<i>DataFrame</i> to struktura danych składa się z wierszy i kolumn, podobna do arkusza kalkulacyjnego, baz danych, tabeli 2-wymiarowej lub data.frame obiektu z języka R.\n",
    "\n",
    "Poniżej przedstawiam kilka sposobów definiowania struktury DataFrame:\n",
    "\n",
    "  * ze słownika list/tablic"
   ]
  },
  {
   "cell_type": "code",
   "execution_count": 51,
   "metadata": {},
   "outputs": [
    {
     "name": "stdout",
     "output_type": "stream",
     "text": [
      "   one  two\n",
      "0  1.0  4.0\n",
      "1  2.0  3.0\n",
      "2  3.0  2.0\n",
      "3  4.0  1.0\n"
     ]
    },
    {
     "data": {
      "text/html": [
       "<div>\n",
       "<style scoped>\n",
       "    .dataframe tbody tr th:only-of-type {\n",
       "        vertical-align: middle;\n",
       "    }\n",
       "\n",
       "    .dataframe tbody tr th {\n",
       "        vertical-align: top;\n",
       "    }\n",
       "\n",
       "    .dataframe thead th {\n",
       "        text-align: right;\n",
       "    }\n",
       "</style>\n",
       "<table border=\"1\" class=\"dataframe\">\n",
       "  <thead>\n",
       "    <tr style=\"text-align: right;\">\n",
       "      <th></th>\n",
       "      <th>one</th>\n",
       "      <th>two</th>\n",
       "    </tr>\n",
       "  </thead>\n",
       "  <tbody>\n",
       "    <tr>\n",
       "      <th>0</th>\n",
       "      <td>1.0</td>\n",
       "      <td>4.0</td>\n",
       "    </tr>\n",
       "    <tr>\n",
       "      <th>1</th>\n",
       "      <td>2.0</td>\n",
       "      <td>3.0</td>\n",
       "    </tr>\n",
       "    <tr>\n",
       "      <th>2</th>\n",
       "      <td>3.0</td>\n",
       "      <td>2.0</td>\n",
       "    </tr>\n",
       "    <tr>\n",
       "      <th>3</th>\n",
       "      <td>4.0</td>\n",
       "      <td>1.0</td>\n",
       "    </tr>\n",
       "  </tbody>\n",
       "</table>\n",
       "</div>"
      ],
      "text/plain": [
       "   one  two\n",
       "0  1.0  4.0\n",
       "1  2.0  3.0\n",
       "2  3.0  2.0\n",
       "3  4.0  1.0"
      ]
     },
     "execution_count": 51,
     "metadata": {},
     "output_type": "execute_result"
    }
   ],
   "source": [
    "d = {'one' : [1., 2., 3., 4.],\n",
    "     'two' : [4., 3., 2., 1.]}\n",
    "print(DataFrame(d))\n",
    "DataFrame(d)"
   ]
  },
  {
   "cell_type": "code",
   "execution_count": 52,
   "metadata": {},
   "outputs": [
    {
     "data": {
      "text/html": [
       "<div>\n",
       "<style scoped>\n",
       "    .dataframe tbody tr th:only-of-type {\n",
       "        vertical-align: middle;\n",
       "    }\n",
       "\n",
       "    .dataframe tbody tr th {\n",
       "        vertical-align: top;\n",
       "    }\n",
       "\n",
       "    .dataframe thead th {\n",
       "        text-align: right;\n",
       "    }\n",
       "</style>\n",
       "<table border=\"1\" class=\"dataframe\">\n",
       "  <thead>\n",
       "    <tr style=\"text-align: right;\">\n",
       "      <th></th>\n",
       "      <th>year</th>\n",
       "      <th>team</th>\n",
       "      <th>wins</th>\n",
       "      <th>losses</th>\n",
       "    </tr>\n",
       "  </thead>\n",
       "  <tbody>\n",
       "    <tr>\n",
       "      <th>0</th>\n",
       "      <td>2010</td>\n",
       "      <td>Bears</td>\n",
       "      <td>11</td>\n",
       "      <td>5</td>\n",
       "    </tr>\n",
       "    <tr>\n",
       "      <th>1</th>\n",
       "      <td>2011</td>\n",
       "      <td>Bears</td>\n",
       "      <td>8</td>\n",
       "      <td>8</td>\n",
       "    </tr>\n",
       "    <tr>\n",
       "      <th>2</th>\n",
       "      <td>2012</td>\n",
       "      <td>Bears</td>\n",
       "      <td>10</td>\n",
       "      <td>6</td>\n",
       "    </tr>\n",
       "    <tr>\n",
       "      <th>3</th>\n",
       "      <td>2011</td>\n",
       "      <td>Packers</td>\n",
       "      <td>15</td>\n",
       "      <td>1</td>\n",
       "    </tr>\n",
       "    <tr>\n",
       "      <th>4</th>\n",
       "      <td>2012</td>\n",
       "      <td>Packers</td>\n",
       "      <td>11</td>\n",
       "      <td>5</td>\n",
       "    </tr>\n",
       "    <tr>\n",
       "      <th>5</th>\n",
       "      <td>2010</td>\n",
       "      <td>Lions</td>\n",
       "      <td>6</td>\n",
       "      <td>10</td>\n",
       "    </tr>\n",
       "    <tr>\n",
       "      <th>6</th>\n",
       "      <td>2011</td>\n",
       "      <td>Lions</td>\n",
       "      <td>10</td>\n",
       "      <td>6</td>\n",
       "    </tr>\n",
       "    <tr>\n",
       "      <th>7</th>\n",
       "      <td>2012</td>\n",
       "      <td>Lions</td>\n",
       "      <td>4</td>\n",
       "      <td>12</td>\n",
       "    </tr>\n",
       "  </tbody>\n",
       "</table>\n",
       "</div>"
      ],
      "text/plain": [
       "   year     team  wins  losses\n",
       "0  2010    Bears    11       5\n",
       "1  2011    Bears     8       8\n",
       "2  2012    Bears    10       6\n",
       "3  2011  Packers    15       1\n",
       "4  2012  Packers    11       5\n",
       "5  2010    Lions     6      10\n",
       "6  2011    Lions    10       6\n",
       "7  2012    Lions     4      12"
      ]
     },
     "execution_count": 52,
     "metadata": {},
     "output_type": "execute_result"
    }
   ],
   "source": [
    "data = {'year': [2010, 2011, 2012, 2011, 2012, 2010, 2011, 2012],\n",
    "        'team': ['Bears', 'Bears', 'Bears', 'Packers', 'Packers', 'Lions', 'Lions', 'Lions'],\n",
    "        'wins': [11, 8, 10, 15, 11, 6, 10, 4],\n",
    "        'losses': [5, 8, 6, 1, 5, 10, 6, 12]}\n",
    "football = pd.DataFrame(data, columns=['year', 'team', 'wins', 'losses'])\n",
    "football"
   ]
  },
  {
   "cell_type": "markdown",
   "metadata": {},
   "source": [
    "## 2.1 Podstawowe informacje\n",
    "Biblioteka pandas ma wiele funkcji, które dostarczają nam podstawowej informacji na DataFrame. Jedną z takich funkcji jest metoda **info**."
   ]
  },
  {
   "cell_type": "code",
   "execution_count": 53,
   "metadata": {},
   "outputs": [
    {
     "name": "stdout",
     "output_type": "stream",
     "text": [
      "<class 'pandas.core.frame.DataFrame'>\n",
      "RangeIndex: 2 entries, 0 to 1\n",
      "Data columns (total 3 columns):\n",
      " #   Column  Non-Null Count  Dtype  \n",
      "---  ------  --------------  -----  \n",
      " 0   a       2 non-null      int64  \n",
      " 1   b       2 non-null      int64  \n",
      " 2   c       1 non-null      float64\n",
      "dtypes: float64(1), int64(2)\n",
      "memory usage: 176.0 bytes\n"
     ]
    }
   ],
   "source": [
    "data = [{'a': 1, 'b': 2}, \n",
    "         {'a': 5, 'b': 10, 'c': 20}]\n",
    "df = DataFrame(data)\n",
    "\n",
    "df.info()"
   ]
  },
  {
   "cell_type": "markdown",
   "metadata": {},
   "source": [
    "## 2.2 Wybieranie rekordów, kolumn, elementów\n",
    "\n",
    "Jak już wspomniałem strukturę DataFrame możemy traktować jako grupę/tablicę serii, które dzielą indeks (w tym przypadku nagłówki kolumn). Dzięki temu możemy w łatwy sposób wybrać konkretne rekordy."
   ]
  },
  {
   "cell_type": "code",
   "execution_count": 54,
   "metadata": {},
   "outputs": [
    {
     "name": "stdout",
     "output_type": "stream",
     "text": [
      "   year     team  wins  losses\n",
      "0  2010    Bears    11       5\n",
      "1  2011    Bears     8       8\n",
      "2  2012    Bears    10       6\n",
      "3  2011  Packers    15       1\n",
      "4  2012  Packers    11       5\n",
      "5  2010    Lions     6      10\n",
      "6  2011    Lions    10       6\n",
      "7  2012    Lions     4      12\n"
     ]
    },
    {
     "data": {
      "text/html": [
       "<div>\n",
       "<style scoped>\n",
       "    .dataframe tbody tr th:only-of-type {\n",
       "        vertical-align: middle;\n",
       "    }\n",
       "\n",
       "    .dataframe tbody tr th {\n",
       "        vertical-align: top;\n",
       "    }\n",
       "\n",
       "    .dataframe thead th {\n",
       "        text-align: right;\n",
       "    }\n",
       "</style>\n",
       "<table border=\"1\" class=\"dataframe\">\n",
       "  <thead>\n",
       "    <tr style=\"text-align: right;\">\n",
       "      <th></th>\n",
       "      <th>year</th>\n",
       "      <th>team</th>\n",
       "      <th>wins</th>\n",
       "      <th>losses</th>\n",
       "    </tr>\n",
       "  </thead>\n",
       "  <tbody>\n",
       "    <tr>\n",
       "      <th>0</th>\n",
       "      <td>2010</td>\n",
       "      <td>Bears</td>\n",
       "      <td>11</td>\n",
       "      <td>5</td>\n",
       "    </tr>\n",
       "    <tr>\n",
       "      <th>1</th>\n",
       "      <td>2011</td>\n",
       "      <td>Bears</td>\n",
       "      <td>8</td>\n",
       "      <td>8</td>\n",
       "    </tr>\n",
       "    <tr>\n",
       "      <th>2</th>\n",
       "      <td>2012</td>\n",
       "      <td>Bears</td>\n",
       "      <td>10</td>\n",
       "      <td>6</td>\n",
       "    </tr>\n",
       "  </tbody>\n",
       "</table>\n",
       "</div>"
      ],
      "text/plain": [
       "   year   team  wins  losses\n",
       "0  2010  Bears    11       5\n",
       "1  2011  Bears     8       8\n",
       "2  2012  Bears    10       6"
      ]
     },
     "execution_count": 54,
     "metadata": {},
     "output_type": "execute_result"
    }
   ],
   "source": [
    "data = {'year': [2010, 2011, 2012, 2011, 2012, 2010, 2011, 2012],\n",
    "        'team': ['Bears', 'Bears', 'Bears', 'Packers', 'Packers', 'Lions', 'Lions', 'Lions'],\n",
    "        'wins': [11, 8, 10, 15, 11, 6, 10, 4],\n",
    "        'losses': [5, 8, 6, 1, 5, 10, 6, 12]}\n",
    "football = pd.DataFrame(data, columns=['year', 'team', 'wins', 'losses'])\n",
    "print (football)\n",
    "\n",
    "football.head(3)"
   ]
  },
  {
   "cell_type": "code",
   "execution_count": 55,
   "metadata": {},
   "outputs": [
    {
     "data": {
      "text/plain": [
       "0    2010\n",
       "1    2011\n",
       "2    2012\n",
       "3    2011\n",
       "Name: year, dtype: int64"
      ]
     },
     "execution_count": 55,
     "metadata": {},
     "output_type": "execute_result"
    }
   ],
   "source": [
    "football['year'].head(4)"
   ]
  },
  {
   "cell_type": "code",
   "execution_count": 56,
   "metadata": {},
   "outputs": [
    {
     "data": {
      "text/html": [
       "<div>\n",
       "<style scoped>\n",
       "    .dataframe tbody tr th:only-of-type {\n",
       "        vertical-align: middle;\n",
       "    }\n",
       "\n",
       "    .dataframe tbody tr th {\n",
       "        vertical-align: top;\n",
       "    }\n",
       "\n",
       "    .dataframe thead th {\n",
       "        text-align: right;\n",
       "    }\n",
       "</style>\n",
       "<table border=\"1\" class=\"dataframe\">\n",
       "  <thead>\n",
       "    <tr style=\"text-align: right;\">\n",
       "      <th></th>\n",
       "      <th>year</th>\n",
       "      <th>team</th>\n",
       "      <th>wins</th>\n",
       "      <th>losses</th>\n",
       "    </tr>\n",
       "  </thead>\n",
       "  <tbody>\n",
       "    <tr>\n",
       "      <th>5</th>\n",
       "      <td>2010</td>\n",
       "      <td>Lions</td>\n",
       "      <td>6</td>\n",
       "      <td>10</td>\n",
       "    </tr>\n",
       "    <tr>\n",
       "      <th>6</th>\n",
       "      <td>2011</td>\n",
       "      <td>Lions</td>\n",
       "      <td>10</td>\n",
       "      <td>6</td>\n",
       "    </tr>\n",
       "    <tr>\n",
       "      <th>7</th>\n",
       "      <td>2012</td>\n",
       "      <td>Lions</td>\n",
       "      <td>4</td>\n",
       "      <td>12</td>\n",
       "    </tr>\n",
       "  </tbody>\n",
       "</table>\n",
       "</div>"
      ],
      "text/plain": [
       "   year   team  wins  losses\n",
       "5  2010  Lions     6      10\n",
       "6  2011  Lions    10       6\n",
       "7  2012  Lions     4      12"
      ]
     },
     "execution_count": 56,
     "metadata": {},
     "output_type": "execute_result"
    }
   ],
   "source": [
    "football.tail(3)"
   ]
  },
  {
   "cell_type": "markdown",
   "metadata": {},
   "source": [
    "Możemy też modyfikować DataFrame na podstawie wybranej kolumny."
   ]
  },
  {
   "cell_type": "code",
   "execution_count": 57,
   "metadata": {},
   "outputs": [
    {
     "data": {
      "text/html": [
       "<div>\n",
       "<style scoped>\n",
       "    .dataframe tbody tr th:only-of-type {\n",
       "        vertical-align: middle;\n",
       "    }\n",
       "\n",
       "    .dataframe tbody tr th {\n",
       "        vertical-align: top;\n",
       "    }\n",
       "\n",
       "    .dataframe thead th {\n",
       "        text-align: right;\n",
       "    }\n",
       "</style>\n",
       "<table border=\"1\" class=\"dataframe\">\n",
       "  <thead>\n",
       "    <tr style=\"text-align: right;\">\n",
       "      <th></th>\n",
       "      <th>year</th>\n",
       "      <th>wins</th>\n",
       "      <th>losses</th>\n",
       "    </tr>\n",
       "    <tr>\n",
       "      <th>team</th>\n",
       "      <th></th>\n",
       "      <th></th>\n",
       "      <th></th>\n",
       "    </tr>\n",
       "  </thead>\n",
       "  <tbody>\n",
       "    <tr>\n",
       "      <th>Bears</th>\n",
       "      <td>2010</td>\n",
       "      <td>11</td>\n",
       "      <td>5</td>\n",
       "    </tr>\n",
       "    <tr>\n",
       "      <th>Bears</th>\n",
       "      <td>2011</td>\n",
       "      <td>8</td>\n",
       "      <td>8</td>\n",
       "    </tr>\n",
       "    <tr>\n",
       "      <th>Bears</th>\n",
       "      <td>2012</td>\n",
       "      <td>10</td>\n",
       "      <td>6</td>\n",
       "    </tr>\n",
       "    <tr>\n",
       "      <th>Packers</th>\n",
       "      <td>2011</td>\n",
       "      <td>15</td>\n",
       "      <td>1</td>\n",
       "    </tr>\n",
       "    <tr>\n",
       "      <th>Packers</th>\n",
       "      <td>2012</td>\n",
       "      <td>11</td>\n",
       "      <td>5</td>\n",
       "    </tr>\n",
       "    <tr>\n",
       "      <th>Lions</th>\n",
       "      <td>2010</td>\n",
       "      <td>6</td>\n",
       "      <td>10</td>\n",
       "    </tr>\n",
       "    <tr>\n",
       "      <th>Lions</th>\n",
       "      <td>2011</td>\n",
       "      <td>10</td>\n",
       "      <td>6</td>\n",
       "    </tr>\n",
       "    <tr>\n",
       "      <th>Lions</th>\n",
       "      <td>2012</td>\n",
       "      <td>4</td>\n",
       "      <td>12</td>\n",
       "    </tr>\n",
       "  </tbody>\n",
       "</table>\n",
       "</div>"
      ],
      "text/plain": [
       "         year  wins  losses\n",
       "team                       \n",
       "Bears    2010    11       5\n",
       "Bears    2011     8       8\n",
       "Bears    2012    10       6\n",
       "Packers  2011    15       1\n",
       "Packers  2012    11       5\n",
       "Lions    2010     6      10\n",
       "Lions    2011    10       6\n",
       "Lions    2012     4      12"
      ]
     },
     "execution_count": 57,
     "metadata": {},
     "output_type": "execute_result"
    }
   ],
   "source": [
    "football.set_index('team')"
   ]
  },
  {
   "cell_type": "markdown",
   "metadata": {},
   "source": [
    "Aby wybrać którąś z kolumn należy użyć jej nazwy:"
   ]
  },
  {
   "cell_type": "code",
   "execution_count": 58,
   "metadata": {},
   "outputs": [
    {
     "data": {
      "text/plain": [
       "0    2010\n",
       "1    2011\n",
       "2    2012\n",
       "3    2011\n",
       "4    2012\n",
       "5    2010\n",
       "6    2011\n",
       "7    2012\n",
       "Name: year, dtype: int64"
      ]
     },
     "execution_count": 58,
     "metadata": {},
     "output_type": "execute_result"
    }
   ],
   "source": [
    "data = {'year': [2010, 2011, 2012, 2011, 2012, 2010, 2011, 2012],\n",
    "        'team': ['Bears', 'Bears', 'Bears', 'Packers', 'Packers', 'Lions', 'Lions', 'Lions'],\n",
    "        'wins': [11, 8, 10, 15, 11, 6, 10, 4],\n",
    "        'losses': [5, 8, 6, 1, 5, 10, 6, 12]}\n",
    "football = pd.DataFrame(data, columns=['year', 'team', 'wins', 'losses'])\n",
    "\n",
    "football['year'] # wybieramy kolumnę 'year'"
   ]
  },
  {
   "cell_type": "code",
   "execution_count": 59,
   "metadata": {},
   "outputs": [
    {
     "data": {
      "text/plain": [
       "0    2010\n",
       "1    2011\n",
       "2    2012\n",
       "3    2011\n",
       "4    2012\n",
       "5    2010\n",
       "6    2011\n",
       "7    2012\n",
       "Name: year, dtype: int64"
      ]
     },
     "execution_count": 59,
     "metadata": {},
     "output_type": "execute_result"
    }
   ],
   "source": [
    "football.year"
   ]
  },
  {
   "cell_type": "code",
   "execution_count": 60,
   "metadata": {},
   "outputs": [
    {
     "data": {
      "text/html": [
       "<div>\n",
       "<style scoped>\n",
       "    .dataframe tbody tr th:only-of-type {\n",
       "        vertical-align: middle;\n",
       "    }\n",
       "\n",
       "    .dataframe tbody tr th {\n",
       "        vertical-align: top;\n",
       "    }\n",
       "\n",
       "    .dataframe thead th {\n",
       "        text-align: right;\n",
       "    }\n",
       "</style>\n",
       "<table border=\"1\" class=\"dataframe\">\n",
       "  <thead>\n",
       "    <tr style=\"text-align: right;\">\n",
       "      <th></th>\n",
       "      <th>year</th>\n",
       "      <th>wins</th>\n",
       "    </tr>\n",
       "  </thead>\n",
       "  <tbody>\n",
       "    <tr>\n",
       "      <th>0</th>\n",
       "      <td>2010</td>\n",
       "      <td>11</td>\n",
       "    </tr>\n",
       "    <tr>\n",
       "      <th>1</th>\n",
       "      <td>2011</td>\n",
       "      <td>8</td>\n",
       "    </tr>\n",
       "    <tr>\n",
       "      <th>2</th>\n",
       "      <td>2012</td>\n",
       "      <td>10</td>\n",
       "    </tr>\n",
       "    <tr>\n",
       "      <th>3</th>\n",
       "      <td>2011</td>\n",
       "      <td>15</td>\n",
       "    </tr>\n",
       "    <tr>\n",
       "      <th>4</th>\n",
       "      <td>2012</td>\n",
       "      <td>11</td>\n",
       "    </tr>\n",
       "    <tr>\n",
       "      <th>5</th>\n",
       "      <td>2010</td>\n",
       "      <td>6</td>\n",
       "    </tr>\n",
       "    <tr>\n",
       "      <th>6</th>\n",
       "      <td>2011</td>\n",
       "      <td>10</td>\n",
       "    </tr>\n",
       "    <tr>\n",
       "      <th>7</th>\n",
       "      <td>2012</td>\n",
       "      <td>4</td>\n",
       "    </tr>\n",
       "  </tbody>\n",
       "</table>\n",
       "</div>"
      ],
      "text/plain": [
       "   year  wins\n",
       "0  2010    11\n",
       "1  2011     8\n",
       "2  2012    10\n",
       "3  2011    15\n",
       "4  2012    11\n",
       "5  2010     6\n",
       "6  2011    10\n",
       "7  2012     4"
      ]
     },
     "execution_count": 60,
     "metadata": {},
     "output_type": "execute_result"
    }
   ],
   "source": [
    "football[['year', 'wins']]"
   ]
  },
  {
   "cell_type": "markdown",
   "metadata": {},
   "source": [
    "Do wybierania wierszy/obserwacji służy funkcja **loc** (indeksowanie oparte na etykietach) lub **iloc** (indeksowanie oparte na pozycji)."
   ]
  },
  {
   "cell_type": "code",
   "execution_count": 61,
   "metadata": {},
   "outputs": [
    {
     "data": {
      "text/plain": [
       "year       2010\n",
       "team      Bears\n",
       "wins         11\n",
       "losses        5\n",
       "Name: 0, dtype: object"
      ]
     },
     "execution_count": 61,
     "metadata": {},
     "output_type": "execute_result"
    }
   ],
   "source": [
    "football.loc[0]"
   ]
  },
  {
   "cell_type": "code",
   "execution_count": 62,
   "metadata": {},
   "outputs": [
    {
     "data": {
      "text/html": [
       "<div>\n",
       "<style scoped>\n",
       "    .dataframe tbody tr th:only-of-type {\n",
       "        vertical-align: middle;\n",
       "    }\n",
       "\n",
       "    .dataframe tbody tr th {\n",
       "        vertical-align: top;\n",
       "    }\n",
       "\n",
       "    .dataframe thead th {\n",
       "        text-align: right;\n",
       "    }\n",
       "</style>\n",
       "<table border=\"1\" class=\"dataframe\">\n",
       "  <thead>\n",
       "    <tr style=\"text-align: right;\">\n",
       "      <th></th>\n",
       "      <th>year</th>\n",
       "      <th>team</th>\n",
       "      <th>wins</th>\n",
       "      <th>losses</th>\n",
       "    </tr>\n",
       "  </thead>\n",
       "  <tbody>\n",
       "    <tr>\n",
       "      <th>0</th>\n",
       "      <td>2010</td>\n",
       "      <td>Bears</td>\n",
       "      <td>11</td>\n",
       "      <td>5</td>\n",
       "    </tr>\n",
       "    <tr>\n",
       "      <th>3</th>\n",
       "      <td>2011</td>\n",
       "      <td>Packers</td>\n",
       "      <td>15</td>\n",
       "      <td>1</td>\n",
       "    </tr>\n",
       "  </tbody>\n",
       "</table>\n",
       "</div>"
      ],
      "text/plain": [
       "   year     team  wins  losses\n",
       "0  2010    Bears    11       5\n",
       "3  2011  Packers    15       1"
      ]
     },
     "execution_count": 62,
     "metadata": {},
     "output_type": "execute_result"
    }
   ],
   "source": [
    "football.loc[[0,3]]"
   ]
  },
  {
   "cell_type": "markdown",
   "metadata": {},
   "source": [
    "# 2.3 Podstawowe operacje na DataFrame"
   ]
  },
  {
   "cell_type": "code",
   "execution_count": 63,
   "metadata": {},
   "outputs": [
    {
     "data": {
      "text/html": [
       "<div>\n",
       "<style scoped>\n",
       "    .dataframe tbody tr th:only-of-type {\n",
       "        vertical-align: middle;\n",
       "    }\n",
       "\n",
       "    .dataframe tbody tr th {\n",
       "        vertical-align: top;\n",
       "    }\n",
       "\n",
       "    .dataframe thead th {\n",
       "        text-align: right;\n",
       "    }\n",
       "</style>\n",
       "<table border=\"1\" class=\"dataframe\">\n",
       "  <thead>\n",
       "    <tr style=\"text-align: right;\">\n",
       "      <th></th>\n",
       "      <th>year</th>\n",
       "      <th>team</th>\n",
       "      <th>wins</th>\n",
       "      <th>losses</th>\n",
       "    </tr>\n",
       "  </thead>\n",
       "  <tbody>\n",
       "    <tr>\n",
       "      <th>0</th>\n",
       "      <td>2010</td>\n",
       "      <td>Bears</td>\n",
       "      <td>11</td>\n",
       "      <td>5</td>\n",
       "    </tr>\n",
       "    <tr>\n",
       "      <th>3</th>\n",
       "      <td>2011</td>\n",
       "      <td>Packers</td>\n",
       "      <td>15</td>\n",
       "      <td>1</td>\n",
       "    </tr>\n",
       "    <tr>\n",
       "      <th>4</th>\n",
       "      <td>2012</td>\n",
       "      <td>Packers</td>\n",
       "      <td>11</td>\n",
       "      <td>5</td>\n",
       "    </tr>\n",
       "  </tbody>\n",
       "</table>\n",
       "</div>"
      ],
      "text/plain": [
       "   year     team  wins  losses\n",
       "0  2010    Bears    11       5\n",
       "3  2011  Packers    15       1\n",
       "4  2012  Packers    11       5"
      ]
     },
     "execution_count": 63,
     "metadata": {},
     "output_type": "execute_result"
    }
   ],
   "source": [
    "football[football.wins > 10]"
   ]
  },
  {
   "cell_type": "code",
   "execution_count": 64,
   "metadata": {},
   "outputs": [
    {
     "data": {
      "text/plain": [
       "15"
      ]
     },
     "execution_count": 64,
     "metadata": {},
     "output_type": "execute_result"
    }
   ],
   "source": [
    "football['wins'].max()"
   ]
  },
  {
   "cell_type": "code",
   "execution_count": 65,
   "metadata": {},
   "outputs": [
    {
     "data": {
      "text/plain": [
       "wins      9.375\n",
       "losses    6.625\n",
       "dtype: float64"
      ]
     },
     "execution_count": 65,
     "metadata": {},
     "output_type": "execute_result"
    }
   ],
   "source": [
    "football[['wins', 'losses']].mean()"
   ]
  },
  {
   "cell_type": "code",
   "execution_count": 66,
   "metadata": {},
   "outputs": [
    {
     "data": {
      "text/html": [
       "<div>\n",
       "<style scoped>\n",
       "    .dataframe tbody tr th:only-of-type {\n",
       "        vertical-align: middle;\n",
       "    }\n",
       "\n",
       "    .dataframe tbody tr th {\n",
       "        vertical-align: top;\n",
       "    }\n",
       "\n",
       "    .dataframe thead th {\n",
       "        text-align: right;\n",
       "    }\n",
       "</style>\n",
       "<table border=\"1\" class=\"dataframe\">\n",
       "  <thead>\n",
       "    <tr style=\"text-align: right;\">\n",
       "      <th></th>\n",
       "      <th>year</th>\n",
       "      <th>team</th>\n",
       "      <th>wins</th>\n",
       "      <th>losses</th>\n",
       "    </tr>\n",
       "  </thead>\n",
       "  <tbody>\n",
       "    <tr>\n",
       "      <th>0</th>\n",
       "      <td>2010</td>\n",
       "      <td>Bears</td>\n",
       "      <td>0</td>\n",
       "      <td>5</td>\n",
       "    </tr>\n",
       "    <tr>\n",
       "      <th>1</th>\n",
       "      <td>2011</td>\n",
       "      <td>Bears</td>\n",
       "      <td>0</td>\n",
       "      <td>8</td>\n",
       "    </tr>\n",
       "    <tr>\n",
       "      <th>2</th>\n",
       "      <td>2012</td>\n",
       "      <td>Bears</td>\n",
       "      <td>0</td>\n",
       "      <td>6</td>\n",
       "    </tr>\n",
       "    <tr>\n",
       "      <th>3</th>\n",
       "      <td>2011</td>\n",
       "      <td>Packers</td>\n",
       "      <td>0</td>\n",
       "      <td>1</td>\n",
       "    </tr>\n",
       "    <tr>\n",
       "      <th>4</th>\n",
       "      <td>2012</td>\n",
       "      <td>Packers</td>\n",
       "      <td>0</td>\n",
       "      <td>5</td>\n",
       "    </tr>\n",
       "    <tr>\n",
       "      <th>5</th>\n",
       "      <td>2010</td>\n",
       "      <td>Lions</td>\n",
       "      <td>0</td>\n",
       "      <td>0</td>\n",
       "    </tr>\n",
       "    <tr>\n",
       "      <th>6</th>\n",
       "      <td>2011</td>\n",
       "      <td>Lions</td>\n",
       "      <td>0</td>\n",
       "      <td>6</td>\n",
       "    </tr>\n",
       "    <tr>\n",
       "      <th>7</th>\n",
       "      <td>2012</td>\n",
       "      <td>Lions</td>\n",
       "      <td>0</td>\n",
       "      <td>12</td>\n",
       "    </tr>\n",
       "  </tbody>\n",
       "</table>\n",
       "</div>"
      ],
      "text/plain": [
       "   year     team  wins  losses\n",
       "0  2010    Bears     0       5\n",
       "1  2011    Bears     0       8\n",
       "2  2012    Bears     0       6\n",
       "3  2011  Packers     0       1\n",
       "4  2012  Packers     0       5\n",
       "5  2010    Lions     0       0\n",
       "6  2011    Lions     0       6\n",
       "7  2012    Lions     0      12"
      ]
     },
     "execution_count": 66,
     "metadata": {},
     "output_type": "execute_result"
    }
   ],
   "source": [
    "football['wins'] = 0\n",
    "football.at[5, 'losses'] = 0\n",
    "football"
   ]
  },
  {
   "cell_type": "markdown",
   "metadata": {},
   "source": [
    "## 2.6 Importowanie i eksportowanie danych\n",
    "\n",
    "  * eksport to CSV:"
   ]
  },
  {
   "cell_type": "code",
   "execution_count": 67,
   "metadata": {},
   "outputs": [],
   "source": [
    "data = {'year': [2010, 2011, 2012, 2011, 2012, 2010, 2011, 2012],\n",
    "        'team': ['Bears', 'Bears', 'Bears', 'Packers', 'Packers', 'Lions', 'Lions', 'Lions'],\n",
    "        'wins': [11, 8, 10, 15, 11, 6, 10, 4],\n",
    "        'losses': [5, 8, 6, 1, 5, 10, 6, 12]}\n",
    "football = pd.DataFrame(data, columns=['year', 'team', 'wins', 'losses'])\n",
    "\n",
    "football.to_csv('dane.csv', index=False)"
   ]
  },
  {
   "cell_type": "markdown",
   "metadata": {},
   "source": [
    "  * import z CSV:"
   ]
  },
  {
   "cell_type": "code",
   "execution_count": 81,
   "metadata": {},
   "outputs": [
    {
     "data": {
      "text/html": [
       "<div>\n",
       "<style scoped>\n",
       "    .dataframe tbody tr th:only-of-type {\n",
       "        vertical-align: middle;\n",
       "    }\n",
       "\n",
       "    .dataframe tbody tr th {\n",
       "        vertical-align: top;\n",
       "    }\n",
       "\n",
       "    .dataframe thead th {\n",
       "        text-align: right;\n",
       "    }\n",
       "</style>\n",
       "<table border=\"1\" class=\"dataframe\">\n",
       "  <thead>\n",
       "    <tr style=\"text-align: right;\">\n",
       "      <th></th>\n",
       "      <th>year</th>\n",
       "      <th>team</th>\n",
       "      <th>wins</th>\n",
       "      <th>losses</th>\n",
       "    </tr>\n",
       "  </thead>\n",
       "  <tbody>\n",
       "    <tr>\n",
       "      <th>0</th>\n",
       "      <td>2010</td>\n",
       "      <td>Bears</td>\n",
       "      <td>11</td>\n",
       "      <td>5</td>\n",
       "    </tr>\n",
       "    <tr>\n",
       "      <th>1</th>\n",
       "      <td>2011</td>\n",
       "      <td>Bears</td>\n",
       "      <td>8</td>\n",
       "      <td>8</td>\n",
       "    </tr>\n",
       "    <tr>\n",
       "      <th>2</th>\n",
       "      <td>2012</td>\n",
       "      <td>Bears</td>\n",
       "      <td>10</td>\n",
       "      <td>6</td>\n",
       "    </tr>\n",
       "    <tr>\n",
       "      <th>3</th>\n",
       "      <td>2011</td>\n",
       "      <td>Packers</td>\n",
       "      <td>15</td>\n",
       "      <td>1</td>\n",
       "    </tr>\n",
       "    <tr>\n",
       "      <th>4</th>\n",
       "      <td>2012</td>\n",
       "      <td>Packers</td>\n",
       "      <td>11</td>\n",
       "      <td>5</td>\n",
       "    </tr>\n",
       "    <tr>\n",
       "      <th>5</th>\n",
       "      <td>2010</td>\n",
       "      <td>Lions</td>\n",
       "      <td>6</td>\n",
       "      <td>10</td>\n",
       "    </tr>\n",
       "    <tr>\n",
       "      <th>6</th>\n",
       "      <td>2011</td>\n",
       "      <td>Lions</td>\n",
       "      <td>10</td>\n",
       "      <td>6</td>\n",
       "    </tr>\n",
       "    <tr>\n",
       "      <th>7</th>\n",
       "      <td>2012</td>\n",
       "      <td>Lions</td>\n",
       "      <td>4</td>\n",
       "      <td>12</td>\n",
       "    </tr>\n",
       "  </tbody>\n",
       "</table>\n",
       "</div>"
      ],
      "text/plain": [
       "   year     team  wins  losses\n",
       "0  2010    Bears    11       5\n",
       "1  2011    Bears     8       8\n",
       "2  2012    Bears    10       6\n",
       "3  2011  Packers    15       1\n",
       "4  2012  Packers    11       5\n",
       "5  2010    Lions     6      10\n",
       "6  2011    Lions    10       6\n",
       "7  2012    Lions     4      12"
      ]
     },
     "execution_count": 81,
     "metadata": {},
     "output_type": "execute_result"
    }
   ],
   "source": [
    "pd.read_csv('dane.csv')"
   ]
  },
  {
   "cell_type": "markdown",
   "metadata": {},
   "source": [
    "Więcej informacji na temat biblioteki pandas można znaleźć tutaj: [http://pandas.pydata.org]"
   ]
  },
  {
   "cell_type": "markdown",
   "metadata": {},
   "source": [
    "# Zadanie 5\n",
    "\n",
    "Zaimportuj dane z pliku ,,airports.csv'' i wykonaj na nich poniższe polecenia:\n",
    "\n",
    "  * wybierz nazwy państw ostatnich 12 lotnisk w tabeli,\n",
    "  * wybierz wiersz o indeksie 1 korzystając z indeksera .loc oraz .iloc (porównaj otrzymane wyniki),\n",
    "  * wybierz wszystkie lotniska w Polsce,\n",
    "  * wybierz wszystkie lotniska, których nazwa różni się od nazwy miasta, w którym się znajdują.\n",
    "  * przelicz wartości wysokości na metry i zapisz zmodyfikowaną kolumnę w miejsce starej (w naszej tabeli wysokość jest podana w   * stopach nad poziomem morza; jedna stopa angielska równa się 30,48 cm),\n",
    "  * znajdź wszystkie państwa, w których znajduje się wyłącznie 1 lotnisko (zobacz procedurę .unique())."
   ]
  },
  {
   "cell_type": "code",
   "execution_count": 71,
   "metadata": {},
   "outputs": [
    {
     "data": {
      "text/html": [
       "<div>\n",
       "<style scoped>\n",
       "    .dataframe tbody tr th:only-of-type {\n",
       "        vertical-align: middle;\n",
       "    }\n",
       "\n",
       "    .dataframe tbody tr th {\n",
       "        vertical-align: top;\n",
       "    }\n",
       "\n",
       "    .dataframe thead th {\n",
       "        text-align: right;\n",
       "    }\n",
       "</style>\n",
       "<table border=\"1\" class=\"dataframe\">\n",
       "  <thead>\n",
       "    <tr style=\"text-align: right;\">\n",
       "      <th></th>\n",
       "      <th>id</th>\n",
       "      <th>ident</th>\n",
       "      <th>type</th>\n",
       "      <th>name</th>\n",
       "      <th>latitude_deg</th>\n",
       "      <th>longitude_deg</th>\n",
       "      <th>elevation_ft</th>\n",
       "      <th>continent</th>\n",
       "      <th>iso_country</th>\n",
       "      <th>iso_region</th>\n",
       "      <th>municipality</th>\n",
       "      <th>scheduled_service</th>\n",
       "      <th>gps_code</th>\n",
       "      <th>iata_code</th>\n",
       "      <th>local_code</th>\n",
       "      <th>home_link</th>\n",
       "      <th>wikipedia_link</th>\n",
       "      <th>keywords</th>\n",
       "    </tr>\n",
       "  </thead>\n",
       "  <tbody>\n",
       "    <tr>\n",
       "      <th>0</th>\n",
       "      <td>6523</td>\n",
       "      <td>00A</td>\n",
       "      <td>heliport</td>\n",
       "      <td>Total Rf Heliport</td>\n",
       "      <td>40.070801</td>\n",
       "      <td>-74.933601</td>\n",
       "      <td>11.0</td>\n",
       "      <td>NaN</td>\n",
       "      <td>US</td>\n",
       "      <td>US-PA</td>\n",
       "      <td>Bensalem</td>\n",
       "      <td>no</td>\n",
       "      <td>00A</td>\n",
       "      <td>NaN</td>\n",
       "      <td>00A</td>\n",
       "      <td>NaN</td>\n",
       "      <td>NaN</td>\n",
       "      <td>NaN</td>\n",
       "    </tr>\n",
       "    <tr>\n",
       "      <th>1</th>\n",
       "      <td>323361</td>\n",
       "      <td>00AA</td>\n",
       "      <td>small_airport</td>\n",
       "      <td>Aero B Ranch Airport</td>\n",
       "      <td>38.704022</td>\n",
       "      <td>-101.473911</td>\n",
       "      <td>3435.0</td>\n",
       "      <td>NaN</td>\n",
       "      <td>US</td>\n",
       "      <td>US-KS</td>\n",
       "      <td>Leoti</td>\n",
       "      <td>no</td>\n",
       "      <td>00AA</td>\n",
       "      <td>NaN</td>\n",
       "      <td>00AA</td>\n",
       "      <td>NaN</td>\n",
       "      <td>NaN</td>\n",
       "      <td>NaN</td>\n",
       "    </tr>\n",
       "    <tr>\n",
       "      <th>2</th>\n",
       "      <td>6524</td>\n",
       "      <td>00AK</td>\n",
       "      <td>small_airport</td>\n",
       "      <td>Lowell Field</td>\n",
       "      <td>59.947733</td>\n",
       "      <td>-151.692524</td>\n",
       "      <td>450.0</td>\n",
       "      <td>NaN</td>\n",
       "      <td>US</td>\n",
       "      <td>US-AK</td>\n",
       "      <td>Anchor Point</td>\n",
       "      <td>no</td>\n",
       "      <td>00AK</td>\n",
       "      <td>NaN</td>\n",
       "      <td>00AK</td>\n",
       "      <td>NaN</td>\n",
       "      <td>NaN</td>\n",
       "      <td>NaN</td>\n",
       "    </tr>\n",
       "    <tr>\n",
       "      <th>3</th>\n",
       "      <td>6525</td>\n",
       "      <td>00AL</td>\n",
       "      <td>small_airport</td>\n",
       "      <td>Epps Airpark</td>\n",
       "      <td>34.864799</td>\n",
       "      <td>-86.770302</td>\n",
       "      <td>820.0</td>\n",
       "      <td>NaN</td>\n",
       "      <td>US</td>\n",
       "      <td>US-AL</td>\n",
       "      <td>Harvest</td>\n",
       "      <td>no</td>\n",
       "      <td>00AL</td>\n",
       "      <td>NaN</td>\n",
       "      <td>00AL</td>\n",
       "      <td>NaN</td>\n",
       "      <td>NaN</td>\n",
       "      <td>NaN</td>\n",
       "    </tr>\n",
       "    <tr>\n",
       "      <th>4</th>\n",
       "      <td>506791</td>\n",
       "      <td>00AN</td>\n",
       "      <td>small_airport</td>\n",
       "      <td>Katmai Lodge Airport</td>\n",
       "      <td>59.093287</td>\n",
       "      <td>-156.456699</td>\n",
       "      <td>80.0</td>\n",
       "      <td>NaN</td>\n",
       "      <td>US</td>\n",
       "      <td>US-AK</td>\n",
       "      <td>King Salmon</td>\n",
       "      <td>no</td>\n",
       "      <td>00AN</td>\n",
       "      <td>NaN</td>\n",
       "      <td>00AN</td>\n",
       "      <td>NaN</td>\n",
       "      <td>NaN</td>\n",
       "      <td>NaN</td>\n",
       "    </tr>\n",
       "    <tr>\n",
       "      <th>...</th>\n",
       "      <td>...</td>\n",
       "      <td>...</td>\n",
       "      <td>...</td>\n",
       "      <td>...</td>\n",
       "      <td>...</td>\n",
       "      <td>...</td>\n",
       "      <td>...</td>\n",
       "      <td>...</td>\n",
       "      <td>...</td>\n",
       "      <td>...</td>\n",
       "      <td>...</td>\n",
       "      <td>...</td>\n",
       "      <td>...</td>\n",
       "      <td>...</td>\n",
       "      <td>...</td>\n",
       "      <td>...</td>\n",
       "      <td>...</td>\n",
       "      <td>...</td>\n",
       "    </tr>\n",
       "    <tr>\n",
       "      <th>74772</th>\n",
       "      <td>46378</td>\n",
       "      <td>ZZ-0001</td>\n",
       "      <td>heliport</td>\n",
       "      <td>Sealand Helipad</td>\n",
       "      <td>51.894444</td>\n",
       "      <td>1.482500</td>\n",
       "      <td>40.0</td>\n",
       "      <td>EU</td>\n",
       "      <td>GB</td>\n",
       "      <td>GB-ENG</td>\n",
       "      <td>Sealand</td>\n",
       "      <td>no</td>\n",
       "      <td>NaN</td>\n",
       "      <td>NaN</td>\n",
       "      <td>NaN</td>\n",
       "      <td>http://www.sealandgov.org/</td>\n",
       "      <td>https://en.wikipedia.org/wiki/Principality_of_...</td>\n",
       "      <td>Roughs Tower Helipad</td>\n",
       "    </tr>\n",
       "    <tr>\n",
       "      <th>74773</th>\n",
       "      <td>307326</td>\n",
       "      <td>ZZ-0002</td>\n",
       "      <td>small_airport</td>\n",
       "      <td>Glorioso Islands Airstrip</td>\n",
       "      <td>-11.584278</td>\n",
       "      <td>47.296389</td>\n",
       "      <td>11.0</td>\n",
       "      <td>AF</td>\n",
       "      <td>TF</td>\n",
       "      <td>TF-U-A</td>\n",
       "      <td>Grande Glorieuse</td>\n",
       "      <td>no</td>\n",
       "      <td>NaN</td>\n",
       "      <td>NaN</td>\n",
       "      <td>NaN</td>\n",
       "      <td>NaN</td>\n",
       "      <td>NaN</td>\n",
       "      <td>NaN</td>\n",
       "    </tr>\n",
       "    <tr>\n",
       "      <th>74774</th>\n",
       "      <td>346788</td>\n",
       "      <td>ZZ-0003</td>\n",
       "      <td>small_airport</td>\n",
       "      <td>Fainting Goat Airport</td>\n",
       "      <td>32.110587</td>\n",
       "      <td>-97.356312</td>\n",
       "      <td>690.0</td>\n",
       "      <td>NaN</td>\n",
       "      <td>US</td>\n",
       "      <td>US-TX</td>\n",
       "      <td>Blum</td>\n",
       "      <td>no</td>\n",
       "      <td>87TX</td>\n",
       "      <td>NaN</td>\n",
       "      <td>87TX</td>\n",
       "      <td>NaN</td>\n",
       "      <td>NaN</td>\n",
       "      <td>NaN</td>\n",
       "    </tr>\n",
       "    <tr>\n",
       "      <th>74775</th>\n",
       "      <td>342102</td>\n",
       "      <td>ZZZW</td>\n",
       "      <td>closed</td>\n",
       "      <td>Scandium City Heliport</td>\n",
       "      <td>69.355287</td>\n",
       "      <td>-138.939310</td>\n",
       "      <td>4.0</td>\n",
       "      <td>NaN</td>\n",
       "      <td>CA</td>\n",
       "      <td>CA-YT</td>\n",
       "      <td>(Old) Scandium City</td>\n",
       "      <td>no</td>\n",
       "      <td>NaN</td>\n",
       "      <td>NaN</td>\n",
       "      <td>NaN</td>\n",
       "      <td>NaN</td>\n",
       "      <td>NaN</td>\n",
       "      <td>ZZZW, ZZZW, ZYW, YK96</td>\n",
       "    </tr>\n",
       "    <tr>\n",
       "      <th>74776</th>\n",
       "      <td>313629</td>\n",
       "      <td>ZZZZ</td>\n",
       "      <td>small_airport</td>\n",
       "      <td>Satsuma Iōjima Airport</td>\n",
       "      <td>30.784722</td>\n",
       "      <td>130.270556</td>\n",
       "      <td>338.0</td>\n",
       "      <td>AS</td>\n",
       "      <td>JP</td>\n",
       "      <td>JP-46</td>\n",
       "      <td>Mishima</td>\n",
       "      <td>no</td>\n",
       "      <td>RJX7</td>\n",
       "      <td>NaN</td>\n",
       "      <td>RJX7</td>\n",
       "      <td>NaN</td>\n",
       "      <td>http://wikimapia.org/6705190/Satsuma-Iwo-jima-...</td>\n",
       "      <td>SATSUMA,IWOJIMA,RJX7</td>\n",
       "    </tr>\n",
       "  </tbody>\n",
       "</table>\n",
       "<p>74777 rows × 18 columns</p>\n",
       "</div>"
      ],
      "text/plain": [
       "           id    ident           type                       name  \\\n",
       "0        6523      00A       heliport          Total Rf Heliport   \n",
       "1      323361     00AA  small_airport       Aero B Ranch Airport   \n",
       "2        6524     00AK  small_airport               Lowell Field   \n",
       "3        6525     00AL  small_airport               Epps Airpark   \n",
       "4      506791     00AN  small_airport       Katmai Lodge Airport   \n",
       "...       ...      ...            ...                        ...   \n",
       "74772   46378  ZZ-0001       heliport            Sealand Helipad   \n",
       "74773  307326  ZZ-0002  small_airport  Glorioso Islands Airstrip   \n",
       "74774  346788  ZZ-0003  small_airport      Fainting Goat Airport   \n",
       "74775  342102     ZZZW         closed     Scandium City Heliport   \n",
       "74776  313629     ZZZZ  small_airport     Satsuma Iōjima Airport   \n",
       "\n",
       "       latitude_deg  longitude_deg  elevation_ft continent iso_country  \\\n",
       "0         40.070801     -74.933601          11.0       NaN          US   \n",
       "1         38.704022    -101.473911        3435.0       NaN          US   \n",
       "2         59.947733    -151.692524         450.0       NaN          US   \n",
       "3         34.864799     -86.770302         820.0       NaN          US   \n",
       "4         59.093287    -156.456699          80.0       NaN          US   \n",
       "...             ...            ...           ...       ...         ...   \n",
       "74772     51.894444       1.482500          40.0        EU          GB   \n",
       "74773    -11.584278      47.296389          11.0        AF          TF   \n",
       "74774     32.110587     -97.356312         690.0       NaN          US   \n",
       "74775     69.355287    -138.939310           4.0       NaN          CA   \n",
       "74776     30.784722     130.270556         338.0        AS          JP   \n",
       "\n",
       "      iso_region         municipality scheduled_service gps_code iata_code  \\\n",
       "0          US-PA             Bensalem                no      00A       NaN   \n",
       "1          US-KS                Leoti                no     00AA       NaN   \n",
       "2          US-AK         Anchor Point                no     00AK       NaN   \n",
       "3          US-AL              Harvest                no     00AL       NaN   \n",
       "4          US-AK          King Salmon                no     00AN       NaN   \n",
       "...          ...                  ...               ...      ...       ...   \n",
       "74772     GB-ENG              Sealand                no      NaN       NaN   \n",
       "74773     TF-U-A     Grande Glorieuse                no      NaN       NaN   \n",
       "74774      US-TX                 Blum                no     87TX       NaN   \n",
       "74775      CA-YT  (Old) Scandium City                no      NaN       NaN   \n",
       "74776      JP-46              Mishima                no     RJX7       NaN   \n",
       "\n",
       "      local_code                   home_link  \\\n",
       "0            00A                         NaN   \n",
       "1           00AA                         NaN   \n",
       "2           00AK                         NaN   \n",
       "3           00AL                         NaN   \n",
       "4           00AN                         NaN   \n",
       "...          ...                         ...   \n",
       "74772        NaN  http://www.sealandgov.org/   \n",
       "74773        NaN                         NaN   \n",
       "74774       87TX                         NaN   \n",
       "74775        NaN                         NaN   \n",
       "74776       RJX7                         NaN   \n",
       "\n",
       "                                          wikipedia_link  \\\n",
       "0                                                    NaN   \n",
       "1                                                    NaN   \n",
       "2                                                    NaN   \n",
       "3                                                    NaN   \n",
       "4                                                    NaN   \n",
       "...                                                  ...   \n",
       "74772  https://en.wikipedia.org/wiki/Principality_of_...   \n",
       "74773                                                NaN   \n",
       "74774                                                NaN   \n",
       "74775                                                NaN   \n",
       "74776  http://wikimapia.org/6705190/Satsuma-Iwo-jima-...   \n",
       "\n",
       "                    keywords  \n",
       "0                        NaN  \n",
       "1                        NaN  \n",
       "2                        NaN  \n",
       "3                        NaN  \n",
       "4                        NaN  \n",
       "...                      ...  \n",
       "74772   Roughs Tower Helipad  \n",
       "74773                    NaN  \n",
       "74774                    NaN  \n",
       "74775  ZZZW, ZZZW, ZYW, YK96  \n",
       "74776   SATSUMA,IWOJIMA,RJX7  \n",
       "\n",
       "[74777 rows x 18 columns]"
      ]
     },
     "execution_count": 71,
     "metadata": {},
     "output_type": "execute_result"
    }
   ],
   "source": [
    "df=pd.read_csv('airports.csv')\n",
    "df"
   ]
  },
  {
   "cell_type": "code",
   "execution_count": 90,
   "metadata": {},
   "outputs": [
    {
     "data": {
      "text/html": [
       "<div>\n",
       "<style scoped>\n",
       "    .dataframe tbody tr th:only-of-type {\n",
       "        vertical-align: middle;\n",
       "    }\n",
       "\n",
       "    .dataframe tbody tr th {\n",
       "        vertical-align: top;\n",
       "    }\n",
       "\n",
       "    .dataframe thead th {\n",
       "        text-align: right;\n",
       "    }\n",
       "</style>\n",
       "<table border=\"1\" class=\"dataframe\">\n",
       "  <thead>\n",
       "    <tr style=\"text-align: right;\">\n",
       "      <th></th>\n",
       "      <th>id</th>\n",
       "      <th>ident</th>\n",
       "      <th>type</th>\n",
       "      <th>name</th>\n",
       "      <th>latitude_deg</th>\n",
       "      <th>longitude_deg</th>\n",
       "      <th>elevation_mt</th>\n",
       "      <th>continent</th>\n",
       "      <th>iso_region</th>\n",
       "      <th>municipality</th>\n",
       "      <th>scheduled_service</th>\n",
       "      <th>gps_code</th>\n",
       "      <th>iata_code</th>\n",
       "      <th>local_code</th>\n",
       "      <th>home_link</th>\n",
       "      <th>wikipedia_link</th>\n",
       "      <th>keywords</th>\n",
       "    </tr>\n",
       "    <tr>\n",
       "      <th>iso_country</th>\n",
       "      <th></th>\n",
       "      <th></th>\n",
       "      <th></th>\n",
       "      <th></th>\n",
       "      <th></th>\n",
       "      <th></th>\n",
       "      <th></th>\n",
       "      <th></th>\n",
       "      <th></th>\n",
       "      <th></th>\n",
       "      <th></th>\n",
       "      <th></th>\n",
       "      <th></th>\n",
       "      <th></th>\n",
       "      <th></th>\n",
       "      <th></th>\n",
       "      <th></th>\n",
       "    </tr>\n",
       "  </thead>\n",
       "  <tbody>\n",
       "    <tr>\n",
       "      <th>BL</th>\n",
       "      <td>1</td>\n",
       "      <td>1</td>\n",
       "      <td>1</td>\n",
       "      <td>1</td>\n",
       "      <td>1</td>\n",
       "      <td>1</td>\n",
       "      <td>1</td>\n",
       "      <td>0</td>\n",
       "      <td>1</td>\n",
       "      <td>1</td>\n",
       "      <td>1</td>\n",
       "      <td>1</td>\n",
       "      <td>1</td>\n",
       "      <td>0</td>\n",
       "      <td>0</td>\n",
       "      <td>1</td>\n",
       "      <td>1</td>\n",
       "    </tr>\n",
       "    <tr>\n",
       "      <th>CC</th>\n",
       "      <td>1</td>\n",
       "      <td>1</td>\n",
       "      <td>1</td>\n",
       "      <td>1</td>\n",
       "      <td>1</td>\n",
       "      <td>1</td>\n",
       "      <td>1</td>\n",
       "      <td>1</td>\n",
       "      <td>1</td>\n",
       "      <td>1</td>\n",
       "      <td>1</td>\n",
       "      <td>1</td>\n",
       "      <td>1</td>\n",
       "      <td>0</td>\n",
       "      <td>0</td>\n",
       "      <td>1</td>\n",
       "      <td>0</td>\n",
       "    </tr>\n",
       "    <tr>\n",
       "      <th>CW</th>\n",
       "      <td>1</td>\n",
       "      <td>1</td>\n",
       "      <td>1</td>\n",
       "      <td>1</td>\n",
       "      <td>1</td>\n",
       "      <td>1</td>\n",
       "      <td>1</td>\n",
       "      <td>0</td>\n",
       "      <td>1</td>\n",
       "      <td>1</td>\n",
       "      <td>1</td>\n",
       "      <td>1</td>\n",
       "      <td>1</td>\n",
       "      <td>0</td>\n",
       "      <td>0</td>\n",
       "      <td>1</td>\n",
       "      <td>1</td>\n",
       "    </tr>\n",
       "    <tr>\n",
       "      <th>CX</th>\n",
       "      <td>1</td>\n",
       "      <td>1</td>\n",
       "      <td>1</td>\n",
       "      <td>1</td>\n",
       "      <td>1</td>\n",
       "      <td>1</td>\n",
       "      <td>1</td>\n",
       "      <td>1</td>\n",
       "      <td>1</td>\n",
       "      <td>1</td>\n",
       "      <td>1</td>\n",
       "      <td>1</td>\n",
       "      <td>1</td>\n",
       "      <td>0</td>\n",
       "      <td>1</td>\n",
       "      <td>1</td>\n",
       "      <td>0</td>\n",
       "    </tr>\n",
       "    <tr>\n",
       "      <th>GI</th>\n",
       "      <td>1</td>\n",
       "      <td>1</td>\n",
       "      <td>1</td>\n",
       "      <td>1</td>\n",
       "      <td>1</td>\n",
       "      <td>1</td>\n",
       "      <td>1</td>\n",
       "      <td>1</td>\n",
       "      <td>1</td>\n",
       "      <td>1</td>\n",
       "      <td>1</td>\n",
       "      <td>1</td>\n",
       "      <td>1</td>\n",
       "      <td>0</td>\n",
       "      <td>0</td>\n",
       "      <td>1</td>\n",
       "      <td>0</td>\n",
       "    </tr>\n",
       "    <tr>\n",
       "      <th>GM</th>\n",
       "      <td>1</td>\n",
       "      <td>1</td>\n",
       "      <td>1</td>\n",
       "      <td>1</td>\n",
       "      <td>1</td>\n",
       "      <td>1</td>\n",
       "      <td>1</td>\n",
       "      <td>1</td>\n",
       "      <td>1</td>\n",
       "      <td>1</td>\n",
       "      <td>1</td>\n",
       "      <td>1</td>\n",
       "      <td>1</td>\n",
       "      <td>0</td>\n",
       "      <td>0</td>\n",
       "      <td>1</td>\n",
       "      <td>1</td>\n",
       "    </tr>\n",
       "    <tr>\n",
       "      <th>GS</th>\n",
       "      <td>1</td>\n",
       "      <td>1</td>\n",
       "      <td>1</td>\n",
       "      <td>1</td>\n",
       "      <td>1</td>\n",
       "      <td>1</td>\n",
       "      <td>1</td>\n",
       "      <td>1</td>\n",
       "      <td>1</td>\n",
       "      <td>1</td>\n",
       "      <td>1</td>\n",
       "      <td>0</td>\n",
       "      <td>0</td>\n",
       "      <td>0</td>\n",
       "      <td>0</td>\n",
       "      <td>0</td>\n",
       "      <td>0</td>\n",
       "    </tr>\n",
       "    <tr>\n",
       "      <th>IO</th>\n",
       "      <td>1</td>\n",
       "      <td>1</td>\n",
       "      <td>1</td>\n",
       "      <td>1</td>\n",
       "      <td>1</td>\n",
       "      <td>1</td>\n",
       "      <td>1</td>\n",
       "      <td>1</td>\n",
       "      <td>1</td>\n",
       "      <td>1</td>\n",
       "      <td>1</td>\n",
       "      <td>1</td>\n",
       "      <td>1</td>\n",
       "      <td>0</td>\n",
       "      <td>0</td>\n",
       "      <td>1</td>\n",
       "      <td>1</td>\n",
       "    </tr>\n",
       "    <tr>\n",
       "      <th>JE</th>\n",
       "      <td>1</td>\n",
       "      <td>1</td>\n",
       "      <td>1</td>\n",
       "      <td>1</td>\n",
       "      <td>1</td>\n",
       "      <td>1</td>\n",
       "      <td>1</td>\n",
       "      <td>1</td>\n",
       "      <td>1</td>\n",
       "      <td>1</td>\n",
       "      <td>1</td>\n",
       "      <td>1</td>\n",
       "      <td>1</td>\n",
       "      <td>0</td>\n",
       "      <td>1</td>\n",
       "      <td>1</td>\n",
       "      <td>1</td>\n",
       "    </tr>\n",
       "    <tr>\n",
       "      <th>NF</th>\n",
       "      <td>1</td>\n",
       "      <td>1</td>\n",
       "      <td>1</td>\n",
       "      <td>1</td>\n",
       "      <td>1</td>\n",
       "      <td>1</td>\n",
       "      <td>1</td>\n",
       "      <td>1</td>\n",
       "      <td>1</td>\n",
       "      <td>1</td>\n",
       "      <td>1</td>\n",
       "      <td>1</td>\n",
       "      <td>1</td>\n",
       "      <td>0</td>\n",
       "      <td>1</td>\n",
       "      <td>1</td>\n",
       "      <td>0</td>\n",
       "    </tr>\n",
       "    <tr>\n",
       "      <th>NR</th>\n",
       "      <td>1</td>\n",
       "      <td>1</td>\n",
       "      <td>1</td>\n",
       "      <td>1</td>\n",
       "      <td>1</td>\n",
       "      <td>1</td>\n",
       "      <td>1</td>\n",
       "      <td>1</td>\n",
       "      <td>1</td>\n",
       "      <td>1</td>\n",
       "      <td>1</td>\n",
       "      <td>1</td>\n",
       "      <td>1</td>\n",
       "      <td>0</td>\n",
       "      <td>0</td>\n",
       "      <td>1</td>\n",
       "      <td>1</td>\n",
       "    </tr>\n",
       "    <tr>\n",
       "      <th>NU</th>\n",
       "      <td>1</td>\n",
       "      <td>1</td>\n",
       "      <td>1</td>\n",
       "      <td>1</td>\n",
       "      <td>1</td>\n",
       "      <td>1</td>\n",
       "      <td>1</td>\n",
       "      <td>1</td>\n",
       "      <td>1</td>\n",
       "      <td>1</td>\n",
       "      <td>1</td>\n",
       "      <td>1</td>\n",
       "      <td>1</td>\n",
       "      <td>0</td>\n",
       "      <td>0</td>\n",
       "      <td>1</td>\n",
       "      <td>1</td>\n",
       "    </tr>\n",
       "    <tr>\n",
       "      <th>SX</th>\n",
       "      <td>1</td>\n",
       "      <td>1</td>\n",
       "      <td>1</td>\n",
       "      <td>1</td>\n",
       "      <td>1</td>\n",
       "      <td>1</td>\n",
       "      <td>1</td>\n",
       "      <td>0</td>\n",
       "      <td>1</td>\n",
       "      <td>1</td>\n",
       "      <td>1</td>\n",
       "      <td>1</td>\n",
       "      <td>1</td>\n",
       "      <td>0</td>\n",
       "      <td>0</td>\n",
       "      <td>1</td>\n",
       "      <td>0</td>\n",
       "    </tr>\n",
       "    <tr>\n",
       "      <th>VA</th>\n",
       "      <td>1</td>\n",
       "      <td>1</td>\n",
       "      <td>1</td>\n",
       "      <td>1</td>\n",
       "      <td>1</td>\n",
       "      <td>1</td>\n",
       "      <td>1</td>\n",
       "      <td>1</td>\n",
       "      <td>1</td>\n",
       "      <td>0</td>\n",
       "      <td>1</td>\n",
       "      <td>0</td>\n",
       "      <td>0</td>\n",
       "      <td>0</td>\n",
       "      <td>0</td>\n",
       "      <td>1</td>\n",
       "      <td>0</td>\n",
       "    </tr>\n",
       "    <tr>\n",
       "      <th>YT</th>\n",
       "      <td>1</td>\n",
       "      <td>1</td>\n",
       "      <td>1</td>\n",
       "      <td>1</td>\n",
       "      <td>1</td>\n",
       "      <td>1</td>\n",
       "      <td>1</td>\n",
       "      <td>1</td>\n",
       "      <td>1</td>\n",
       "      <td>1</td>\n",
       "      <td>1</td>\n",
       "      <td>1</td>\n",
       "      <td>1</td>\n",
       "      <td>0</td>\n",
       "      <td>0</td>\n",
       "      <td>1</td>\n",
       "      <td>0</td>\n",
       "    </tr>\n",
       "  </tbody>\n",
       "</table>\n",
       "</div>"
      ],
      "text/plain": [
       "             id  ident  type  name  latitude_deg  longitude_deg  elevation_mt  \\\n",
       "iso_country                                                                     \n",
       "BL            1      1     1     1             1              1             1   \n",
       "CC            1      1     1     1             1              1             1   \n",
       "CW            1      1     1     1             1              1             1   \n",
       "CX            1      1     1     1             1              1             1   \n",
       "GI            1      1     1     1             1              1             1   \n",
       "GM            1      1     1     1             1              1             1   \n",
       "GS            1      1     1     1             1              1             1   \n",
       "IO            1      1     1     1             1              1             1   \n",
       "JE            1      1     1     1             1              1             1   \n",
       "NF            1      1     1     1             1              1             1   \n",
       "NR            1      1     1     1             1              1             1   \n",
       "NU            1      1     1     1             1              1             1   \n",
       "SX            1      1     1     1             1              1             1   \n",
       "VA            1      1     1     1             1              1             1   \n",
       "YT            1      1     1     1             1              1             1   \n",
       "\n",
       "             continent  iso_region  municipality  scheduled_service  gps_code  \\\n",
       "iso_country                                                                     \n",
       "BL                   0           1             1                  1         1   \n",
       "CC                   1           1             1                  1         1   \n",
       "CW                   0           1             1                  1         1   \n",
       "CX                   1           1             1                  1         1   \n",
       "GI                   1           1             1                  1         1   \n",
       "GM                   1           1             1                  1         1   \n",
       "GS                   1           1             1                  1         0   \n",
       "IO                   1           1             1                  1         1   \n",
       "JE                   1           1             1                  1         1   \n",
       "NF                   1           1             1                  1         1   \n",
       "NR                   1           1             1                  1         1   \n",
       "NU                   1           1             1                  1         1   \n",
       "SX                   0           1             1                  1         1   \n",
       "VA                   1           1             0                  1         0   \n",
       "YT                   1           1             1                  1         1   \n",
       "\n",
       "             iata_code  local_code  home_link  wikipedia_link  keywords  \n",
       "iso_country                                                              \n",
       "BL                   1           0          0               1         1  \n",
       "CC                   1           0          0               1         0  \n",
       "CW                   1           0          0               1         1  \n",
       "CX                   1           0          1               1         0  \n",
       "GI                   1           0          0               1         0  \n",
       "GM                   1           0          0               1         1  \n",
       "GS                   0           0          0               0         0  \n",
       "IO                   1           0          0               1         1  \n",
       "JE                   1           0          1               1         1  \n",
       "NF                   1           0          1               1         0  \n",
       "NR                   1           0          0               1         1  \n",
       "NU                   1           0          0               1         1  \n",
       "SX                   1           0          0               1         0  \n",
       "VA                   0           0          0               1         0  \n",
       "YT                   1           0          0               1         0  "
      ]
     },
     "execution_count": 90,
     "metadata": {},
     "output_type": "execute_result"
    }
   ],
   "source": [
    "#  wybierz nazwy państw ostatnich 12 lotnisk w tabeli,\n",
    "df['iso_country'].tail(12)\n",
    "\n",
    "#  wybierz wiersz o indeksie 1 korzystając z indeksera .loc oraz .iloc (porównaj otrzymane wyniki),\n",
    "df.loc[1,]\n",
    "df.iloc[1,]\n",
    "\n",
    "#   * wybierz wszystkie lotniska w Polsce,\n",
    "df[df['iso_country'] == \"PL\"]\n",
    "\n",
    "#   * wybierz wszystkie lotniska, których nazwa różni się od nazwy miasta, w którym się znajdują.\n",
    "df[df.name!=df.municipality]\n",
    "\n",
    "#   * przelicz wartości wysokości na metry i zapisz zmodyfikowaną kolumnę w miejsce starej (w naszej tabeli wysokość jest podana w   * stopach nad poziomem morza; jedna stopa angielska równa się 30,48 cm),\n",
    "df.rename(columns = {'elevation_ft': 'elevation_mt'}, inplace = True)\n",
    "df['elevation_mt'] =df['elevation_mt'].apply(lambda x : x*0.3048) \n",
    "\n",
    "#  znajdź wszystkie państwa, w których znajduje się wyłącznie 1 lotnisko\n",
    "ddf = df.groupby(['iso_country']).count()\n",
    "ddf[ddf['id']==1]"
   ]
  },
  {
   "cell_type": "markdown",
   "metadata": {},
   "source": [
    "# Dane do kolejnych zadań\n",
    "Wczytanie dancyh:\n",
    "\n",
    "  * Powinieneś być w stanie zobaczyć wszystkie kolumny i 10 wierszy danych:\n",
    "  * survival – Survival (0 = No; 1 = Yes)\n",
    "  * pclass – Passenger Class (1 = 1st; 2 = 2nd; 3 = 3rd)\n",
    "  * sex – Sex\n",
    "  * age – Age\n",
    "  * sibsp – Number of Siblings/Spouses Aboard\n",
    "  * parch – Number of Parents/Children Aboard\n",
    "  * ticket – Ticket Number\n",
    "  * fare – Passenger Fare\n",
    "  * cabin – Cabin\n",
    "  * embarked – Port of Embarkation (C = Cherbourg; Q = Queenstown; S = Southampton)\n"
   ]
  },
  {
   "cell_type": "code",
   "execution_count": 107,
   "metadata": {},
   "outputs": [
    {
     "name": "stdout",
     "output_type": "stream",
     "text": [
      "(891, 12)\n"
     ]
    },
    {
     "data": {
      "text/html": [
       "<div>\n",
       "<style scoped>\n",
       "    .dataframe tbody tr th:only-of-type {\n",
       "        vertical-align: middle;\n",
       "    }\n",
       "\n",
       "    .dataframe tbody tr th {\n",
       "        vertical-align: top;\n",
       "    }\n",
       "\n",
       "    .dataframe thead th {\n",
       "        text-align: right;\n",
       "    }\n",
       "</style>\n",
       "<table border=\"1\" class=\"dataframe\">\n",
       "  <thead>\n",
       "    <tr style=\"text-align: right;\">\n",
       "      <th></th>\n",
       "      <th>PassengerId</th>\n",
       "      <th>Survived</th>\n",
       "      <th>Pclass</th>\n",
       "      <th>Name</th>\n",
       "      <th>Sex</th>\n",
       "      <th>Age</th>\n",
       "      <th>SibSp</th>\n",
       "      <th>Parch</th>\n",
       "      <th>Ticket</th>\n",
       "      <th>Fare</th>\n",
       "      <th>Cabin</th>\n",
       "      <th>Embarked</th>\n",
       "    </tr>\n",
       "  </thead>\n",
       "  <tbody>\n",
       "    <tr>\n",
       "      <th>0</th>\n",
       "      <td>1</td>\n",
       "      <td>0</td>\n",
       "      <td>3</td>\n",
       "      <td>Braund, Mr. Owen Harris</td>\n",
       "      <td>male</td>\n",
       "      <td>22.0</td>\n",
       "      <td>1</td>\n",
       "      <td>0</td>\n",
       "      <td>A/5 21171</td>\n",
       "      <td>7.2500</td>\n",
       "      <td>NaN</td>\n",
       "      <td>S</td>\n",
       "    </tr>\n",
       "    <tr>\n",
       "      <th>1</th>\n",
       "      <td>2</td>\n",
       "      <td>1</td>\n",
       "      <td>1</td>\n",
       "      <td>Cumings, Mrs. John Bradley (Florence Briggs Th...</td>\n",
       "      <td>female</td>\n",
       "      <td>38.0</td>\n",
       "      <td>1</td>\n",
       "      <td>0</td>\n",
       "      <td>PC 17599</td>\n",
       "      <td>71.2833</td>\n",
       "      <td>C85</td>\n",
       "      <td>C</td>\n",
       "    </tr>\n",
       "    <tr>\n",
       "      <th>2</th>\n",
       "      <td>3</td>\n",
       "      <td>1</td>\n",
       "      <td>3</td>\n",
       "      <td>Heikkinen, Miss. Laina</td>\n",
       "      <td>female</td>\n",
       "      <td>26.0</td>\n",
       "      <td>0</td>\n",
       "      <td>0</td>\n",
       "      <td>STON/O2. 3101282</td>\n",
       "      <td>7.9250</td>\n",
       "      <td>NaN</td>\n",
       "      <td>S</td>\n",
       "    </tr>\n",
       "    <tr>\n",
       "      <th>3</th>\n",
       "      <td>4</td>\n",
       "      <td>1</td>\n",
       "      <td>1</td>\n",
       "      <td>Futrelle, Mrs. Jacques Heath (Lily May Peel)</td>\n",
       "      <td>female</td>\n",
       "      <td>35.0</td>\n",
       "      <td>1</td>\n",
       "      <td>0</td>\n",
       "      <td>113803</td>\n",
       "      <td>53.1000</td>\n",
       "      <td>C123</td>\n",
       "      <td>S</td>\n",
       "    </tr>\n",
       "    <tr>\n",
       "      <th>4</th>\n",
       "      <td>5</td>\n",
       "      <td>0</td>\n",
       "      <td>3</td>\n",
       "      <td>Allen, Mr. William Henry</td>\n",
       "      <td>male</td>\n",
       "      <td>35.0</td>\n",
       "      <td>0</td>\n",
       "      <td>0</td>\n",
       "      <td>373450</td>\n",
       "      <td>8.0500</td>\n",
       "      <td>NaN</td>\n",
       "      <td>S</td>\n",
       "    </tr>\n",
       "  </tbody>\n",
       "</table>\n",
       "</div>"
      ],
      "text/plain": [
       "   PassengerId  Survived  Pclass  \\\n",
       "0            1         0       3   \n",
       "1            2         1       1   \n",
       "2            3         1       3   \n",
       "3            4         1       1   \n",
       "4            5         0       3   \n",
       "\n",
       "                                                Name     Sex   Age  SibSp  \\\n",
       "0                            Braund, Mr. Owen Harris    male  22.0      1   \n",
       "1  Cumings, Mrs. John Bradley (Florence Briggs Th...  female  38.0      1   \n",
       "2                             Heikkinen, Miss. Laina  female  26.0      0   \n",
       "3       Futrelle, Mrs. Jacques Heath (Lily May Peel)  female  35.0      1   \n",
       "4                           Allen, Mr. William Henry    male  35.0      0   \n",
       "\n",
       "   Parch            Ticket     Fare Cabin Embarked  \n",
       "0      0         A/5 21171   7.2500   NaN        S  \n",
       "1      0          PC 17599  71.2833   C85        C  \n",
       "2      0  STON/O2. 3101282   7.9250   NaN        S  \n",
       "3      0            113803  53.1000  C123        S  \n",
       "4      0            373450   8.0500   NaN        S  "
      ]
     },
     "execution_count": 107,
     "metadata": {},
     "output_type": "execute_result"
    }
   ],
   "source": [
    "df = pd.read_csv('Titanic.csv') \n",
    "print(df.shape)\n",
    "df.head()"
   ]
  },
  {
   "cell_type": "code",
   "execution_count": 104,
   "metadata": {},
   "outputs": [
    {
     "data": {
      "text/plain": [
       "Index(['PassengerId', 'Survived', 'Pclass', 'Name', 'Sex', 'Age', 'SibSp',\n",
       "       'Parch', 'Ticket', 'Fare', 'Cabin', 'Embarked'],\n",
       "      dtype='object')"
      ]
     },
     "execution_count": 104,
     "metadata": {},
     "output_type": "execute_result"
    }
   ],
   "source": [
    "df.columns"
   ]
  },
  {
   "cell_type": "markdown",
   "metadata": {},
   "source": [
    "# Zadanie 6\n",
    "\n",
    "Usuń kolumny: \"PassengerId\", \"Name\" i \"Ticket\".\n",
    "\n",
    "Powody:\n",
    "\n",
    "  * PassengerId - jest to unikalny numer\n",
    "  * Imię - nie ma wpływu na predykcje\n",
    "  * Bilet - wygląda niechlujnie i jest losowe"
   ]
  },
  {
   "cell_type": "code",
   "execution_count": 108,
   "metadata": {},
   "outputs": [
    {
     "data": {
      "text/html": [
       "<div>\n",
       "<style scoped>\n",
       "    .dataframe tbody tr th:only-of-type {\n",
       "        vertical-align: middle;\n",
       "    }\n",
       "\n",
       "    .dataframe tbody tr th {\n",
       "        vertical-align: top;\n",
       "    }\n",
       "\n",
       "    .dataframe thead th {\n",
       "        text-align: right;\n",
       "    }\n",
       "</style>\n",
       "<table border=\"1\" class=\"dataframe\">\n",
       "  <thead>\n",
       "    <tr style=\"text-align: right;\">\n",
       "      <th></th>\n",
       "      <th>Survived</th>\n",
       "      <th>Pclass</th>\n",
       "      <th>Sex</th>\n",
       "      <th>Age</th>\n",
       "      <th>SibSp</th>\n",
       "      <th>Parch</th>\n",
       "      <th>Fare</th>\n",
       "      <th>Cabin</th>\n",
       "      <th>Embarked</th>\n",
       "    </tr>\n",
       "  </thead>\n",
       "  <tbody>\n",
       "    <tr>\n",
       "      <th>0</th>\n",
       "      <td>0</td>\n",
       "      <td>3</td>\n",
       "      <td>male</td>\n",
       "      <td>22.0</td>\n",
       "      <td>1</td>\n",
       "      <td>0</td>\n",
       "      <td>7.2500</td>\n",
       "      <td>NaN</td>\n",
       "      <td>S</td>\n",
       "    </tr>\n",
       "    <tr>\n",
       "      <th>1</th>\n",
       "      <td>1</td>\n",
       "      <td>1</td>\n",
       "      <td>female</td>\n",
       "      <td>38.0</td>\n",
       "      <td>1</td>\n",
       "      <td>0</td>\n",
       "      <td>71.2833</td>\n",
       "      <td>C85</td>\n",
       "      <td>C</td>\n",
       "    </tr>\n",
       "    <tr>\n",
       "      <th>2</th>\n",
       "      <td>1</td>\n",
       "      <td>3</td>\n",
       "      <td>female</td>\n",
       "      <td>26.0</td>\n",
       "      <td>0</td>\n",
       "      <td>0</td>\n",
       "      <td>7.9250</td>\n",
       "      <td>NaN</td>\n",
       "      <td>S</td>\n",
       "    </tr>\n",
       "    <tr>\n",
       "      <th>3</th>\n",
       "      <td>1</td>\n",
       "      <td>1</td>\n",
       "      <td>female</td>\n",
       "      <td>35.0</td>\n",
       "      <td>1</td>\n",
       "      <td>0</td>\n",
       "      <td>53.1000</td>\n",
       "      <td>C123</td>\n",
       "      <td>S</td>\n",
       "    </tr>\n",
       "    <tr>\n",
       "      <th>4</th>\n",
       "      <td>0</td>\n",
       "      <td>3</td>\n",
       "      <td>male</td>\n",
       "      <td>35.0</td>\n",
       "      <td>0</td>\n",
       "      <td>0</td>\n",
       "      <td>8.0500</td>\n",
       "      <td>NaN</td>\n",
       "      <td>S</td>\n",
       "    </tr>\n",
       "    <tr>\n",
       "      <th>...</th>\n",
       "      <td>...</td>\n",
       "      <td>...</td>\n",
       "      <td>...</td>\n",
       "      <td>...</td>\n",
       "      <td>...</td>\n",
       "      <td>...</td>\n",
       "      <td>...</td>\n",
       "      <td>...</td>\n",
       "      <td>...</td>\n",
       "    </tr>\n",
       "    <tr>\n",
       "      <th>886</th>\n",
       "      <td>0</td>\n",
       "      <td>2</td>\n",
       "      <td>male</td>\n",
       "      <td>27.0</td>\n",
       "      <td>0</td>\n",
       "      <td>0</td>\n",
       "      <td>13.0000</td>\n",
       "      <td>NaN</td>\n",
       "      <td>S</td>\n",
       "    </tr>\n",
       "    <tr>\n",
       "      <th>887</th>\n",
       "      <td>1</td>\n",
       "      <td>1</td>\n",
       "      <td>female</td>\n",
       "      <td>19.0</td>\n",
       "      <td>0</td>\n",
       "      <td>0</td>\n",
       "      <td>30.0000</td>\n",
       "      <td>B42</td>\n",
       "      <td>S</td>\n",
       "    </tr>\n",
       "    <tr>\n",
       "      <th>888</th>\n",
       "      <td>0</td>\n",
       "      <td>3</td>\n",
       "      <td>female</td>\n",
       "      <td>NaN</td>\n",
       "      <td>1</td>\n",
       "      <td>2</td>\n",
       "      <td>23.4500</td>\n",
       "      <td>NaN</td>\n",
       "      <td>S</td>\n",
       "    </tr>\n",
       "    <tr>\n",
       "      <th>889</th>\n",
       "      <td>1</td>\n",
       "      <td>1</td>\n",
       "      <td>male</td>\n",
       "      <td>26.0</td>\n",
       "      <td>0</td>\n",
       "      <td>0</td>\n",
       "      <td>30.0000</td>\n",
       "      <td>C148</td>\n",
       "      <td>C</td>\n",
       "    </tr>\n",
       "    <tr>\n",
       "      <th>890</th>\n",
       "      <td>0</td>\n",
       "      <td>3</td>\n",
       "      <td>male</td>\n",
       "      <td>32.0</td>\n",
       "      <td>0</td>\n",
       "      <td>0</td>\n",
       "      <td>7.7500</td>\n",
       "      <td>NaN</td>\n",
       "      <td>Q</td>\n",
       "    </tr>\n",
       "  </tbody>\n",
       "</table>\n",
       "<p>891 rows × 9 columns</p>\n",
       "</div>"
      ],
      "text/plain": [
       "     Survived  Pclass     Sex   Age  SibSp  Parch     Fare Cabin Embarked\n",
       "0           0       3    male  22.0      1      0   7.2500   NaN        S\n",
       "1           1       1  female  38.0      1      0  71.2833   C85        C\n",
       "2           1       3  female  26.0      0      0   7.9250   NaN        S\n",
       "3           1       1  female  35.0      1      0  53.1000  C123        S\n",
       "4           0       3    male  35.0      0      0   8.0500   NaN        S\n",
       "..        ...     ...     ...   ...    ...    ...      ...   ...      ...\n",
       "886         0       2    male  27.0      0      0  13.0000   NaN        S\n",
       "887         1       1  female  19.0      0      0  30.0000   B42        S\n",
       "888         0       3  female   NaN      1      2  23.4500   NaN        S\n",
       "889         1       1    male  26.0      0      0  30.0000  C148        C\n",
       "890         0       3    male  32.0      0      0   7.7500   NaN        Q\n",
       "\n",
       "[891 rows x 9 columns]"
      ]
     },
     "execution_count": 108,
     "metadata": {},
     "output_type": "execute_result"
    }
   ],
   "source": [
    "df.drop(['PassengerId'],axis=1,inplace=True)\n",
    "df.drop(['Name'],axis=1,inplace=True)\n",
    "df.drop(['Ticket'],axis=1,inplace=True)\n",
    "df"
   ]
  },
  {
   "cell_type": "markdown",
   "metadata": {},
   "source": [
    "# Następnie musimy spojrzeć na kolumnę Cabin.\n",
    "\n",
    "Następnie musimy spojrzeć na kolumnę Cabin. Będziemy leniwi i zmienimy wartości na Tak lub Nie (w zależności czy posiadał kabinę). Lepszym sposobem na to może być podzielenie opisu tak aby uzyskać pierwszą literę, ponieważ zwykle oznacza ona, na którym pokładzie znajdowała się kabina. Może to być użyteczne przy predykcji (ale my na razie jej nie wykonujemy)."
   ]
  },
  {
   "cell_type": "code",
   "execution_count": 109,
   "metadata": {},
   "outputs": [
    {
     "data": {
      "text/html": [
       "<div>\n",
       "<style scoped>\n",
       "    .dataframe tbody tr th:only-of-type {\n",
       "        vertical-align: middle;\n",
       "    }\n",
       "\n",
       "    .dataframe tbody tr th {\n",
       "        vertical-align: top;\n",
       "    }\n",
       "\n",
       "    .dataframe thead th {\n",
       "        text-align: right;\n",
       "    }\n",
       "</style>\n",
       "<table border=\"1\" class=\"dataframe\">\n",
       "  <thead>\n",
       "    <tr style=\"text-align: right;\">\n",
       "      <th></th>\n",
       "      <th>Survived</th>\n",
       "      <th>Pclass</th>\n",
       "      <th>Sex</th>\n",
       "      <th>Age</th>\n",
       "      <th>SibSp</th>\n",
       "      <th>Parch</th>\n",
       "      <th>Fare</th>\n",
       "      <th>Cabin</th>\n",
       "      <th>Embarked</th>\n",
       "    </tr>\n",
       "  </thead>\n",
       "  <tbody>\n",
       "    <tr>\n",
       "      <th>0</th>\n",
       "      <td>0</td>\n",
       "      <td>3</td>\n",
       "      <td>male</td>\n",
       "      <td>22.0</td>\n",
       "      <td>1</td>\n",
       "      <td>0</td>\n",
       "      <td>7.2500</td>\n",
       "      <td>NaN</td>\n",
       "      <td>S</td>\n",
       "    </tr>\n",
       "    <tr>\n",
       "      <th>2</th>\n",
       "      <td>1</td>\n",
       "      <td>3</td>\n",
       "      <td>female</td>\n",
       "      <td>26.0</td>\n",
       "      <td>0</td>\n",
       "      <td>0</td>\n",
       "      <td>7.9250</td>\n",
       "      <td>NaN</td>\n",
       "      <td>S</td>\n",
       "    </tr>\n",
       "    <tr>\n",
       "      <th>4</th>\n",
       "      <td>0</td>\n",
       "      <td>3</td>\n",
       "      <td>male</td>\n",
       "      <td>35.0</td>\n",
       "      <td>0</td>\n",
       "      <td>0</td>\n",
       "      <td>8.0500</td>\n",
       "      <td>NaN</td>\n",
       "      <td>S</td>\n",
       "    </tr>\n",
       "    <tr>\n",
       "      <th>5</th>\n",
       "      <td>0</td>\n",
       "      <td>3</td>\n",
       "      <td>male</td>\n",
       "      <td>NaN</td>\n",
       "      <td>0</td>\n",
       "      <td>0</td>\n",
       "      <td>8.4583</td>\n",
       "      <td>NaN</td>\n",
       "      <td>Q</td>\n",
       "    </tr>\n",
       "    <tr>\n",
       "      <th>7</th>\n",
       "      <td>0</td>\n",
       "      <td>3</td>\n",
       "      <td>male</td>\n",
       "      <td>2.0</td>\n",
       "      <td>3</td>\n",
       "      <td>1</td>\n",
       "      <td>21.0750</td>\n",
       "      <td>NaN</td>\n",
       "      <td>S</td>\n",
       "    </tr>\n",
       "    <tr>\n",
       "      <th>...</th>\n",
       "      <td>...</td>\n",
       "      <td>...</td>\n",
       "      <td>...</td>\n",
       "      <td>...</td>\n",
       "      <td>...</td>\n",
       "      <td>...</td>\n",
       "      <td>...</td>\n",
       "      <td>...</td>\n",
       "      <td>...</td>\n",
       "    </tr>\n",
       "    <tr>\n",
       "      <th>884</th>\n",
       "      <td>0</td>\n",
       "      <td>3</td>\n",
       "      <td>male</td>\n",
       "      <td>25.0</td>\n",
       "      <td>0</td>\n",
       "      <td>0</td>\n",
       "      <td>7.0500</td>\n",
       "      <td>NaN</td>\n",
       "      <td>S</td>\n",
       "    </tr>\n",
       "    <tr>\n",
       "      <th>885</th>\n",
       "      <td>0</td>\n",
       "      <td>3</td>\n",
       "      <td>female</td>\n",
       "      <td>39.0</td>\n",
       "      <td>0</td>\n",
       "      <td>5</td>\n",
       "      <td>29.1250</td>\n",
       "      <td>NaN</td>\n",
       "      <td>Q</td>\n",
       "    </tr>\n",
       "    <tr>\n",
       "      <th>886</th>\n",
       "      <td>0</td>\n",
       "      <td>2</td>\n",
       "      <td>male</td>\n",
       "      <td>27.0</td>\n",
       "      <td>0</td>\n",
       "      <td>0</td>\n",
       "      <td>13.0000</td>\n",
       "      <td>NaN</td>\n",
       "      <td>S</td>\n",
       "    </tr>\n",
       "    <tr>\n",
       "      <th>888</th>\n",
       "      <td>0</td>\n",
       "      <td>3</td>\n",
       "      <td>female</td>\n",
       "      <td>NaN</td>\n",
       "      <td>1</td>\n",
       "      <td>2</td>\n",
       "      <td>23.4500</td>\n",
       "      <td>NaN</td>\n",
       "      <td>S</td>\n",
       "    </tr>\n",
       "    <tr>\n",
       "      <th>890</th>\n",
       "      <td>0</td>\n",
       "      <td>3</td>\n",
       "      <td>male</td>\n",
       "      <td>32.0</td>\n",
       "      <td>0</td>\n",
       "      <td>0</td>\n",
       "      <td>7.7500</td>\n",
       "      <td>NaN</td>\n",
       "      <td>Q</td>\n",
       "    </tr>\n",
       "  </tbody>\n",
       "</table>\n",
       "<p>687 rows × 9 columns</p>\n",
       "</div>"
      ],
      "text/plain": [
       "     Survived  Pclass     Sex   Age  SibSp  Parch     Fare Cabin Embarked\n",
       "0           0       3    male  22.0      1      0   7.2500   NaN        S\n",
       "2           1       3  female  26.0      0      0   7.9250   NaN        S\n",
       "4           0       3    male  35.0      0      0   8.0500   NaN        S\n",
       "5           0       3    male   NaN      0      0   8.4583   NaN        Q\n",
       "7           0       3    male   2.0      3      1  21.0750   NaN        S\n",
       "..        ...     ...     ...   ...    ...    ...      ...   ...      ...\n",
       "884         0       3    male  25.0      0      0   7.0500   NaN        S\n",
       "885         0       3  female  39.0      0      5  29.1250   NaN        Q\n",
       "886         0       2    male  27.0      0      0  13.0000   NaN        S\n",
       "888         0       3  female   NaN      1      2  23.4500   NaN        S\n",
       "890         0       3    male  32.0      0      0   7.7500   NaN        Q\n",
       "\n",
       "[687 rows x 9 columns]"
      ]
     },
     "execution_count": 109,
     "metadata": {},
     "output_type": "execute_result"
    }
   ],
   "source": [
    "df.loc[df.Cabin.isnull()]"
   ]
  },
  {
   "cell_type": "markdown",
   "metadata": {},
   "source": [
    "# Zadanie 7\n",
    "Utwórz nową kolumną o nazwie HasCabin, która zawiera 1 jeżeli ktoś miał swoją kabinę i 0 jeśli nie."
   ]
  },
  {
   "cell_type": "code",
   "execution_count": 111,
   "metadata": {},
   "outputs": [
    {
     "data": {
      "text/html": [
       "<div>\n",
       "<style scoped>\n",
       "    .dataframe tbody tr th:only-of-type {\n",
       "        vertical-align: middle;\n",
       "    }\n",
       "\n",
       "    .dataframe tbody tr th {\n",
       "        vertical-align: top;\n",
       "    }\n",
       "\n",
       "    .dataframe thead th {\n",
       "        text-align: right;\n",
       "    }\n",
       "</style>\n",
       "<table border=\"1\" class=\"dataframe\">\n",
       "  <thead>\n",
       "    <tr style=\"text-align: right;\">\n",
       "      <th></th>\n",
       "      <th>Survived</th>\n",
       "      <th>Pclass</th>\n",
       "      <th>Sex</th>\n",
       "      <th>Age</th>\n",
       "      <th>SibSp</th>\n",
       "      <th>Parch</th>\n",
       "      <th>Fare</th>\n",
       "      <th>Cabin</th>\n",
       "      <th>Embarked</th>\n",
       "      <th>hasCabin</th>\n",
       "    </tr>\n",
       "  </thead>\n",
       "  <tbody>\n",
       "    <tr>\n",
       "      <th>0</th>\n",
       "      <td>0</td>\n",
       "      <td>3</td>\n",
       "      <td>male</td>\n",
       "      <td>22.0</td>\n",
       "      <td>1</td>\n",
       "      <td>0</td>\n",
       "      <td>7.2500</td>\n",
       "      <td>NaN</td>\n",
       "      <td>S</td>\n",
       "      <td>0</td>\n",
       "    </tr>\n",
       "    <tr>\n",
       "      <th>1</th>\n",
       "      <td>1</td>\n",
       "      <td>1</td>\n",
       "      <td>female</td>\n",
       "      <td>38.0</td>\n",
       "      <td>1</td>\n",
       "      <td>0</td>\n",
       "      <td>71.2833</td>\n",
       "      <td>C85</td>\n",
       "      <td>C</td>\n",
       "      <td>1</td>\n",
       "    </tr>\n",
       "    <tr>\n",
       "      <th>2</th>\n",
       "      <td>1</td>\n",
       "      <td>3</td>\n",
       "      <td>female</td>\n",
       "      <td>26.0</td>\n",
       "      <td>0</td>\n",
       "      <td>0</td>\n",
       "      <td>7.9250</td>\n",
       "      <td>NaN</td>\n",
       "      <td>S</td>\n",
       "      <td>0</td>\n",
       "    </tr>\n",
       "    <tr>\n",
       "      <th>3</th>\n",
       "      <td>1</td>\n",
       "      <td>1</td>\n",
       "      <td>female</td>\n",
       "      <td>35.0</td>\n",
       "      <td>1</td>\n",
       "      <td>0</td>\n",
       "      <td>53.1000</td>\n",
       "      <td>C123</td>\n",
       "      <td>S</td>\n",
       "      <td>1</td>\n",
       "    </tr>\n",
       "    <tr>\n",
       "      <th>4</th>\n",
       "      <td>0</td>\n",
       "      <td>3</td>\n",
       "      <td>male</td>\n",
       "      <td>35.0</td>\n",
       "      <td>0</td>\n",
       "      <td>0</td>\n",
       "      <td>8.0500</td>\n",
       "      <td>NaN</td>\n",
       "      <td>S</td>\n",
       "      <td>0</td>\n",
       "    </tr>\n",
       "    <tr>\n",
       "      <th>...</th>\n",
       "      <td>...</td>\n",
       "      <td>...</td>\n",
       "      <td>...</td>\n",
       "      <td>...</td>\n",
       "      <td>...</td>\n",
       "      <td>...</td>\n",
       "      <td>...</td>\n",
       "      <td>...</td>\n",
       "      <td>...</td>\n",
       "      <td>...</td>\n",
       "    </tr>\n",
       "    <tr>\n",
       "      <th>886</th>\n",
       "      <td>0</td>\n",
       "      <td>2</td>\n",
       "      <td>male</td>\n",
       "      <td>27.0</td>\n",
       "      <td>0</td>\n",
       "      <td>0</td>\n",
       "      <td>13.0000</td>\n",
       "      <td>NaN</td>\n",
       "      <td>S</td>\n",
       "      <td>0</td>\n",
       "    </tr>\n",
       "    <tr>\n",
       "      <th>887</th>\n",
       "      <td>1</td>\n",
       "      <td>1</td>\n",
       "      <td>female</td>\n",
       "      <td>19.0</td>\n",
       "      <td>0</td>\n",
       "      <td>0</td>\n",
       "      <td>30.0000</td>\n",
       "      <td>B42</td>\n",
       "      <td>S</td>\n",
       "      <td>1</td>\n",
       "    </tr>\n",
       "    <tr>\n",
       "      <th>888</th>\n",
       "      <td>0</td>\n",
       "      <td>3</td>\n",
       "      <td>female</td>\n",
       "      <td>NaN</td>\n",
       "      <td>1</td>\n",
       "      <td>2</td>\n",
       "      <td>23.4500</td>\n",
       "      <td>NaN</td>\n",
       "      <td>S</td>\n",
       "      <td>0</td>\n",
       "    </tr>\n",
       "    <tr>\n",
       "      <th>889</th>\n",
       "      <td>1</td>\n",
       "      <td>1</td>\n",
       "      <td>male</td>\n",
       "      <td>26.0</td>\n",
       "      <td>0</td>\n",
       "      <td>0</td>\n",
       "      <td>30.0000</td>\n",
       "      <td>C148</td>\n",
       "      <td>C</td>\n",
       "      <td>1</td>\n",
       "    </tr>\n",
       "    <tr>\n",
       "      <th>890</th>\n",
       "      <td>0</td>\n",
       "      <td>3</td>\n",
       "      <td>male</td>\n",
       "      <td>32.0</td>\n",
       "      <td>0</td>\n",
       "      <td>0</td>\n",
       "      <td>7.7500</td>\n",
       "      <td>NaN</td>\n",
       "      <td>Q</td>\n",
       "      <td>0</td>\n",
       "    </tr>\n",
       "  </tbody>\n",
       "</table>\n",
       "<p>891 rows × 10 columns</p>\n",
       "</div>"
      ],
      "text/plain": [
       "     Survived  Pclass     Sex   Age  SibSp  Parch     Fare Cabin Embarked  \\\n",
       "0           0       3    male  22.0      1      0   7.2500   NaN        S   \n",
       "1           1       1  female  38.0      1      0  71.2833   C85        C   \n",
       "2           1       3  female  26.0      0      0   7.9250   NaN        S   \n",
       "3           1       1  female  35.0      1      0  53.1000  C123        S   \n",
       "4           0       3    male  35.0      0      0   8.0500   NaN        S   \n",
       "..        ...     ...     ...   ...    ...    ...      ...   ...      ...   \n",
       "886         0       2    male  27.0      0      0  13.0000   NaN        S   \n",
       "887         1       1  female  19.0      0      0  30.0000   B42        S   \n",
       "888         0       3  female   NaN      1      2  23.4500   NaN        S   \n",
       "889         1       1    male  26.0      0      0  30.0000  C148        C   \n",
       "890         0       3    male  32.0      0      0   7.7500   NaN        Q   \n",
       "\n",
       "     hasCabin  \n",
       "0           0  \n",
       "1           1  \n",
       "2           0  \n",
       "3           1  \n",
       "4           0  \n",
       "..        ...  \n",
       "886         0  \n",
       "887         1  \n",
       "888         0  \n",
       "889         1  \n",
       "890         0  \n",
       "\n",
       "[891 rows x 10 columns]"
      ]
     },
     "execution_count": 111,
     "metadata": {},
     "output_type": "execute_result"
    }
   ],
   "source": [
    "df['hasCabin'] = df['Cabin'].notnull().astype('int')\n",
    "df"
   ]
  },
  {
   "cell_type": "markdown",
   "metadata": {},
   "source": [
    "# Zadanie 8\n",
    "Usuń brakujące wartości"
   ]
  },
  {
   "cell_type": "code",
   "execution_count": 112,
   "metadata": {},
   "outputs": [
    {
     "data": {
      "text/html": [
       "<div>\n",
       "<style scoped>\n",
       "    .dataframe tbody tr th:only-of-type {\n",
       "        vertical-align: middle;\n",
       "    }\n",
       "\n",
       "    .dataframe tbody tr th {\n",
       "        vertical-align: top;\n",
       "    }\n",
       "\n",
       "    .dataframe thead th {\n",
       "        text-align: right;\n",
       "    }\n",
       "</style>\n",
       "<table border=\"1\" class=\"dataframe\">\n",
       "  <thead>\n",
       "    <tr style=\"text-align: right;\">\n",
       "      <th></th>\n",
       "      <th>Survived</th>\n",
       "      <th>Pclass</th>\n",
       "      <th>Sex</th>\n",
       "      <th>Age</th>\n",
       "      <th>SibSp</th>\n",
       "      <th>Parch</th>\n",
       "      <th>Fare</th>\n",
       "      <th>Cabin</th>\n",
       "      <th>Embarked</th>\n",
       "      <th>hasCabin</th>\n",
       "    </tr>\n",
       "  </thead>\n",
       "  <tbody>\n",
       "    <tr>\n",
       "      <th>1</th>\n",
       "      <td>1</td>\n",
       "      <td>1</td>\n",
       "      <td>female</td>\n",
       "      <td>38.0</td>\n",
       "      <td>1</td>\n",
       "      <td>0</td>\n",
       "      <td>71.2833</td>\n",
       "      <td>C85</td>\n",
       "      <td>C</td>\n",
       "      <td>1</td>\n",
       "    </tr>\n",
       "    <tr>\n",
       "      <th>3</th>\n",
       "      <td>1</td>\n",
       "      <td>1</td>\n",
       "      <td>female</td>\n",
       "      <td>35.0</td>\n",
       "      <td>1</td>\n",
       "      <td>0</td>\n",
       "      <td>53.1000</td>\n",
       "      <td>C123</td>\n",
       "      <td>S</td>\n",
       "      <td>1</td>\n",
       "    </tr>\n",
       "    <tr>\n",
       "      <th>6</th>\n",
       "      <td>0</td>\n",
       "      <td>1</td>\n",
       "      <td>male</td>\n",
       "      <td>54.0</td>\n",
       "      <td>0</td>\n",
       "      <td>0</td>\n",
       "      <td>51.8625</td>\n",
       "      <td>E46</td>\n",
       "      <td>S</td>\n",
       "      <td>1</td>\n",
       "    </tr>\n",
       "    <tr>\n",
       "      <th>10</th>\n",
       "      <td>1</td>\n",
       "      <td>3</td>\n",
       "      <td>female</td>\n",
       "      <td>4.0</td>\n",
       "      <td>1</td>\n",
       "      <td>1</td>\n",
       "      <td>16.7000</td>\n",
       "      <td>G6</td>\n",
       "      <td>S</td>\n",
       "      <td>1</td>\n",
       "    </tr>\n",
       "    <tr>\n",
       "      <th>11</th>\n",
       "      <td>1</td>\n",
       "      <td>1</td>\n",
       "      <td>female</td>\n",
       "      <td>58.0</td>\n",
       "      <td>0</td>\n",
       "      <td>0</td>\n",
       "      <td>26.5500</td>\n",
       "      <td>C103</td>\n",
       "      <td>S</td>\n",
       "      <td>1</td>\n",
       "    </tr>\n",
       "    <tr>\n",
       "      <th>...</th>\n",
       "      <td>...</td>\n",
       "      <td>...</td>\n",
       "      <td>...</td>\n",
       "      <td>...</td>\n",
       "      <td>...</td>\n",
       "      <td>...</td>\n",
       "      <td>...</td>\n",
       "      <td>...</td>\n",
       "      <td>...</td>\n",
       "      <td>...</td>\n",
       "    </tr>\n",
       "    <tr>\n",
       "      <th>871</th>\n",
       "      <td>1</td>\n",
       "      <td>1</td>\n",
       "      <td>female</td>\n",
       "      <td>47.0</td>\n",
       "      <td>1</td>\n",
       "      <td>1</td>\n",
       "      <td>52.5542</td>\n",
       "      <td>D35</td>\n",
       "      <td>S</td>\n",
       "      <td>1</td>\n",
       "    </tr>\n",
       "    <tr>\n",
       "      <th>872</th>\n",
       "      <td>0</td>\n",
       "      <td>1</td>\n",
       "      <td>male</td>\n",
       "      <td>33.0</td>\n",
       "      <td>0</td>\n",
       "      <td>0</td>\n",
       "      <td>5.0000</td>\n",
       "      <td>B51 B53 B55</td>\n",
       "      <td>S</td>\n",
       "      <td>1</td>\n",
       "    </tr>\n",
       "    <tr>\n",
       "      <th>879</th>\n",
       "      <td>1</td>\n",
       "      <td>1</td>\n",
       "      <td>female</td>\n",
       "      <td>56.0</td>\n",
       "      <td>0</td>\n",
       "      <td>1</td>\n",
       "      <td>83.1583</td>\n",
       "      <td>C50</td>\n",
       "      <td>C</td>\n",
       "      <td>1</td>\n",
       "    </tr>\n",
       "    <tr>\n",
       "      <th>887</th>\n",
       "      <td>1</td>\n",
       "      <td>1</td>\n",
       "      <td>female</td>\n",
       "      <td>19.0</td>\n",
       "      <td>0</td>\n",
       "      <td>0</td>\n",
       "      <td>30.0000</td>\n",
       "      <td>B42</td>\n",
       "      <td>S</td>\n",
       "      <td>1</td>\n",
       "    </tr>\n",
       "    <tr>\n",
       "      <th>889</th>\n",
       "      <td>1</td>\n",
       "      <td>1</td>\n",
       "      <td>male</td>\n",
       "      <td>26.0</td>\n",
       "      <td>0</td>\n",
       "      <td>0</td>\n",
       "      <td>30.0000</td>\n",
       "      <td>C148</td>\n",
       "      <td>C</td>\n",
       "      <td>1</td>\n",
       "    </tr>\n",
       "  </tbody>\n",
       "</table>\n",
       "<p>183 rows × 10 columns</p>\n",
       "</div>"
      ],
      "text/plain": [
       "     Survived  Pclass     Sex   Age  SibSp  Parch     Fare        Cabin  \\\n",
       "1           1       1  female  38.0      1      0  71.2833          C85   \n",
       "3           1       1  female  35.0      1      0  53.1000         C123   \n",
       "6           0       1    male  54.0      0      0  51.8625          E46   \n",
       "10          1       3  female   4.0      1      1  16.7000           G6   \n",
       "11          1       1  female  58.0      0      0  26.5500         C103   \n",
       "..        ...     ...     ...   ...    ...    ...      ...          ...   \n",
       "871         1       1  female  47.0      1      1  52.5542          D35   \n",
       "872         0       1    male  33.0      0      0   5.0000  B51 B53 B55   \n",
       "879         1       1  female  56.0      0      1  83.1583          C50   \n",
       "887         1       1  female  19.0      0      0  30.0000          B42   \n",
       "889         1       1    male  26.0      0      0  30.0000         C148   \n",
       "\n",
       "    Embarked  hasCabin  \n",
       "1          C         1  \n",
       "3          S         1  \n",
       "6          S         1  \n",
       "10         S         1  \n",
       "11         S         1  \n",
       "..       ...       ...  \n",
       "871        S         1  \n",
       "872        S         1  \n",
       "879        C         1  \n",
       "887        S         1  \n",
       "889        C         1  \n",
       "\n",
       "[183 rows x 10 columns]"
      ]
     },
     "execution_count": 112,
     "metadata": {},
     "output_type": "execute_result"
    }
   ],
   "source": [
    "df.dropna()"
   ]
  },
  {
   "cell_type": "markdown",
   "metadata": {},
   "source": [
    "# Matplotlib - rysowanie wykresów w Pythonie\n",
    "\n",
    "**Matplotlib** jest biblioteką do tworzenia wysokiej jakości wykresów dla języka Python i jego rozszerzenia numerycznego NumPy. Umożliwia prezentację danych w różnych formatach (np. PNG, PDF, XLS). Zapewnia kontrolę nad wyglądem, stylami i właściwościami wykresów, pracę w środowisku interaktywnym, jak i możliwość osadzania wyników w aplikacjach destkopowych czy webowych.\n",
    "\n",
    "Funkcje i narzędzia tej biblioteki są napisane w taki sposób aby jak najbardziej odzwierciedlały metody rysowania wykresów z języka MatLab, dzięki czemu użytkownicy Matlaba w łatwy sposób mogą przenieść się do języka Python.\n",
    "Niektóre zalety korzystania z Pythona, NumPy i matplotlib nad MatLabem:\n",
    "  \n",
    "  * nowoczesny język programowania w pełni funkcjonalny obiektowo, odpowiedni do tworzenia oprogramowania na dużą skalę,\n",
    "  * darmowy (open source),\n",
    "  * wsparcie SVG.\n",
    "\n",
    "Aby skorzystać z biblioteki matplotlib należy ją wcześniej zaimportować, np.:"
   ]
  },
  {
   "cell_type": "code",
   "execution_count": 113,
   "metadata": {},
   "outputs": [],
   "source": [
    "import matplotlib.pyplot as plt\n",
    "# from matplotlib import pyplot as plt\n",
    "\n",
    "%matplotlib inline"
   ]
  },
  {
   "cell_type": "markdown",
   "metadata": {},
   "source": [
    "# Pierwszy wykres"
   ]
  },
  {
   "cell_type": "code",
   "execution_count": 114,
   "metadata": {},
   "outputs": [
    {
     "data": {
      "image/png": "[encoded data removed]",
      "text/plain": [
       "<Figure size 640x480 with 1 Axes>"
      ]
     },
     "metadata": {},
     "output_type": "display_data"
    }
   ],
   "source": [
    "plt.plot([1, 5, 2, 7, 4, 1]) # wartości funkcji\n",
    "plt.show()"
   ]
  },
  {
   "cell_type": "code",
   "execution_count": 88,
   "metadata": {
    "scrolled": true
   },
   "outputs": [
    {
     "data": {
      "image/png": "[encoded data removed]",
      "text/plain": [
       "<Figure size 640x480 with 1 Axes>"
      ]
     },
     "metadata": {},
     "output_type": "display_data"
    }
   ],
   "source": [
    "plt.plot([1, 2, 4, 7], [-1, 3, -2, 10])\n",
    "plt.show()"
   ]
  },
  {
   "cell_type": "markdown",
   "metadata": {},
   "source": [
    "Własności wykresów\n",
    "Za pomocą specjalnych poleceń można też zmieniać właściwości wykresów, takie jak np.: rodzaj linii, kolor, czy też symbole punktów.\n",
    "Rodzaje linii:\n",
    "  \n",
    "  * **\\-** - ciągła,\n",
    "  * **:** - punktowa,\n",
    "  * **-.** - kropka-kreska,\n",
    "  * **--** - kreskowana.\n",
    "\n",
    "Kolory:\n",
    "\n",
    "  * **y** - yellow,\n",
    "  * **m** - magenta,\n",
    "  * **c** - cyan,\n",
    "  * **r** - red,\n",
    "  * **g** - green,\n",
    "  * **b** - blue,\n",
    "  * **w** - white,\n",
    "  * **k** - black.\n",
    "\n",
    "Symbole:\n",
    "\n",
    "  * **.** - punkt,\n",
    "  * **o** - kółko,\n",
    "  * **x** - x,\n",
    "  * **\\+** - plus,\n",
    "  * ** \\* ** - gwiazdka,\n",
    "  * **s** - kwadraty,\n",
    "  * **d** - romb,\n",
    "  * **v** - trójkąt w dół,\n",
    "  * **^** - trójkąt w górę,\n",
    "  * **<** - trójkąt w lewo,\n",
    "  * **\\>** - trójkąt w prawo,\n",
    "  * **p** - pięciokąt,\n",
    "  * **h** - sześciokąt."
   ]
  },
  {
   "cell_type": "code",
   "execution_count": 115,
   "metadata": {},
   "outputs": [
    {
     "data": {
      "image/png": "[encoded data removed]",
      "text/plain": [
       "<Figure size 640x480 with 1 Axes>"
      ]
     },
     "metadata": {},
     "output_type": "display_data"
    }
   ],
   "source": [
    "import numpy as np\n",
    "\n",
    "x = np.arange(0., 5., 0.2)\n",
    "\n",
    "plt.plot(x, x, 'r--', x, x**2, 'bs', x, x**3, 'g^')\n",
    "plt.show()"
   ]
  },
  {
   "cell_type": "code",
   "execution_count": 116,
   "metadata": {},
   "outputs": [
    {
     "data": {
      "image/png": "[encoded data removed]",
      "text/plain": [
       "<Figure size 640x480 with 1 Axes>"
      ]
     },
     "metadata": {},
     "output_type": "display_data"
    }
   ],
   "source": [
    "x = [1,2,3,4]\n",
    "y = [20, 21, 20.5, 20.8]\n",
    "\n",
    "plt.plot(x, y, linestyle=\"dashed\", marker=\"o\", color=\"green\")\n",
    "\n",
    "# ustawienie granic osi X, \n",
    "plt.xlim(0.5,4.5)\n",
    "plt.ylim(19.8,21.2)\n",
    "\n",
    "plt.show()"
   ]
  },
  {
   "cell_type": "code",
   "execution_count": 117,
   "metadata": {},
   "outputs": [
    {
     "data": {
      "image/png": "[encoded data removed]",
      "text/plain": [
       "<Figure size 640x480 with 1 Axes>"
      ]
     },
     "metadata": {},
     "output_type": "display_data"
    }
   ],
   "source": [
    "x = np.linspace(0, 20, 1000)\n",
    "y1 = np.sin(x)\n",
    "y2 = np.cos(x)\n",
    "\n",
    "# rozmiar czcionki\n",
    "plt.rc(\"font\", size=10)\n",
    "\n",
    "# dodanie legendy\n",
    "plt.plot(x, y1, '-b', label=r'$\\sin(x)$')\n",
    "plt.plot(x, y2, '-r', label='cosine')\n",
    "plt.legend(loc='upper right') # pozycja legendy\n",
    "# plt.legend(loc='upper left', frameon=False)\n",
    "plt.ylim(-1.5, 2.0)\n",
    "\n",
    "plt.title(\"Dwa wykresy\", size=20)\n",
    "\n",
    "plt.show()"
   ]
  },
  {
   "cell_type": "code",
   "execution_count": null,
   "metadata": {},
   "outputs": [],
   "source": []
  },
  {
   "cell_type": "markdown",
   "metadata": {},
   "source": [
    "Więcej na temat wyszczególnienia obiektów na wykresie odsyłam do dokumntacji: [http://matplotlib.org/users/annotations_guide.html]\n"
   ]
  },
  {
   "cell_type": "markdown",
   "metadata": {},
   "source": [
    "#  Statystyka\n"
   ]
  },
  {
   "cell_type": "code",
   "execution_count": 118,
   "metadata": {},
   "outputs": [],
   "source": [
    "inFile = 'http://ww2.amstat.org/publications/jse/datasets/babyboom.dat.txt'\n",
    "data = pd.read_csv(inFile, sep='[ ]+', header=None, engine='python',names= ['sex', 'Weight', 'Minutes'])\n",
    "df = data[['Minutes', 'sex', 'Weight']]"
   ]
  },
  {
   "cell_type": "markdown",
   "metadata": {},
   "source": [
    "  * Narysujmy dane <tt>df.Weight.values</tt> jako szereg czasowy"
   ]
  },
  {
   "cell_type": "code",
   "execution_count": 119,
   "metadata": {},
   "outputs": [
    {
     "data": {
      "image/png": "[encoded data removed]",
      "text/plain": [
       "<Figure size 640x480 with 1 Axes>"
      ]
     },
     "metadata": {},
     "output_type": "display_data"
    }
   ],
   "source": [
    "x=df.Weight.values\n",
    "plt.scatter(np.arange(len(x)), x)\n",
    "plt.show()"
   ]
  },
  {
   "cell_type": "markdown",
   "metadata": {},
   "source": [
    " Narysujmy histogram dla <tt>df.Weight.values</tt>"
   ]
  },
  {
   "cell_type": "code",
   "execution_count": 120,
   "metadata": {},
   "outputs": [
    {
     "data": {
      "image/png": "[encoded data removed]",
      "text/plain": [
       "<Figure size 640x480 with 1 Axes>"
      ]
     },
     "metadata": {},
     "output_type": "display_data"
    }
   ],
   "source": [
    "plt.hist(x, bins=25)\n",
    "plt.show()"
   ]
  },
  {
   "cell_type": "markdown",
   "metadata": {},
   "source": [
    "Narysujmy gęstość dla <tt> df.Weight.values</tt> (estymacja jądrowa):"
   ]
  },
  {
   "cell_type": "code",
   "execution_count": 121,
   "metadata": {},
   "outputs": [
    {
     "data": {
      "image/png": "[encoded data removed]",
      "text/plain": [
       "<Figure size 640x480 with 1 Axes>"
      ]
     },
     "metadata": {},
     "output_type": "display_data"
    }
   ],
   "source": [
    "import seaborn as sns\n",
    "sns.kdeplot(x)\n",
    "plt.show()"
   ]
  },
  {
   "cell_type": "markdown",
   "metadata": {},
   "source": [
    "Narysujmy dystrybuantę empiryczną dla </tt> df.Weight.values<tt>"
   ]
  },
  {
   "cell_type": "code",
   "execution_count": 122,
   "metadata": {},
   "outputs": [
    {
     "data": {
      "image/png": "[encoded data removed]",
      "text/plain": [
       "<Figure size 640x480 with 1 Axes>"
      ]
     },
     "metadata": {},
     "output_type": "display_data"
    }
   ],
   "source": [
    "from scipy import stats\n",
    "plt.plot(stats.cumfreq(x,numbins=25)[0])\n",
    "plt.show()"
   ]
  },
  {
   "cell_type": "markdown",
   "metadata": {},
   "source": [
    "Narysujmy wykres pudełkowy dla <tt>df.Weight.values</tt>"
   ]
  },
  {
   "cell_type": "code",
   "execution_count": 123,
   "metadata": {},
   "outputs": [
    {
     "data": {
      "image/png": "[encoded data removed]",
      "text/plain": [
       "<Figure size 640x480 with 1 Axes>"
      ]
     },
     "metadata": {},
     "output_type": "display_data"
    }
   ],
   "source": [
    "plt.boxplot(x, sym='*')\n",
    "plt.show()"
   ]
  },
  {
   "cell_type": "markdown",
   "metadata": {},
   "source": [
    "Narysujmy wykres skrzypcowy dla <tt>df.Weight.values</tt>"
   ]
  },
  {
   "cell_type": "code",
   "execution_count": 124,
   "metadata": {},
   "outputs": [
    {
     "name": "stderr",
     "output_type": "stream",
     "text": [
      "/Users/maja/opt/anaconda3/lib/python3.9/site-packages/seaborn/_decorators.py:36: FutureWarning: Pass the following variable as a keyword arg: x. From version 0.12, the only valid positional argument will be `data`, and passing other arguments without an explicit keyword will result in an error or misinterpretation.\n",
      "  warnings.warn(\n"
     ]
    },
    {
     "data": {
      "image/png": "[encoded data removed]",
      "text/plain": [
       "<Figure size 640x480 with 1 Axes>"
      ]
     },
     "metadata": {},
     "output_type": "display_data"
    }
   ],
   "source": [
    "sns.violinplot(x)\n",
    "plt.show()"
   ]
  },
  {
   "cell_type": "markdown",
   "metadata": {},
   "source": [
    "# Zadanie\n",
    "Proszę podzielić próbkę na dwie grupy ze względu na płeć (kolumna ``sex'') i narysować dla nich:\n",
    "<ul>\n",
    "<li>wykres w kształcie szeregu czasowego</li>\n",
    "<li>histogramy</li>\n",
    "<li>estymacje gęstości</li>\n",
    "<li>dystrybuanty empiryczne</li>\n",
    "<li>wykresy pudełkowe</li>\n",
    "<li>wykresy skrzypcowe</li>\n",
    "</ul>"
   ]
  },
  {
   "cell_type": "code",
   "execution_count": 126,
   "metadata": {},
   "outputs": [
    {
     "data": {
      "image/png": "[encoded data removed]",
      "text/plain": [
       "<Figure size 640x480 with 1 Axes>"
      ]
     },
     "metadata": {},
     "output_type": "display_data"
    }
   ],
   "source": [
    "sex1 = df[df['sex'] ==1]\n",
    "sex2 = df[df['sex'] ==2]\n",
    "\n",
    "plt.scatter(np.arange(len(sex1)),sex1['Weight'])\n",
    "plt.scatter(np.arange(len(sex2)),sex2['Weight'])\n",
    "plt.ylabel('Weight')\n",
    "plt.show()"
   ]
  },
  {
   "cell_type": "code",
   "execution_count": 134,
   "metadata": {},
   "outputs": [
    {
     "data": {
      "image/png": "[encoded data removed]",
      "text/plain": [
       "<Figure size 640x480 with 1 Axes>"
      ]
     },
     "metadata": {},
     "output_type": "display_data"
    }
   ],
   "source": [
    "import seaborn as sns\n",
    "\n",
    "sns.kdeplot(sex1['Weight'], label = 'female')\n",
    "sns.kdeplot(sex2['Weight'], label = 'male')\n",
    "plt.legend()\n",
    "plt.show()"
   ]
  },
  {
   "cell_type": "code",
   "execution_count": 132,
   "metadata": {},
   "outputs": [
    {
     "data": {
      "image/png": "[encoded data removed]",
      "text/plain": [
       "<Figure size 640x480 with 1 Axes>"
      ]
     },
     "metadata": {},
     "output_type": "display_data"
    }
   ],
   "source": [
    "plt.hist(sex2['Weight'], label = 'male')\n",
    "plt.hist(sex1['Weight'], label = 'female')\n",
    "plt.legend()\n",
    "plt.show()"
   ]
  },
  {
   "cell_type": "code",
   "execution_count": 135,
   "metadata": {},
   "outputs": [
    {
     "data": {
      "image/png": "[encoded data removed]",
      "text/plain": [
       "<Figure size 640x480 with 1 Axes>"
      ]
     },
     "metadata": {},
     "output_type": "display_data"
    }
   ],
   "source": [
    "from scipy import stats\n",
    "plt.plot(stats.cumfreq(sex2['Weight'])[0])\n",
    "plt.plot(stats.cumfreq(sex1['Weight'])[0])\n",
    "plt.show()"
   ]
  },
  {
   "cell_type": "code",
   "execution_count": 139,
   "metadata": {},
   "outputs": [
    {
     "data": {
      "image/png": "[encoded data removed]",
      "text/plain": [
       "<Figure size 1000x500 with 2 Axes>"
      ]
     },
     "metadata": {},
     "output_type": "display_data"
    }
   ],
   "source": [
    "fig, axes = plt.subplots(nrows=1, ncols=2, figsize=(10, 5))\n",
    "axes[0].boxplot(sex2['Weight'])\n",
    "axes[0].set_title('Male')\n",
    "\n",
    "axes[1].boxplot(sex1['Weight'])\n",
    "axes[1].set_title('Female')\n",
    "plt.show()"
   ]
  },
  {
   "cell_type": "code",
   "execution_count": 140,
   "metadata": {},
   "outputs": [
    {
     "data": {
      "image/png": "[encoded data removed]",
      "text/plain": [
       "<Figure size 1000x500 with 2 Axes>"
      ]
     },
     "metadata": {},
     "output_type": "display_data"
    }
   ],
   "source": [
    "fig, axes = plt.subplots(nrows=1, ncols=2, figsize=(10, 5))\n",
    " \n",
    "axes[0].violinplot(sex2['Weight'])\n",
    "axes[0].set_title('Male')\n",
    " \n",
    "axes[1].violinplot(sex1['Weight'])\n",
    "axes[1].set_title('Female')\n",
    "plt.show()"
   ]
  },
  {
   "cell_type": "markdown",
   "metadata": {},
   "source": [
    "# Zadanie 9\n",
    "\n",
    "\n",
    "## Reguła Trzech Sigm\n",
    "Reguła Trzech Sigm dla danego rozkładu normalnego $N(mean,\\sigma)$ oznacza, że w przedziale $[mean-3\\sigma,mean+3\\sigma]$ znajduje się 99.7\\% wszystkich obserwacji.\n",
    "\n",
    "Napisz program, który:\n",
    "\n",
    "  * rysuje gęstość rozkładu normalnego o zadanych parametrach $mean$ i $\\sigma$,\n",
    "  * wylicza pole pod krzywą\n",
    "  * zaznacza obszar po krzywą\n",
    "\n",
    "Policz prawdopodobieństwa:\n",
    "\n",
    "  * $P(X \\in [mean-\\sigma,mean+\\sigma])$\n",
    "  * $P(X \\in [mean-2\\sigma,mean+2\\sigma])$\n",
    "  * $P(X \\in [mean-3\\sigma,mean+3\\sigma])$\n",
    "\n"
   ]
  },
  {
   "cell_type": "code",
   "execution_count": 1,
   "metadata": {},
   "outputs": [
    {
     "data": {
      "image/png": "[encoded data removed]",
      "text/plain": [
       "<Figure size 640x480 with 1 Axes>"
      ]
     },
     "metadata": {},
     "output_type": "display_data"
    },
    {
     "data": {
      "image/png": "[encoded data removed]",
      "text/plain": [
       "<Figure size 640x480 with 1 Axes>"
      ]
     },
     "metadata": {},
     "output_type": "display_data"
    },
    {
     "data": {
      "image/png": "[encoded data removed]",
      "text/plain": [
       "<Figure size 640x480 with 1 Axes>"
      ]
     },
     "metadata": {},
     "output_type": "display_data"
    }
   ],
   "source": [
    "import matplotlib.pyplot as plt\n",
    "import numpy as np\n",
    "import scipy.stats as stats\n",
    "\n",
    "mu = 0\n",
    "sigma = 1\n",
    "x = np.linspace(mu - 3*sigma, mu + 3*sigma, 100)\n",
    "pdf = stats.norm.pdf(x, mu, sigma)\n",
    "for i in range (1,4):\n",
    "    area = stats.norm.cdf(i*sigma, mu, sigma) - stats.norm.cdf(-i*sigma, mu, sigma) \n",
    "    p = plt.plot(x, pdf)\n",
    "    plt.fill_between(x,pdf,where = (x >= -i*sigma) & (x <= i*sigma), alpha=0.5, color='pink')\n",
    "    plt.text(-0.2,0.1,round(area,3))\n",
    "    plt.show()"
   ]
  },
  {
   "cell_type": "code",
   "execution_count": null,
   "metadata": {
    "collapsed": true,
    "jupyter": {
     "outputs_hidden": true
    }
   },
   "outputs": [],
   "source": []
  }
 ],
 "metadata": {
  "kernelspec": {
   "display_name": "Python 3 (ipykernel)",
   "language": "python",
   "name": "python3"
  },
  "language_info": {
   "codemirror_mode": {
    "name": "ipython",
    "version": 3
   },
   "file_extension": ".py",
   "mimetype": "text/x-python",
   "name": "python",
   "nbconvert_exporter": "python",
   "pygments_lexer": "ipython3",
   "version": "3.9.13"
  }
 },
 "nbformat": 4,
 "nbformat_minor": 4
}
